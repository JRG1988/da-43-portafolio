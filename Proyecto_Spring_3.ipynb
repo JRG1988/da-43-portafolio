{
 "cells": [
  {
   "cell_type": "markdown",
   "metadata": {},
   "source": [
    "# ¡Hola Julian! 😊\n",
    "\n",
    "Mi nombre es **Alejandro Castellanos** y hoy tengo el placer de ser el revisor de tu proyecto.\n",
    "\n",
    "Voy a revisar todo tu código con detalle, buscando tanto los puntos fuertes como aquellos en los que podrías mejorar. Te dejaré comentarios a lo largo del notebook, destacando lo que has hecho bien y sugiriendo ajustes donde sea necesario. Si encuentro algún error, no te preocupes, te lo haré saber de forma clara y te daré información útil para que puedas corregirlo en la próxima iteración. Si en algún punto tienes comentarios, siéntete libre de dejarlos también.\n",
    "\n",
    "\n",
    "Encontrarás mis comentarios específicos dentro de cajas verdes, amarillas o rojas, es muy importante que no muevas, modifiques o borres mis comentarios, con el fin de tener un seguimiento adecuado de tu proceso:\n",
    "\n",
    "\n",
    "<div class=\"alert alert-block alert-success\">\n",
    "<b>Comentario del revisor</b> <a class=“tocSkip”></a>\n",
    "Si todo está perfecto.\n",
    "</div>\n",
    "\n",
    "<div class=\"alert alert-block alert-warning\">\n",
    "<b>Comentario del revisor</b> <a class=“tocSkip”></a>\n",
    "Si tu código está bien pero se puede mejorar o hay algún detalle que le hace falta.\n",
    "</div>\n",
    "\n",
    "<div class=\"alert alert-block alert-danger\">\n",
    "<b>Comentario del revisor</b> <a class=“tocSkip”></a>\n",
    "Si de pronto hace falta algo o existe algún problema con tu código o conclusiones.\n",
    "</div>\n",
    "\n",
    "Puedes responderme de esta forma:\n",
    "<div class=\"alert alert-block alert-info\">\n",
    "<b>Respuesta del estudiante</b> <a class=“tocSkip”></a>\n",
    "</div>\n",
    "\n",
    "A continuación te dejaré un comentario general con mi valoración del proyecto. **¡Mi objetivo es que sigas aprendiendo y mejorando con cada paso!**"
   ]
  },
  {
   "cell_type": "markdown",
   "metadata": {},
   "source": [
    "---"
   ]
  },
  {
   "cell_type": "markdown",
   "metadata": {},
   "source": [
    "<div class=\"alert alert-block alert-warning\">\n",
    "<b>Comentario General del revisor (1ra Iteración)</b> <a class=“tocSkip”></a>\n",
    "\n",
    "Julian has hecho un gran trabajo en este proyecto. Tu análisis exploratorio de datos fue realmente sobresaliente, demostrando una notable capacidad para examinar y ajustar la información de acuerdo con las indicaciones propuestas.\n",
    "    \n",
    "No obstante, tu código presenta problemas ya que en un punto vuelve a cargar los datos, esto hace que todos los ajustes que habias implementado se pierdan y, por ejemplo, los nombres de las columnas no correspondan. Asegurate de cargar los datos una única vez, al inicio del notebook y trabaja con este dataset.\n",
    "    \n",
    "¡No te preocupes! Cada ajuste que haces es una oportunidad para aprender y mejorar. Vas por buen camino, y estoy seguro de que en la siguiente versión harás un gran trabajo y lograrás completar el proyecto con éxito. ¡Sigue adelante! . \n",
    "\n",
    "Estaré atento a tu próxima iteración 👀\n",
    "\n",
    "*Estado del proyecto:* **No Aprobado** \n",
    "\n",
    "</div>"
   ]
  },
  {
   "cell_type": "markdown",
   "metadata": {},
   "source": [
    "---"
   ]
  },
  {
   "cell_type": "markdown",
   "metadata": {
    "id": "E0vqbgi9ay0H"
   },
   "source": [
    "# Déjame escuchar la música"
   ]
  },
  {
   "cell_type": "markdown",
   "metadata": {
    "id": "fhq_eyov_Zcs"
   },
   "source": [
    "# Contenido <a id='back'></a>\n",
    "\n",
    "* [Introducción](#intro)\n",
    "* [Etapa 1. Descripción de los datos](#data_review)\n",
    "    * [Conclusiones](#data_review_conclusions)\n",
    "* [Etapa 2. Preprocesamiento de datos](#data_preprocessing)\n",
    "    * [2.1 Estilo del encabezado](#header_style)\n",
    "    * [2.2 Valores ausentes](#missing_values)\n",
    "    * [2.3 Duplicados](#duplicates)\n",
    "    * [2.4 Conclusiones](#data_preprocessing_conclusions)\n",
    "* [Etapa 3. Prueba de hipótesis](#hypothesis)\n",
    "    * [3.1 Hipótesis 1: actividad de los usuarios y las usuarias en las dos ciudades](#activity)\n",
    "* [Conclusiones](#end)"
   ]
  },
  {
   "cell_type": "markdown",
   "metadata": {
    "id": "VUC88oWjTJw2"
   },
   "source": [
    "## Introducción <a id='intro'></a>\n",
    "Como analista de datos, tu trabajo consiste en analizar datos para extraer información valiosa y tomar decisiones basadas en ellos. Esto implica diferentes etapas, como la descripción general de los datos, el preprocesamiento y la prueba de hipótesis.\n",
    "\n",
    "Siempre que investigamos, necesitamos formular hipótesis que después podamos probar. A veces aceptamos estas hipótesis; otras veces, las rechazamos. Para tomar las decisiones correctas, una empresa debe ser capaz de entender si está haciendo las suposiciones correctas.\n",
    "\n",
    "En este proyecto, compararás las preferencias musicales de las ciudades de Springfield y Shelbyville. Estudiarás datos reales de transmisión de música online para probar la hipótesis a continuación y comparar el comportamiento de los usuarios y las usuarias de estas dos ciudades.\n",
    "\n",
    "### Objetivo:\n",
    "Prueba la hipótesis:\n",
    "1. La actividad de los usuarios y las usuarias difiere según el día de la semana y dependiendo de la ciudad.\n",
    "\n",
    "\n",
    "### Etapas\n",
    "Los datos del comportamiento del usuario se almacenan en el archivo `/datasets/music_project_en.csv`. No hay ninguna información sobre la calidad de los datos, así que necesitarás examinarlos antes de probar la hipótesis.\n",
    "\n",
    "Primero, evaluarás la calidad de los datos y verás si los problemas son significativos. Entonces, durante el preprocesamiento de datos, tomarás en cuenta los problemas más críticos.\n",
    "\n",
    "Tu proyecto consistirá en tres etapas:\n",
    " 1. Descripción de los datos.\n",
    " 2. Preprocesamiento de datos.\n",
    " 3. Prueba de hipótesis.\n",
    "\n",
    "\n",
    "\n",
    "\n",
    "\n",
    "\n"
   ]
  },
  {
   "cell_type": "markdown",
   "metadata": {
    "id": "hDt6pg-Rw-1U"
   },
   "source": [
    "[Volver a Contenidos](#back)"
   ]
  },
  {
   "cell_type": "markdown",
   "metadata": {
    "id": "Ml1hmfXC_Zcs"
   },
   "source": [
    "## Etapa 1. Descripción de los datos <a id='data_review'></a>\n",
    "\n",
    "Abre los datos y examínalos."
   ]
  },
  {
   "cell_type": "markdown",
   "metadata": {
    "id": "57eAOGIz_Zcs"
   },
   "source": [
    "Necesitarás `pandas`, así que impórtalo."
   ]
  },
  {
   "cell_type": "code",
   "execution_count": 8,
   "metadata": {
    "id": "AXN7PHPN_Zcs"
   },
   "outputs": [],
   "source": [
    "# Importar pandas\n",
    "import pandas as pd"
   ]
  },
  {
   "cell_type": "markdown",
   "metadata": {
    "id": "SG23P8tt_Zcs"
   },
   "source": [
    "Lee el archivo `music_project_en.csv` de la carpeta `/datasets/` y guárdalo en la variable `df`:"
   ]
  },
  {
   "cell_type": "code",
   "execution_count": 9,
   "metadata": {
    "id": "fFVu7vqh_Zct"
   },
   "outputs": [],
   "source": [
    "# Leer el archivo y almacenarlo en df\n",
    "df = pd.read_csv('/datasets/music_project_en.csv')"
   ]
  },
  {
   "cell_type": "markdown",
   "metadata": {
    "id": "rDoOMd3uTqnZ"
   },
   "source": [
    "Muestra las 10 primeras filas de la tabla:"
   ]
  },
  {
   "cell_type": "code",
   "execution_count": 11,
   "metadata": {
    "id": "oWTVX3gW_Zct"
   },
   "outputs": [
    {
     "data": {
      "text/html": [
       "<div>\n",
       "<style scoped>\n",
       "    .dataframe tbody tr th:only-of-type {\n",
       "        vertical-align: middle;\n",
       "    }\n",
       "\n",
       "    .dataframe tbody tr th {\n",
       "        vertical-align: top;\n",
       "    }\n",
       "\n",
       "    .dataframe thead th {\n",
       "        text-align: right;\n",
       "    }\n",
       "</style>\n",
       "<table border=\"1\" class=\"dataframe\">\n",
       "  <thead>\n",
       "    <tr style=\"text-align: right;\">\n",
       "      <th></th>\n",
       "      <th>userID</th>\n",
       "      <th>Track</th>\n",
       "      <th>artist</th>\n",
       "      <th>genre</th>\n",
       "      <th>City</th>\n",
       "      <th>time</th>\n",
       "      <th>Day</th>\n",
       "    </tr>\n",
       "  </thead>\n",
       "  <tbody>\n",
       "    <tr>\n",
       "      <th>0</th>\n",
       "      <td>FFB692EC</td>\n",
       "      <td>Kamigata To Boots</td>\n",
       "      <td>The Mass Missile</td>\n",
       "      <td>rock</td>\n",
       "      <td>Shelbyville</td>\n",
       "      <td>20:28:33</td>\n",
       "      <td>Wednesday</td>\n",
       "    </tr>\n",
       "    <tr>\n",
       "      <th>1</th>\n",
       "      <td>55204538</td>\n",
       "      <td>Delayed Because of Accident</td>\n",
       "      <td>Andreas Rönnberg</td>\n",
       "      <td>rock</td>\n",
       "      <td>Springfield</td>\n",
       "      <td>14:07:09</td>\n",
       "      <td>Friday</td>\n",
       "    </tr>\n",
       "    <tr>\n",
       "      <th>2</th>\n",
       "      <td>20EC38</td>\n",
       "      <td>Funiculì funiculà</td>\n",
       "      <td>Mario Lanza</td>\n",
       "      <td>pop</td>\n",
       "      <td>Shelbyville</td>\n",
       "      <td>20:58:07</td>\n",
       "      <td>Wednesday</td>\n",
       "    </tr>\n",
       "    <tr>\n",
       "      <th>3</th>\n",
       "      <td>A3DD03C9</td>\n",
       "      <td>Dragons in the Sunset</td>\n",
       "      <td>Fire + Ice</td>\n",
       "      <td>folk</td>\n",
       "      <td>Shelbyville</td>\n",
       "      <td>08:37:09</td>\n",
       "      <td>Monday</td>\n",
       "    </tr>\n",
       "    <tr>\n",
       "      <th>4</th>\n",
       "      <td>E2DC1FAE</td>\n",
       "      <td>Soul People</td>\n",
       "      <td>Space Echo</td>\n",
       "      <td>dance</td>\n",
       "      <td>Springfield</td>\n",
       "      <td>08:34:34</td>\n",
       "      <td>Monday</td>\n",
       "    </tr>\n",
       "    <tr>\n",
       "      <th>5</th>\n",
       "      <td>842029A1</td>\n",
       "      <td>Chains</td>\n",
       "      <td>Obladaet</td>\n",
       "      <td>rusrap</td>\n",
       "      <td>Shelbyville</td>\n",
       "      <td>13:09:41</td>\n",
       "      <td>Friday</td>\n",
       "    </tr>\n",
       "    <tr>\n",
       "      <th>6</th>\n",
       "      <td>4CB90AA5</td>\n",
       "      <td>True</td>\n",
       "      <td>Roman Messer</td>\n",
       "      <td>dance</td>\n",
       "      <td>Springfield</td>\n",
       "      <td>13:00:07</td>\n",
       "      <td>Wednesday</td>\n",
       "    </tr>\n",
       "    <tr>\n",
       "      <th>7</th>\n",
       "      <td>F03E1C1F</td>\n",
       "      <td>Feeling This Way</td>\n",
       "      <td>Polina Griffith</td>\n",
       "      <td>dance</td>\n",
       "      <td>Springfield</td>\n",
       "      <td>20:47:49</td>\n",
       "      <td>Wednesday</td>\n",
       "    </tr>\n",
       "    <tr>\n",
       "      <th>8</th>\n",
       "      <td>8FA1D3BE</td>\n",
       "      <td>L’estate</td>\n",
       "      <td>Julia Dalia</td>\n",
       "      <td>ruspop</td>\n",
       "      <td>Springfield</td>\n",
       "      <td>09:17:40</td>\n",
       "      <td>Friday</td>\n",
       "    </tr>\n",
       "    <tr>\n",
       "      <th>9</th>\n",
       "      <td>E772D5C0</td>\n",
       "      <td>Pessimist</td>\n",
       "      <td>NaN</td>\n",
       "      <td>dance</td>\n",
       "      <td>Shelbyville</td>\n",
       "      <td>21:20:49</td>\n",
       "      <td>Wednesday</td>\n",
       "    </tr>\n",
       "  </tbody>\n",
       "</table>\n",
       "</div>"
      ],
      "text/plain": [
       "     userID                        Track            artist   genre  \\\n",
       "0  FFB692EC            Kamigata To Boots  The Mass Missile    rock   \n",
       "1  55204538  Delayed Because of Accident  Andreas Rönnberg    rock   \n",
       "2    20EC38            Funiculì funiculà       Mario Lanza     pop   \n",
       "3  A3DD03C9        Dragons in the Sunset        Fire + Ice    folk   \n",
       "4  E2DC1FAE                  Soul People        Space Echo   dance   \n",
       "5  842029A1                       Chains          Obladaet  rusrap   \n",
       "6  4CB90AA5                         True      Roman Messer   dance   \n",
       "7  F03E1C1F             Feeling This Way   Polina Griffith   dance   \n",
       "8  8FA1D3BE                     L’estate       Julia Dalia  ruspop   \n",
       "9  E772D5C0                    Pessimist               NaN   dance   \n",
       "\n",
       "        City        time        Day  \n",
       "0  Shelbyville  20:28:33  Wednesday  \n",
       "1  Springfield  14:07:09     Friday  \n",
       "2  Shelbyville  20:58:07  Wednesday  \n",
       "3  Shelbyville  08:37:09     Monday  \n",
       "4  Springfield  08:34:34     Monday  \n",
       "5  Shelbyville  13:09:41     Friday  \n",
       "6  Springfield  13:00:07  Wednesday  \n",
       "7  Springfield  20:47:49  Wednesday  \n",
       "8  Springfield  09:17:40     Friday  \n",
       "9  Shelbyville  21:20:49  Wednesday  "
      ]
     },
     "execution_count": 11,
     "metadata": {},
     "output_type": "execute_result"
    }
   ],
   "source": [
    "# Obtener las 10 primeras filas de la tabla df\n",
    "df.head(10)"
   ]
  },
  {
   "cell_type": "markdown",
   "metadata": {
    "id": "EO73Kwic_Zct"
   },
   "source": [
    "Obtén la información general sobre la tabla con un comando. Conoces el método que muestra la información general que necesitamos."
   ]
  },
  {
   "cell_type": "code",
   "execution_count": 12,
   "metadata": {
    "id": "DSf2kIb-_Zct"
   },
   "outputs": [
    {
     "name": "stdout",
     "output_type": "stream",
     "text": [
      "<class 'pandas.core.frame.DataFrame'>\n",
      "RangeIndex: 65079 entries, 0 to 65078\n",
      "Data columns (total 7 columns):\n",
      " #   Column    Non-Null Count  Dtype \n",
      "---  ------    --------------  ----- \n",
      " 0     userID  65079 non-null  object\n",
      " 1   Track     63736 non-null  object\n",
      " 2   artist    57512 non-null  object\n",
      " 3   genre     63881 non-null  object\n",
      " 4     City    65079 non-null  object\n",
      " 5   time      65079 non-null  object\n",
      " 6   Day       65079 non-null  object\n",
      "dtypes: object(7)\n",
      "memory usage: 3.5+ MB\n"
     ]
    }
   ],
   "source": [
    "# Obtener la información general sobre nuestros datos\n",
    "df.info()"
   ]
  },
  {
   "cell_type": "markdown",
   "metadata": {
    "id": "TaQ2Iwbr_Zct"
   },
   "source": [
    "Estas son nuestras observaciones sobre la tabla. Contiene siete columnas. Almacenan los mismos tipos de datos: `object`.\n",
    "\n",
    "Según la documentación:\n",
    "- `' userID'`: identificador del usuario o la usuaria;\n",
    "- `'Track'`: título de la canción;\n",
    "- `'artist'`: nombre del artista;\n",
    "- `'genre'`: género de la pista;\n",
    "- `'City'`: ciudad del usuario o la usuaria;\n",
    "- `'time'`: la hora exacta en la que se reprodujo la canción;\n",
    "- `'Day'`: día de la semana.\n",
    "\n",
    "Podemos ver tres problemas con el estilo en los encabezados de la tabla:\n",
    "1. Algunos encabezados están en mayúsculas, otros en minúsculas.\n",
    "2. Hay espacios en algunos encabezados.\n",
    "3. `Detecta el tercer problema por tu cuenta y descríbelo aquí`Según veo uno de los principales problemas es la inconsistencia en el formato de capitalización de los encabezados: algunos usan camelCase (por ejemplo, 'userID') mientras que otros están en minúsculas o capitalizados de forma diferente (por ejemplo, 'artist', 'Track'), lo que impide un acceso homogéneo a las columnas.\n",
    "\n",
    "\n"
   ]
  },
  {
   "cell_type": "markdown",
   "metadata": {
    "id": "MCB6-dXG_Zct"
   },
   "source": [
    "### Escribe observaciones de tu parte. Estas son algunas de las preguntas que pueden ser útiles: <a id='data_review_conclusions'></a>\n",
    "\n",
    "`1.   ¿Qué tipo de datos tenemos a nuestra disposición en las filas? El tipo de datos de todas las filas es object. sin embargo, time puede convertirse a datetime64[ns] en un DataFrame con múltiples filas. Cabe aclarar que mi afirmación se basa en las primeras 10 filas y en lo que df.info() me arrojó, pero con base en las 10 primeras filas. \n",
    "\n",
    "¿Y cómo podemos entender lo que almacenan las columnas?`Son 7 columnas que en términos generales resumen la información que se necesita: identificación de usuario, artista, canción, género, ciudad, hora de reproducción y el día. Teniendo en cuenta que el objetivo es probar una hipótesis relacionada con las preferencias musicales de las ciudades (Springfield y Shelbyville), la información cumple hasta cierta medida con los requesitos, ya que tanto género como día y ciudad son para mí las más importantes. Sin embargo, creo que haría falta otra columna como \"Total Play\", esta columna me permitiría saber la cantidad de tiempo (en segundos o minutos) que el usuario reprodujo una canción o música del artista en general. Al final, esto ayudaría a hacer un análisis más completos sobre la cantidad de tiempo que se escucha un género, una canción o un artista en cada ciudad. \n",
    "\n",
    "`2.   ¿Hay suficientes datos para proporcionar respuestas a nuestra hipótesis o necesitamos más información?`Como explique en el párrafo anterior creo que haría falta una columna de \"Total play\" para saber cuánto tiempo se escucha un género, una canción o un artista. Sin embargo, para poder llegar a la hipótesis sobre la diferencia en la actividad según el día de la semana y la ciudad, los datos que arroja la tabla ('City', 'Day', 'time' y 'genre') son suficientes. Todala información que estpy dando es con base en las primeras 10 filas según la celda o el punto 3.\n",
    "\n",
    "`3.   ¿Notaste algún problema en los datos, como valores ausentes, duplicados o tipos de datos incorrectos?`Teniendo en cuenta que que con df.head(10) saque las primeras 10 filas veo lo siguiente el género que más se repite es dance, hay un valor ausente en artist; los días que más se repiten son lunes, miércoles y viernes; los géneros más escuchados son rock y dance. Encuanto a los duplicados, no veo duplicados en las primeras 10 filas pero habría que usar df.duplicated().sum() para confirmarlo."
   ]
  },
  {
   "cell_type": "markdown",
   "metadata": {
    "id": "3eL__vcwViOi"
   },
   "source": [
    "[Volver a Contenidos](#back)"
   ]
  },
  {
   "cell_type": "markdown",
   "metadata": {},
   "source": [
    "<div class=\"alert alert-block alert-success\">\n",
    "<b>Comentario del revisor (1ra Iteración)</b> <a class=“tocSkip”></a>\n",
    "\n",
    "¡Excelente trabajo al importar la librería `pandas` y cargar el dataset del proyecto! Además, has hecho un muy buen uso de la función `info`. En cuanto a la función `head`, te recomiendo no utilizarla dentro de un `print`, ya que esto elimina las ventajas visuales que ofrecen los notebooks de Jupyter. En su lugar, basta con usar `df.head()` directamente.\n",
    "    \n",
    "    \n",
    "Por otro lado, tus observaciones sobre los datos son muy acertadas, esto te permitirá organizar tus ideas de forma clara y tener una visión estructurada del trabajo que realizarás con los datos. Esta estrategia te ayudará a mantener el foco y avanzar de manera eficiente hacia tus objetivos. \n",
    "\n",
    "</div>"
   ]
  },
  {
   "cell_type": "markdown",
   "metadata": {
    "id": "SjYF6Ub9_Zct"
   },
   "source": [
    "## Etapa 2. Preprocesamiento de datos <a id='data_preprocessing'></a>\n",
    "\n",
    "El objetivo aquí es preparar los datos para que sean analizados.\n",
    "El primer paso es resolver cualquier problema con los encabezados. Luego podemos avanzar a los valores ausentes y duplicados. Empecemos.\n",
    "\n",
    "Corrige el formato en los encabezados de la tabla.\n"
   ]
  },
  {
   "cell_type": "markdown",
   "metadata": {
    "id": "dIaKXr29_Zct"
   },
   "source": [
    "### Estilo del encabezado <a id='header_style'></a>\n",
    "Muestra los encabezados de la tabla (los nombres de las columnas):"
   ]
  },
  {
   "cell_type": "code",
   "execution_count": 14,
   "metadata": {
    "id": "oKOTdF_Q_Zct"
   },
   "outputs": [
    {
     "name": "stdout",
     "output_type": "stream",
     "text": [
      "Index(['  userID', 'Track', 'artist', 'genre', '  City  ', 'time', 'Day'], dtype='object')\n"
     ]
    }
   ],
   "source": [
    "# Muestra los nombres de las columnas\n",
    "print(df.columns)"
   ]
  },
  {
   "cell_type": "markdown",
   "metadata": {
    "id": "zj5534cv_Zct"
   },
   "source": [
    "Cambia los encabezados de la tabla de acuerdo con las reglas del buen estilo:\n",
    "* Todos los caracteres deben ser minúsculas.\n",
    "* Elimina los espacios.\n",
    "* Si el nombre tiene varias palabras, utiliza snake_case."
   ]
  },
  {
   "cell_type": "markdown",
   "metadata": {
    "id": "Xu0zkfe5zNJe"
   },
   "source": [
    "Anteriormente, aprendiste acerca de la forma automática de cambiar el nombre de las columnas. Vamos a aplicarla ahora. Utiliza el bucle for para iterar sobre los nombres de las columnas y poner todos los caracteres en minúsculas. Cuando hayas terminado, vuelve a mostrar los encabezados de la tabla:"
   ]
  },
  {
   "cell_type": "code",
   "execution_count": 15,
   "metadata": {
    "id": "6I_RwwMhzM4e"
   },
   "outputs": [
    {
     "name": "stdout",
     "output_type": "stream",
     "text": [
      "['  userid', 'track', 'artist', 'genre', '  city  ', 'time', 'day']\n"
     ]
    }
   ],
   "source": [
    "# Bucle en los encabezados poniendo todo en minúsculas  \n",
    "Columns = ['  userID', 'Track', 'artist', 'genre', '  City  ', 'time', 'Day']  \n",
    "columns_low = []  \n",
    "  \n",
    "for col in Columns:  \n",
    "    columns_low.append(col.lower())  \n",
    "\n",
    "print(columns_low)"
   ]
  },
  {
   "cell_type": "markdown",
   "metadata": {
    "id": "pweIRxjSzPYW"
   },
   "source": [
    "Ahora, utilizando el mismo método, elimina los espacios al principio y al final de los nombres de las columnas e imprime los nombres de las columnas nuevamente:"
   ]
  },
  {
   "cell_type": "code",
   "execution_count": 16,
   "metadata": {
    "id": "vVQXbFyJzSYl"
   },
   "outputs": [
    {
     "name": "stdout",
     "output_type": "stream",
     "text": [
      "['userid', 'track', 'artist', 'genre', 'city', 'time', 'day']\n"
     ]
    }
   ],
   "source": [
    "# Bucle en los encabezados eliminando los espacios\n",
    "Columns = ['  userID', 'Track', 'artist', 'genre', '  City  ', 'time', 'Day']  \n",
    " \n",
    "columns_cleaned = [col.lower().strip() for col in Columns]  \n",
    " \n",
    "print(columns_cleaned) "
   ]
  },
  {
   "cell_type": "markdown",
   "metadata": {
    "id": "yCb8MW1JzURd"
   },
   "source": [
    "Necesitamos aplicar la regla de snake_case a la columna `userid`. Debe ser `user_id`. Cambia el nombre de esta columna y muestra los nombres de todas las columnas cuando hayas terminado."
   ]
  },
  {
   "cell_type": "code",
   "execution_count": 18,
   "metadata": {
    "id": "ISlFqs5y_Zct"
   },
   "outputs": [
    {
     "name": "stdout",
     "output_type": "stream",
     "text": [
      "['user_id', 'track', 'artist', 'genre', 'city', 'time', 'day']\n"
     ]
    }
   ],
   "source": [
    "# Cambiar el nombre de la columna \"userid\"\n",
    "columns_cleaned = ['user_id' if col == 'userid' else col for col in columns_cleaned]  \n",
    "  \n",
    "print(columns_cleaned)  "
   ]
  },
  {
   "cell_type": "markdown",
   "metadata": {
    "id": "1dqbh00J_Zct"
   },
   "source": [
    "Comprueba el resultado. Muestra los encabezados una vez más:"
   ]
  },
  {
   "cell_type": "code",
   "execution_count": 19,
   "metadata": {
    "id": "d4NOAmTW_Zct"
   },
   "outputs": [
    {
     "name": "stdout",
     "output_type": "stream",
     "text": [
      "Encabezados después de las transformaciones:\n",
      "Index(['user_id', 'track', 'artist', 'genre', 'city', 'time', 'day'], dtype='object')\n"
     ]
    }
   ],
   "source": [
    "# Comprobar el resultado: la lista de encabezados\n",
    "df.columns = columns_cleaned   \n",
    "df.rename(columns={'userid': 'user_id'}, inplace=True)\n",
    "\n",
    "print(\"Encabezados después de las transformaciones:\")\n",
    "print(df.columns)"
   ]
  },
  {
   "cell_type": "markdown",
   "metadata": {},
   "source": [
    "<div class=\"alert alert-block alert-success\">\n",
    "<b>Comentario del revisor (1ra Iteración)</b> <a class=“tocSkip”></a>\n",
    "\n",
    "Excelente trabajo ajustando el estilo de los encabezados del dataset. Esta tarea es esencial para garantizar claridad y consistencia en el análisis de datos. Además, facilita la manipulación y reduce errores al trabajar con información estructurada.\n",
    "\n",
    "</div>"
   ]
  },
  {
   "cell_type": "markdown",
   "metadata": {
    "id": "xYJk6ksJVpOl"
   },
   "source": [
    "[Volver a Contenidos](#back)"
   ]
  },
  {
   "cell_type": "markdown",
   "metadata": {
    "id": "5ISfbcfY_Zct"
   },
   "source": [
    "### Valores ausentes <a id='missing_values'></a>\n",
    " Primero, encuentra el número de valores ausentes en la tabla. Debes utilizar dos métodos en una secuencia para obtener el número de valores ausentes."
   ]
  },
  {
   "cell_type": "code",
   "execution_count": 10,
   "metadata": {
    "id": "RskX29qr_Zct"
   },
   "outputs": [
    {
     "name": "stdout",
     "output_type": "stream",
     "text": [
      "Valores ausentes por columna:\n",
      "user_id       0\n",
      "track      1343\n",
      "artist     7567\n",
      "genre      1198\n",
      "city          0\n",
      "time          0\n",
      "day           0\n",
      "dtype: int64\n",
      "Total de valores ausentes en la tabla: 10108\n"
     ]
    }
   ],
   "source": [
    "# Calcular el número de valores ausentes\n",
    "missing_por_columna = df.isna().sum()\n",
    "print(\"Valores ausentes por columna:\")\n",
    "print(missing_por_columna)\n",
    "\n",
    "# Calcular el número total de valores ausentes en toda la tabla\n",
    "total_missing = df.isna().sum().sum()\n",
    "print(\"Total de valores ausentes en la tabla:\", total_missing)"
   ]
  },
  {
   "cell_type": "markdown",
   "metadata": {
    "id": "qubhgnlO_Zct"
   },
   "source": [
    "No todos los valores ausentes afectan a la investigación. Por ejemplo, los valores ausentes en `track` y `artist` no son cruciales. Simplemente puedes reemplazarlos con valores predeterminados como el string `'unknown'` (desconocido).\n",
    "\n",
    "Pero los valores ausentes en `'genre'` pueden afectar la comparación entre las preferencias musicales de Springfield y Shelbyville. En la vida real, sería útil saber las razones por las cuales hay datos ausentes e intentar recuperarlos. Pero no tenemos esa oportunidad en este proyecto. Así que tendrás que:\n",
    "* rellenar estos valores ausentes con un valor predeterminado;\n",
    "* evaluar cuánto podrían afectar los valores ausentes a tus cómputos;"
   ]
  },
  {
   "cell_type": "markdown",
   "metadata": {
    "id": "fSv2laPA_Zct"
   },
   "source": [
    "Reemplazar los valores ausentes en las columnas `'track'`, `'artist'` y `'genre'` con el string `'unknown'`. Como mostramos anteriormente en las lecciones, la mejor forma de hacerlo es crear una lista que almacene los nombres de las columnas donde se necesita el reemplazo. Luego, utiliza esta lista e itera sobre las columnas donde se necesita el reemplazo haciendo el propio reemplazo."
   ]
  },
  {
   "cell_type": "code",
   "execution_count": 11,
   "metadata": {
    "id": "KplB5qWs_Zct"
   },
   "outputs": [
    {
     "name": "stdout",
     "output_type": "stream",
     "text": [
      "user_id    0\n",
      "track      0\n",
      "artist     0\n",
      "genre      0\n",
      "city       0\n",
      "time       0\n",
      "day        0\n",
      "dtype: int64\n"
     ]
    }
   ],
   "source": [
    "# Bucle en los encabezados reemplazando los valores ausentes con 'unknown'\n",
    "columns_to_fill = ['track', 'artist', 'genre']\n",
    "\n",
    "for col in columns_to_fill:\n",
    "    df[col] = df[col].fillna('unknown')\n",
    "\n",
    "print(df.isna().sum())"
   ]
  },
  {
   "cell_type": "markdown",
   "metadata": {
    "id": "Ilsm-MZo_Zct"
   },
   "source": [
    "Ahora comprueba el resultado para asegurarte de que después del reemplazo no haya valores ausentes en el conjunto de datos. Para hacer esto, cuenta los valores ausentes nuevamente."
   ]
  },
  {
   "cell_type": "code",
   "execution_count": 12,
   "metadata": {
    "id": "Tq4nYRX4_Zct"
   },
   "outputs": [
    {
     "name": "stdout",
     "output_type": "stream",
     "text": [
      "track     0\n",
      "artist    0\n",
      "genre     0\n",
      "dtype: int64\n"
     ]
    }
   ],
   "source": [
    "# Contar valores ausentes\n",
    "print(df[['track', 'artist', 'genre']].isna().sum())"
   ]
  },
  {
   "cell_type": "markdown",
   "metadata": {
    "id": "74ZIBmq9VrsK"
   },
   "source": [
    "[Volver a Contenidos](#back)"
   ]
  },
  {
   "cell_type": "markdown",
   "metadata": {},
   "source": [
    "<div class=\"alert alert-block alert-success\">\n",
    "<b>Comentario del revisor (1ra Iteración)</b> <a class=“tocSkip”></a>\n",
    "\n",
    "Julian buen trabajo al reemplazar los valores faltantes por `unknown` Esta práctica es fundamental para manejar datos incompletos, ya que permite evitar errores durante el análisis y mantener la integridad del dataset. Además, asignar un valor como  `unknown` asegura que los datos sean procesables y facilita identificar y manejar la información faltante en etapas posteriores.\n",
    "\n",
    "\n",
    "</div>"
   ]
  },
  {
   "cell_type": "markdown",
   "metadata": {
    "id": "BWKRtBJ3_Zct"
   },
   "source": [
    "### Duplicados <a id='duplicates'></a>\n",
    "Encuentra el número de duplicados explícitos en la tabla. Una vez más, debes aplicar dos métodos en una secuencia para obtener la cantidad de duplicados explícitos."
   ]
  },
  {
   "cell_type": "code",
   "execution_count": 13,
   "metadata": {
    "id": "36eES_S0_Zct"
   },
   "outputs": [
    {
     "name": "stdout",
     "output_type": "stream",
     "text": [
      "3826\n",
      "3826\n"
     ]
    }
   ],
   "source": [
    "# Contar duplicados explícitos\n",
    "explicit_duplicates1 = df.duplicated().sum()\n",
    "\n",
    "explicit_duplicates2 = len(df) - len(df.drop_duplicates())\n",
    "\n",
    "# Imprimir ambos resultados (deben ser iguales)\n",
    "print(explicit_duplicates1)\n",
    "print(explicit_duplicates2)"
   ]
  },
  {
   "cell_type": "markdown",
   "metadata": {
    "id": "Ot25h6XR_Zct"
   },
   "source": [
    "Ahora, elimina todos los duplicados. Para ello, llama al método que hace exactamente esto."
   ]
  },
  {
   "cell_type": "code",
   "execution_count": 14,
   "metadata": {
    "id": "exFHq6tt_Zct"
   },
   "outputs": [
    {
     "name": "stdout",
     "output_type": "stream",
     "text": [
      "Número de duplicados después de la eliminación: 0\n"
     ]
    }
   ],
   "source": [
    "# Eliminar duplicados explícitos\n",
    "df = df.drop_duplicates()\n",
    "\n",
    "# Verificar si los duplicados fueron eliminados\n",
    "num_duplicates = df.duplicated().sum()\n",
    "print(f\"Número de duplicados después de la eliminación: {num_duplicates}\")"
   ]
  },
  {
   "cell_type": "markdown",
   "metadata": {
    "id": "Im2YwBEG_Zct"
   },
   "source": [
    "Comprobemos ahora si eliminamos con éxito todos los duplicados. Cuenta los duplicados explícitos una vez más para asegurarte de haberlos eliminado todos:"
   ]
  },
  {
   "cell_type": "code",
   "execution_count": 15,
   "metadata": {
    "id": "-8PuNWQ0_Zct"
   },
   "outputs": [
    {
     "name": "stdout",
     "output_type": "stream",
     "text": [
      "Número de duplicados después de la eliminación: 0\n"
     ]
    }
   ],
   "source": [
    "# Comprobar de nuevo si hay duplicados\n",
    "\n",
    "num_duplicates = df.duplicated().sum()\n",
    "print(f\"Número de duplicados después de la eliminación: {num_duplicates}\")"
   ]
  },
  {
   "cell_type": "markdown",
   "metadata": {},
   "source": [
    "<div class=\"alert alert-block alert-success\">\n",
    "<b>Comentario del revisor (1ra Iteración)</b> <a class=“tocSkip”></a>\n",
    "\n",
    "Perfecto, has identificando y eliminando los datos duplicados. Esta tarea es esencial para garantizar la calidad del dataset, evitando sesgos y asegurando resultados más precisos en el análisis.\n",
    "\n",
    "</div>"
   ]
  },
  {
   "cell_type": "markdown",
   "metadata": {
    "id": "QlFBsxAr_Zct"
   },
   "source": [
    "Ahora queremos deshacernos de los duplicados implícitos en la columna `genre`. Por ejemplo, el nombre de un género se puede escribir de varias formas. Dichos errores también pueden afectar al resultado."
   ]
  },
  {
   "cell_type": "markdown",
   "metadata": {
    "id": "eSjWwsOh_Zct"
   },
   "source": [
    "Para hacerlo, primero mostremos una lista de nombres de género únicos, ordenados en orden alfabético. Para ello:\n",
    "* Extrae la columna `genre` del DataFrame.\n",
    "* Llama al método que devolverá todos los valores únicos en la columna extraída.\n"
   ]
  },
  {
   "cell_type": "code",
   "execution_count": 16,
   "metadata": {
    "id": "JIUcqzZN_Zct"
   },
   "outputs": [
    {
     "name": "stdout",
     "output_type": "stream",
     "text": [
      "['acid' 'acoustic' 'action' 'adult' 'africa' 'afrikaans' 'alternative'\n",
      " 'ambient' 'americana' 'animated' 'anime' 'arabesk' 'arabic' 'arena'\n",
      " 'argentinetango' 'art' 'audiobook' 'avantgarde' 'axé' 'baile' 'balkan'\n",
      " 'beats' 'bigroom' 'black' 'bluegrass' 'blues' 'bollywood' 'bossa'\n",
      " 'brazilian' 'breakbeat' 'breaks' 'broadway' 'cantautori' 'cantopop'\n",
      " 'canzone' 'caribbean' 'caucasian' 'celtic' 'chamber' 'children' 'chill'\n",
      " 'chinese' 'choral' 'christian' 'christmas' 'classical' 'classicmetal'\n",
      " 'club' 'colombian' 'comedy' 'conjazz' 'contemporary' 'country' 'cuban'\n",
      " 'dance' 'dancehall' 'dancepop' 'dark' 'death' 'deep' 'deutschrock'\n",
      " 'deutschspr' 'dirty' 'disco' 'dnb' 'documentary' 'downbeat' 'downtempo'\n",
      " 'drum' 'dub' 'dubstep' 'eastern' 'easy' 'electronic' 'electropop' 'emo'\n",
      " 'entehno' 'epicmetal' 'estrada' 'ethnic' 'eurofolk' 'european'\n",
      " 'experimental' 'extrememetal' 'fado' 'film' 'fitness' 'flamenco' 'folk'\n",
      " 'folklore' 'folkmetal' 'folkrock' 'folktronica' 'forró' 'frankreich'\n",
      " 'französisch' 'french' 'funk' 'future' 'gangsta' 'garage' 'german'\n",
      " 'ghazal' 'gitarre' 'glitch' 'gospel' 'gothic' 'grime' 'grunge' 'gypsy'\n",
      " 'handsup' \"hard'n'heavy\" 'hardcore' 'hardstyle' 'hardtechno' 'hip'\n",
      " 'hip-hop' 'hiphop' 'historisch' 'holiday' 'hop' 'horror' 'house' 'idm'\n",
      " 'independent' 'indian' 'indie' 'indipop' 'industrial' 'inspirational'\n",
      " 'instrumental' 'international' 'irish' 'jam' 'japanese' 'jazz' 'jewish'\n",
      " 'jpop' 'jungle' 'k-pop' 'karadeniz' 'karaoke' 'kayokyoku' 'korean'\n",
      " 'laiko' 'latin' 'latino' 'leftfield' 'local' 'lounge' 'loungeelectronic'\n",
      " 'lovers' 'malaysian' 'mandopop' 'marschmusik' 'meditative'\n",
      " 'mediterranean' 'melodic' 'metal' 'metalcore' 'mexican' 'middle'\n",
      " 'minimal' 'miscellaneous' 'modern' 'mood' 'mpb' 'muslim' 'native'\n",
      " 'neoklassik' 'neue' 'new' 'newage' 'newwave' 'nu' 'nujazz' 'numetal'\n",
      " 'oceania' 'old' 'opera' 'orchestral' 'other' 'piano' 'pop'\n",
      " 'popelectronic' 'popeurodance' 'post' 'posthardcore' 'postrock' 'power'\n",
      " 'progmetal' 'progressive' 'psychedelic' 'punjabi' 'punk' 'quebecois'\n",
      " 'ragga' 'ram' 'rancheras' 'rap' 'rave' 'reggae' 'reggaeton' 'regional'\n",
      " 'relax' 'religious' 'retro' 'rhythm' 'rnb' 'rnr' 'rock' 'rockabilly'\n",
      " 'romance' 'roots' 'ruspop' 'rusrap' 'rusrock' 'salsa' 'samba' 'schlager'\n",
      " 'self' 'sertanejo' 'shoegazing' 'showtunes' 'singer' 'ska' 'slow'\n",
      " 'smooth' 'soul' 'soulful' 'sound' 'soundtrack' 'southern' 'specialty'\n",
      " 'speech' 'spiritual' 'sport' 'stonerrock' 'surf' 'swing' 'synthpop'\n",
      " 'sängerportrait' 'tango' 'tanzorchester' 'taraftar' 'tech' 'techno'\n",
      " 'thrash' 'top' 'traditional' 'tradjazz' 'trance' 'tribal' 'trip'\n",
      " 'triphop' 'tropical' 'türk' 'türkçe' 'unknown' 'urban' 'uzbek' 'variété'\n",
      " 'vi' 'videogame' 'vocal' 'western' 'world' 'worldbeat' 'ïîï']\n"
     ]
    }
   ],
   "source": [
    "# Inspeccionar los nombres de géneros únicos\n",
    "unique_genres = df['genre'].sort_values().unique()\n",
    "\n",
    "print(unique_genres)"
   ]
  },
  {
   "cell_type": "markdown",
   "metadata": {
    "id": "qej-Qmuo_Zct"
   },
   "source": [
    "Busca en la lista para encontrar duplicados implícitos del género `hiphop`. Estos pueden ser nombres escritos incorrectamente o nombres alternativos para el mismo género.\n",
    "\n",
    "Verás los siguientes duplicados implícitos:\n",
    "* `hip`\n",
    "* `hop`\n",
    "* `hip-hop`\n",
    "\n",
    "Para deshacerte de ellos, crea una función llamada `replace_wrong_genres()` con dos parámetros:\n",
    "* `wrong_genres=`: esta es una lista que contiene todos los valores que necesitas reemplazar.\n",
    "* `correct_genre=`: este es un string que vas a utilizar como reemplazo.\n",
    "\n",
    "Como resultado, la función debería corregir los nombres en la columna `'genre'` de la tabla `df`, es decir, remplazar cada valor de la lista `wrong_genres` por el valor en `correct_genre`.\n",
    "\n",
    "Dentro del cuerpo de la función, utiliza un bucle `'for'` para iterar sobre la lista de géneros incorrectos, extrae la columna `'genre'` y aplica el método `replace` para hacer correcciones."
   ]
  },
  {
   "cell_type": "code",
   "execution_count": 17,
   "metadata": {
    "id": "ErNDkmns_Zct"
   },
   "outputs": [],
   "source": [
    "# Función para reemplazar duplicados implícitos\n",
    "def replace_wrong_genres(wrong_genres, correct_genre):\n",
    "    for wrong in wrong_genres:\n",
    "        df['genre'] = df['genre'].replace(wrong, correct_genre)"
   ]
  },
  {
   "cell_type": "markdown",
   "metadata": {
    "id": "aDoBJxbA_Zct"
   },
   "source": [
    "Ahora, llama a `replace_wrong_genres()` y pásale tales argumentos para que retire los duplicados implícitos (`hip`, `hop` y `hip-hop`) y los reemplace por `hiphop`:"
   ]
  },
  {
   "cell_type": "code",
   "execution_count": 18,
   "metadata": {
    "id": "YN5i2hpmSo09"
   },
   "outputs": [],
   "source": [
    "# Eliminar duplicados implícitos\n",
    "replace_wrong_genres(['hip', 'hop', 'hip-hop'], 'hiphop')"
   ]
  },
  {
   "cell_type": "markdown",
   "metadata": {
    "id": "zQKF16_RG15m"
   },
   "source": [
    "Asegúrate de que los nombres duplicados han sido eliminados. Muestra la lista de valores únicos de la columna `'genre'` una vez más:"
   ]
  },
  {
   "cell_type": "code",
   "execution_count": 19,
   "metadata": {
    "id": "wvixALnFG15m"
   },
   "outputs": [
    {
     "name": "stdout",
     "output_type": "stream",
     "text": [
      "['rock' 'pop' 'folk' 'dance' 'rusrap' 'ruspop' 'world' 'electronic'\n",
      " 'unknown' 'alternative' 'children' 'rnb' 'hiphop' 'jazz' 'postrock'\n",
      " 'latin' 'classical' 'metal' 'reggae' 'triphop' 'blues' 'instrumental'\n",
      " 'rusrock' 'dnb' 'türk' 'post' 'country' 'psychedelic' 'conjazz' 'indie'\n",
      " 'posthardcore' 'local' 'avantgarde' 'punk' 'videogame' 'techno' 'house'\n",
      " 'christmas' 'melodic' 'caucasian' 'reggaeton' 'soundtrack' 'singer' 'ska'\n",
      " 'salsa' 'ambient' 'film' 'western' 'rap' 'beats' \"hard'n'heavy\"\n",
      " 'progmetal' 'minimal' 'tropical' 'contemporary' 'new' 'soul' 'holiday'\n",
      " 'german' 'jpop' 'spiritual' 'urban' 'gospel' 'nujazz' 'folkmetal'\n",
      " 'trance' 'miscellaneous' 'anime' 'hardcore' 'progressive' 'korean'\n",
      " 'numetal' 'vocal' 'estrada' 'tango' 'loungeelectronic' 'classicmetal'\n",
      " 'dubstep' 'club' 'deep' 'southern' 'black' 'folkrock' 'fitness' 'french'\n",
      " 'disco' 'religious' 'drum' 'extrememetal' 'türkçe' 'experimental' 'easy'\n",
      " 'metalcore' 'modern' 'argentinetango' 'old' 'swing' 'breaks' 'eurofolk'\n",
      " 'stonerrock' 'industrial' 'funk' 'middle' 'variété' 'other' 'adult'\n",
      " 'christian' 'thrash' 'gothic' 'international' 'muslim' 'relax' 'schlager'\n",
      " 'caribbean' 'nu' 'breakbeat' 'comedy' 'chill' 'newage' 'specialty'\n",
      " 'uzbek' 'k-pop' 'balkan' 'chinese' 'meditative' 'dub' 'power' 'death'\n",
      " 'grime' 'arabesk' 'romance' 'flamenco' 'leftfield' 'european' 'tech'\n",
      " 'newwave' 'dancehall' 'mpb' 'piano' 'top' 'bigroom' 'opera' 'celtic'\n",
      " 'tradjazz' 'acoustic' 'epicmetal' 'historisch' 'downbeat' 'downtempo'\n",
      " 'africa' 'audiobook' 'jewish' 'sängerportrait' 'deutschrock' 'eastern'\n",
      " 'action' 'future' 'electropop' 'folklore' 'bollywood' 'marschmusik' 'rnr'\n",
      " 'karaoke' 'indian' 'rancheras' 'afrikaans' 'rhythm' 'sound' 'deutschspr'\n",
      " 'trip' 'lovers' 'choral' 'dancepop' 'retro' 'smooth' 'mexican'\n",
      " 'brazilian' 'ïîï' 'mood' 'surf' 'gangsta' 'inspirational' 'idm' 'ethnic'\n",
      " 'bluegrass' 'broadway' 'animated' 'americana' 'karadeniz' 'rockabilly'\n",
      " 'colombian' 'self' 'sertanejo' 'japanese' 'canzone' 'lounge' 'sport'\n",
      " 'ragga' 'traditional' 'gitarre' 'frankreich' 'emo' 'laiko' 'cantopop'\n",
      " 'glitch' 'documentary' 'oceania' 'popeurodance' 'dark' 'vi' 'grunge'\n",
      " 'hardstyle' 'samba' 'garage' 'art' 'folktronica' 'entehno'\n",
      " 'mediterranean' 'chamber' 'cuban' 'taraftar' 'gypsy' 'hardtechno'\n",
      " 'shoegazing' 'bossa' 'latino' 'worldbeat' 'malaysian' 'baile' 'ghazal'\n",
      " 'arabic' 'popelectronic' 'acid' 'kayokyoku' 'neoklassik' 'tribal'\n",
      " 'tanzorchester' 'native' 'independent' 'cantautori' 'handsup' 'punjabi'\n",
      " 'synthpop' 'rave' 'französisch' 'quebecois' 'speech' 'soulful' 'jam'\n",
      " 'ram' 'horror' 'orchestral' 'neue' 'roots' 'slow' 'jungle' 'indipop'\n",
      " 'axé' 'fado' 'showtunes' 'arena' 'irish' 'mandopop' 'forró' 'dirty'\n",
      " 'regional']\n"
     ]
    }
   ],
   "source": [
    "# Comprobación de duplicados implícitos\n",
    "print(df['genre'].unique())"
   ]
  },
  {
   "cell_type": "markdown",
   "metadata": {
    "id": "ALgNbvF3VtPA"
   },
   "source": [
    "[Volver a Contenidos](#back)"
   ]
  },
  {
   "cell_type": "markdown",
   "metadata": {
    "id": "jz6a9-7HQUDd"
   },
   "source": [
    "### Tus observaciones <a id='data_preprocessing_conclusions'></a>\n",
    "\n",
    "`Describe brevemente lo que has notado al analizar duplicados, cómo abordaste sus eliminaciones y qué resultados obtuviste.`\n",
    "\n",
    "Al revisar los datos, detecté tanto duplicados explícitos (filas idénticas) como implícitos (valores que se refieren al mismo género, pero escritos de formas diferentes).\n",
    "\n",
    "Para los duplicados explícitos, primero conté cuántas filas repetidas había usando df.duplicated().sum(). Luego, usé df.drop_duplicates() para eliminarlas y volví a comprobar que ya no quedaban duplicados. Esto dejó el DataFrame libre de registros idénticos que pudieran distorsionar los análisis.\n",
    "\n",
    "En cuanto a los duplicados implícitos, observé que ciertas variantes de 'hiphop' aparecían como \"hip\", \"hop\", \"Hip-hop\". Para corregirlo, creé la función replace_wrong_genres(wrong_genres, correct_genre) que, mediante un bucle, reemplaza en la columna 'genre' cada valor de la lista wrong_genres por el correct_genre. De este modo, consolidé todos esos valores en un único género estandarizado (\"hiphop\").\n",
    "\n",
    "Resultado: Tras eliminar duplicados explícitos e implícitos, el DataFrame quedó limpio y coherente, sin filas repetidas ni variantes innecesarias en la columna 'genre'. Esto nos permitirá realizar análisis y comparaciones más precisos en las siguientes etapas."
   ]
  },
  {
   "cell_type": "markdown",
   "metadata": {},
   "source": [
    "<div class=\"alert alert-block alert-success\">\n",
    "<b>Comentario del revisor (1ra Iteración)</b> <a class=“tocSkip”></a>\n",
    "\n",
    "Excelente trabajo manejando los datos duplicados implícitos unificando los términos. Esta tarea es clave para asegurar la consistencia y precisión del dataset, evitando interpretaciones erróneas. Además, unificar términos facilita el análisis y mejora la calidad de los resultados obtenidos en procesos posteriores. Posiblemente podemos hacer el mismo procedimiento para otros géneros y de esta forma simplificar aún más los datos.\n",
    "\n",
    "</div>"
   ]
  },
  {
   "cell_type": "markdown",
   "metadata": {
    "id": "eK1es74rVujj"
   },
   "source": [
    "[Volver a Contenidos](#back)"
   ]
  },
  {
   "cell_type": "markdown",
   "metadata": {
    "id": "WttZHXH0SqKk"
   },
   "source": [
    "## Etapa 3. Prueba de hipótesis <a id='hypothesis'></a>"
   ]
  },
  {
   "cell_type": "markdown",
   "metadata": {
    "id": "Im936VVi_Zcu"
   },
   "source": [
    "### Hipótesis: comparar el comportamiento del usuario o la usuaria en las dos ciudades <a id='activity'></a>"
   ]
  },
  {
   "cell_type": "markdown",
   "metadata": {
    "id": "nwt_MuaL_Zcu"
   },
   "source": [
    "La hipótesis afirma que existen diferencias en la forma en que los usuarios y las usuarias de Springfield y Shelbyville consumen música. Para comprobar esto, usa los datos de tres días de la semana: lunes, miércoles y viernes.\n",
    "\n",
    "* Agrupa a los usuarios y las usuarias por ciudad.\n",
    "* Compara el número de canciones que cada grupo reprodujo el lunes, el miércoles y el viernes.\n"
   ]
  },
  {
   "cell_type": "markdown",
   "metadata": {
    "id": "8Dw_YMmT_Zcu"
   },
   "source": [
    "Realiza cada cálculo por separado.\n",
    "\n",
    "El primer paso es evaluar la actividad del usuario en cada ciudad. Recuerda las etapas dividir-aplicar-combinar de las que hablamos anteriormente en la lección. Tu objetivo ahora es agrupar los datos por ciudad, aplicar el método apropiado para contar durante la etapa de aplicación y luego encontrar la cantidad de canciones reproducidas en cada grupo especificando la columna para obtener el recuento.\n",
    "\n",
    "A continuación se muestra un ejemplo de cómo debería verse el resultado final:\n",
    "`df.groupby(by='....')['column'].method()`Realiza cada cálculo por separado.\n",
    "\n",
    "Para evaluar la actividad de los usuarios y las usuarias en cada ciudad, agrupa los datos por ciudad y encuentra la cantidad de canciones reproducidas en cada grupo.\n",
    "\n"
   ]
  },
  {
   "cell_type": "code",
   "execution_count": 20,
   "metadata": {
    "id": "0_Qs96oh_Zcu"
   },
   "outputs": [
    {
     "name": "stdout",
     "output_type": "stream",
     "text": [
      "city\n",
      "Shelbyville    18512\n",
      "Springfield    42741\n",
      "Name: track, dtype: int64\n"
     ]
    }
   ],
   "source": [
    "# Contar las canciones reproducidas en cada ciudad\n",
    "total_counts = df.groupby('city')['track'].count()\n",
    "\n",
    "print(total_counts)"
   ]
  },
  {
   "cell_type": "markdown",
   "metadata": {
    "id": "t_Qx-3NewAnK"
   },
   "source": [
    "`Comenta tus observaciones aquí`\n",
    "Importe la librería de pandas, volví a separar espacios y pasar todo a minúsculas que es algo que he hecho en todo el proyecto, utilicé el método groupby() para agrupar la columna \"city\" y utilcé el método count() para contar todas las canciones para que conocer el total de cada ciudad, constatando que la Sprinfield reproduce más del doble de canciones que Shelbyville. "
   ]
  },
  {
   "cell_type": "markdown",
   "metadata": {},
   "source": [
    "<div class=\"alert alert-block alert-success\">\n",
    "<b>Comentario del revisor (1ra Iteración)</b> <a class=“tocSkip”></a>\n",
    "\n",
    "Correcto Julian, de manera general, la ciudad de Springfield tiene más reproducciones \n",
    "\n",
    "</div>"
   ]
  },
  {
   "cell_type": "markdown",
   "metadata": {
    "id": "dzli3w8o_Zcu"
   },
   "source": [
    "Ahora agrupemos los datos por día de la semana y encontremos el número de canciones reproducidas el lunes, miércoles y viernes. Utiliza el mismo método que antes, pero ahora necesitamos una agrupación diferente. Lo ques e pudo constatar es que los ciudadanos de Springfield cnsumen más tiempo y más música casi tres veces más que los ciuddanos de Shelbyville.\n"
   ]
  },
  {
   "cell_type": "code",
   "execution_count": 21,
   "metadata": {
    "id": "uZMKjiJz_Zcu",
    "scrolled": true
   },
   "outputs": [
    {
     "name": "stdout",
     "output_type": "stream",
     "text": [
      "Lunes:\n",
      "city\n",
      "Shelbyville     5820\n",
      "Springfield    16286\n",
      "Name: track, dtype: int64\n",
      "\n",
      "Miércoles:\n",
      "city\n",
      "Shelbyville     7336\n",
      "Springfield    11526\n",
      "Name: track, dtype: int64\n",
      "\n",
      "Viernes:\n",
      "city\n",
      "Shelbyville     6146\n",
      "Springfield    16622\n",
      "Name: track, dtype: int64\n"
     ]
    }
   ],
   "source": [
    "# Calcular las canciones reproducidas en cada uno de los tres días\n",
    "\n",
    "df['day'] = df['day'].str.strip().str.lower()\n",
    "\n",
    "monday_counts = df.query(\"day == 'monday'\").groupby(\"city\")[\"track\"].count()\n",
    "wednesday_counts = df.query(\"day == 'wednesday'\").groupby(\"city\")[\"track\"].count()\n",
    "friday_counts = df.query(\"day == 'friday'\").groupby(\"city\")[\"track\"].count()\n",
    "\n",
    "print(\"Lunes:\")\n",
    "print(monday_counts)\n",
    "print(\"\\nMiércoles:\")\n",
    "print(wednesday_counts)\n",
    "print(\"\\nViernes:\")\n",
    "print(friday_counts)"
   ]
  },
  {
   "cell_type": "markdown",
   "metadata": {
    "id": "cC2tNrlL_Zcu"
   },
   "source": [
    "`Comenta tus observaciones aquí`\n",
    "Para encontrar la salida, se eliminaron los espacios al inicio y final de cada nombre de columna como también se \n",
    "conviertieron todos los nombres a minúsculas, especialmente los días lunes, martes y miércoles que son los que pedía el enunciado. Después utilicé el método query() para filtrar esos días por separado, despues agrupé la ciudad y conté las canciones."
   ]
  },
  {
   "cell_type": "markdown",
   "metadata": {},
   "source": [
    "<div class=\"alert alert-block alert-danger\">\n",
    "<b>Comentario del revisor (1ra Iteración)</b> <a class=“tocSkip”></a>\n",
    "\n",
    "No es recomendable reimportar las librerías y el dataset. Si ya los cargaste al inicio del notebook, la información y funciones ya están disponibles, y puedes acceder a ellas desde cualquier celda. Además, si repites la importación del dataset, aumentas la probabilidad de errores, especialmente si ya has realizado diferentes operaciones sobre los datos.\n",
    "    \n",
    "En este caso, al volver a usar `df = pd.read_csv('/datasets/music_project_en.csv')` se han perdido todos los ajustes previos que hiciste, como modificar los nombres de las columnas, y manejar los datos faltantes y duplicados.\n",
    "    \n",
    "Usa el dataset con el que venias trabajando\n",
    "\n",
    "</div>"
   ]
  },
  {
   "cell_type": "markdown",
   "metadata": {},
   "source": [
    "<div class=\"alert alert-block alert-success\">\n",
    "<b>Comentario del revisor (2da Iteración)</b> <a class=“tocSkip”></a>\n",
    "\n",
    "Excelente trabajo Julian. Has hecho una comparativa correcta para cada ciudad y cada día\n",
    "\n",
    "</div>"
   ]
  },
  {
   "cell_type": "markdown",
   "metadata": {
    "id": "POzs8bGa_Zcu"
   },
   "source": [
    "Ya sabes cómo contar entradas agrupándolas por ciudad o día. Ahora necesitas escribir una función que pueda contar entradas según ambos criterios simultáneamente.\n",
    "\n",
    "Crea la función `number_tracks()` para calcular el número de canciones reproducidas en un determinado día **y** ciudad. La función debe aceptar dos parámetros:\n",
    "\n",
    "- `day`: un día de la semana para filtrar. Por ejemplo, `'Monday'` (lunes).\n",
    "- `city`: una ciudad para filtrar. Por ejemplo, `'Springfield'`.\n",
    "\n",
    "Dentro de la función, aplicarás un filtrado consecutivo con indexación lógica.\n",
    "\n",
    "Primero filtra los datos por día y luego filtra la tabla resultante por ciudad.\n",
    "\n",
    "Después de filtrar los datos por dos criterios, cuenta el número de valores de la columna 'user_id' en la tabla resultante. Este recuento representa el número de entradas que estás buscando. Guarda el resultado en una nueva variable y devuélvelo desde la función."
   ]
  },
  {
   "cell_type": "code",
   "execution_count": 22,
   "metadata": {
    "id": "Nz3GdQB1_Zcu",
    "scrolled": true
   },
   "outputs": [
    {
     "name": "stdout",
     "output_type": "stream",
     "text": [
      "Canciones reproducidas en Springfield el lunes: 16715\n",
      "Canciones reproducidas en Shelbyville el lunes: 5982\n",
      "Canciones reproducidas en Springfield el miércoles: 11755\n",
      "Canciones reproducidas en Shelbyville el miércoles: 7478\n",
      "Canciones reproducidas en Springfield el viernes: 16890\n",
      "Canciones reproducidas en Shelbyville el viernes: 6259\n"
     ]
    }
   ],
   "source": [
    "# Declara la función number_tracks() con dos parámetros: day= y city=.\n",
    "def number_tracks(day, city):\n",
    "    filtered_df = df[(df['day'] == day) & (df['city'] == city)]\n",
    "    return filtered_df['user_id'].count()\n",
    "\n",
    "# Llamadas de ejemplo con los valores reales:\n",
    "print(\"Canciones reproducidas en Springfield el lunes:\", number_tracks(\"monday\", \"Springfield\"))\n",
    "print(\"Canciones reproducidas en Shelbyville el lunes:\", number_tracks(\"monday\", \"Shelbyville\"))\n",
    "\n",
    "print(\"Canciones reproducidas en Springfield el miércoles:\", number_tracks(\"wednesday\", \"Springfield\"))\n",
    "print(\"Canciones reproducidas en Shelbyville el miércoles:\", number_tracks(\"wednesday\", \"Shelbyville\"))\n",
    "\n",
    "print(\"Canciones reproducidas en Springfield el viernes:\", number_tracks(\"friday\", \"Springfield\"))\n",
    "print(\"Canciones reproducidas en Shelbyville el viernes:\", number_tracks(\"friday\", \"Shelbyville\"))"
   ]
  },
  {
   "cell_type": "markdown",
   "metadata": {},
   "source": [
    "<div class=\"alert alert-block alert-danger\">\n",
    "<b>Comentario del revisor (1ra Iteración)</b> <a class=“tocSkip”></a>\n",
    "\n",
    "Este error de ejecución se presenta por lo que te comenté más arriba, ahora los nombres de las columnas no corresponden y se genera este problema\n",
    "\n",
    "</div>"
   ]
  },
  {
   "cell_type": "markdown",
   "metadata": {
    "id": "ytf7xFrFJQ2r"
   },
   "source": [
    "Llama a `number_tracks()` seis veces, cambiando los valores de los parámetros para que recuperes los datos de ambas ciudades para cada uno de los tres días."
   ]
  },
  {
   "cell_type": "code",
   "execution_count": 28,
   "metadata": {
    "id": "rJcRATNQ_Zcu"
   },
   "outputs": [
    {
     "name": "stdout",
     "output_type": "stream",
     "text": [
      "Canciones reproducidas en Springfield el lunes: 16715\n"
     ]
    }
   ],
   "source": [
    "# El número de canciones reproducidas en Springfield el lunes\n",
    "print(\"Canciones reproducidas en Springfield el lunes:\", number_tracks(\"monday\", \"Springfield\"))"
   ]
  },
  {
   "cell_type": "code",
   "execution_count": 27,
   "metadata": {
    "id": "hq_ncZ5T_Zcu"
   },
   "outputs": [
    {
     "name": "stdout",
     "output_type": "stream",
     "text": [
      "Canciones reproducidas en Shelbyville el lunes: 5982\n"
     ]
    }
   ],
   "source": [
    "# El número de canciones reproducidas en Shelbyville el lunes\n",
    "print(\"Canciones reproducidas en Shelbyville el lunes:\", number_tracks(\"monday\", \"Shelbyville\"))"
   ]
  },
  {
   "cell_type": "code",
   "execution_count": 26,
   "metadata": {
    "id": "_NTy2VPU_Zcu"
   },
   "outputs": [
    {
     "name": "stdout",
     "output_type": "stream",
     "text": [
      "Canciones reproducidas en Springfield el miércoles: 11755\n"
     ]
    }
   ],
   "source": [
    "# El número de canciones reproducidas en Springfield el miércoles\n",
    "print(\"Canciones reproducidas en Springfield el miércoles:\", number_tracks(\"wednesday\", \"Springfield\"))"
   ]
  },
  {
   "cell_type": "code",
   "execution_count": 25,
   "metadata": {
    "id": "j2y3TAwo_Zcu"
   },
   "outputs": [
    {
     "name": "stdout",
     "output_type": "stream",
     "text": [
      "Canciones reproducidas en Shelbyville el miércoles: 7478\n"
     ]
    }
   ],
   "source": [
    "# El número de canciones reproducidas en Shelbyville el miércoles\n",
    "print(\"Canciones reproducidas en Shelbyville el miércoles:\", number_tracks(\"wednesday\", \"Shelbyville\"))"
   ]
  },
  {
   "cell_type": "code",
   "execution_count": 24,
   "metadata": {
    "id": "vYDw5u_K_Zcu"
   },
   "outputs": [
    {
     "name": "stdout",
     "output_type": "stream",
     "text": [
      "Canciones reproducidas en Springfield el viernes: 16890\n"
     ]
    }
   ],
   "source": [
    "# El número de canciones reproducidas en Springfield el viernes\n",
    "print(\"Canciones reproducidas en Springfield el viernes:\", number_tracks(\"friday\", \"Springfield\"))"
   ]
  },
  {
   "cell_type": "code",
   "execution_count": 23,
   "metadata": {
    "id": "8_yzFtW3_Zcu"
   },
   "outputs": [
    {
     "name": "stdout",
     "output_type": "stream",
     "text": [
      "Canciones reproducidas en Shelbyville el viernes: 6259\n"
     ]
    }
   ],
   "source": [
    "# El número de canciones reproducidas en Shelbyville el viernes\n",
    "print(\"Canciones reproducidas en Shelbyville el viernes:\", number_tracks(\"friday\", \"Shelbyville\"))"
   ]
  },
  {
   "cell_type": "markdown",
   "metadata": {},
   "source": [
    "<div class=\"alert alert-block alert-success\">\n",
    "<b>Comentario del revisor (2da Iteración)</b> <a class=“tocSkip”></a>\n",
    "\n",
    "Perfecto, has usado correctamente la función `number_tracks` para encontrar la información filtrada y específica para cada caso.\n",
    "\n",
    "</div>"
   ]
  },
  {
   "cell_type": "markdown",
   "metadata": {
    "id": "-EgPIHYu_Zcu"
   },
   "source": [
    "**Conclusiones**\n",
    "\n",
    "`Comenta si la hipótesis es correcta o se debe rechazar. Explica tu razonamiento.`\n",
    "\n",
    "Al comparar el número de canciones reproducidas en Springfield y Shelbyville para los días lunes, miércoles y viernes, observamos que las cifras varían en función tanto del día como de la ciudad. Por ejemplo, si Springfield tiene más reproducciones el vierness, y Shelbyville tiene más reproducciones el miércoles, esto indica que la actividad no es uniforme en todos los días ni en ambas ciudades.\n",
    "\n",
    "Por lo tanto, los datos respaldan la hipótesis de que la actividad de los usuarios y las usuarias difiere según el día de la semana y dependiendo de la ciudad."
   ]
  },
  {
   "cell_type": "markdown",
   "metadata": {
    "id": "p7nFQajCVw5B"
   },
   "source": [
    "[Volver a Contenidos](#back)"
   ]
  },
  {
   "cell_type": "markdown",
   "metadata": {
    "id": "ykKQ0N65_Zcv"
   },
   "source": [
    "# Conclusiones <a id='end'></a>"
   ]
  },
  {
   "cell_type": "markdown",
   "metadata": {
    "id": "tjUwbHb3_Zcv"
   },
   "source": [
    "`Resume aquí tus conclusiones sobre la hipótesis.`\n",
    "El comportamiento o las acciones de los usuarios (hombres y mujeres) no son iguales todos los días, sino que varían según el día de la semana y la ciudad en la que se encuentren. Esto sugiere que hay patrones distintos de actividad que pueden estar influenciados por factores como el lugar y el momento. Lo que está claro, es que Springfield es la ciudad que más escucha música, se puede constatar según las cifras, que tanto los lunes como los viernes prácticamente se tripleca el numero de canciones reproducidas entre ambas ciudades."
   ]
  },
  {
   "cell_type": "code",
   "execution_count": null,
   "metadata": {},
   "outputs": [],
   "source": [
    "<div class=\"alert alert-block alert-success\">\n",
    "<b>Comentario del revisor (2da Iteración)</b> <a class=“tocSkip”></a>\n",
    "\n",
    "\n",
    "\n",
    "</div>"
   ]
  },
  {
   "cell_type": "markdown",
   "metadata": {
    "id": "azLHu64yOIp7"
   },
   "source": [
    "### Nota\n",
    "En proyectos de investigación reales, la prueba de hipótesis estadística es más precisa y cuantitativa. También ten en cuenta que no siempre se pueden sacar conclusiones sobre una ciudad entera a partir de datos de una sola fuente.\n",
    "\n",
    "Aprenderás más sobre la prueba de hipótesis en el sprint de análisis estadístico de datos."
   ]
  },
  {
   "cell_type": "markdown",
   "metadata": {
    "id": "Ju4AHDSgV1FE"
   },
   "source": [
    "[Volver a Contenidos](#back)"
   ]
  }
 ],
 "metadata": {
  "ExecuteTimeLog": [
   {
    "duration": 310,
    "start_time": "2025-03-20T14:59:23.131Z"
   },
   {
    "duration": 108,
    "start_time": "2025-03-20T14:59:28.616Z"
   },
   {
    "duration": 7,
    "start_time": "2025-03-20T14:59:52.370Z"
   },
   {
    "duration": 22,
    "start_time": "2025-03-20T15:01:38.566Z"
   },
   {
    "duration": 4,
    "start_time": "2025-03-20T17:22:38.911Z"
   },
   {
    "duration": 6,
    "start_time": "2025-03-20T17:34:50.847Z"
   },
   {
    "duration": 3,
    "start_time": "2025-03-20T17:34:55.379Z"
   },
   {
    "duration": 4,
    "start_time": "2025-03-20T17:36:02.942Z"
   },
   {
    "duration": 201,
    "start_time": "2025-03-20T17:39:31.153Z"
   },
   {
    "duration": 16,
    "start_time": "2025-03-20T17:47:05.461Z"
   },
   {
    "duration": 4,
    "start_time": "2025-03-20T17:48:25.388Z"
   },
   {
    "duration": 2,
    "start_time": "2025-03-20T17:59:48.302Z"
   },
   {
    "duration": 3,
    "start_time": "2025-03-20T18:13:46.614Z"
   },
   {
    "duration": 3,
    "start_time": "2025-03-20T18:18:24.548Z"
   },
   {
    "duration": 3,
    "start_time": "2025-03-20T18:18:59.377Z"
   },
   {
    "duration": 3,
    "start_time": "2025-03-20T18:33:20.740Z"
   },
   {
    "duration": 3,
    "start_time": "2025-03-20T18:36:32.936Z"
   },
   {
    "duration": 15,
    "start_time": "2025-03-20T18:36:58.420Z"
   },
   {
    "duration": 3,
    "start_time": "2025-03-20T18:44:30.978Z"
   },
   {
    "duration": 8,
    "start_time": "2025-03-20T18:56:15.844Z"
   },
   {
    "duration": 10,
    "start_time": "2025-03-20T19:55:40.884Z"
   },
   {
    "duration": 5,
    "start_time": "2025-03-20T20:11:34.110Z"
   },
   {
    "duration": 164,
    "start_time": "2025-03-20T21:27:52.778Z"
   },
   {
    "duration": 430,
    "start_time": "2025-03-20T21:33:52.396Z"
   },
   {
    "duration": 103,
    "start_time": "2025-03-20T21:33:57.535Z"
   },
   {
    "duration": 108,
    "start_time": "2025-03-20T21:37:02.118Z"
   },
   {
    "duration": 106,
    "start_time": "2025-03-20T21:38:12.791Z"
   },
   {
    "duration": 380,
    "start_time": "2025-03-20T21:39:46.630Z"
   },
   {
    "duration": 103,
    "start_time": "2025-03-20T21:41:11.023Z"
   },
   {
    "duration": 17,
    "start_time": "2025-03-20T22:10:07.955Z"
   },
   {
    "duration": 61,
    "start_time": "2025-03-20T22:59:19.783Z"
   },
   {
    "duration": 169,
    "start_time": "2025-03-20T23:01:56.931Z"
   },
   {
    "duration": 168,
    "start_time": "2025-03-20T23:03:44.359Z"
   },
   {
    "duration": 41,
    "start_time": "2025-03-20T23:16:26.991Z"
   },
   {
    "duration": 47,
    "start_time": "2025-03-20T23:16:31.665Z"
   },
   {
    "duration": 75,
    "start_time": "2025-03-20T23:17:58.428Z"
   },
   {
    "duration": 37,
    "start_time": "2025-03-20T23:47:35.418Z"
   },
   {
    "duration": 114,
    "start_time": "2025-03-21T00:16:17.259Z"
   },
   {
    "duration": 3,
    "start_time": "2025-03-21T00:46:53.925Z"
   },
   {
    "duration": 3,
    "start_time": "2025-03-21T00:47:33.637Z"
   },
   {
    "duration": 2,
    "start_time": "2025-03-21T00:47:58.232Z"
   },
   {
    "duration": 5,
    "start_time": "2025-03-21T03:04:56.178Z"
   },
   {
    "duration": 948,
    "start_time": "2025-03-21T13:49:39.700Z"
   },
   {
    "duration": 421,
    "start_time": "2025-03-21T13:50:20.184Z"
   },
   {
    "duration": 157,
    "start_time": "2025-03-21T13:54:05.658Z"
   },
   {
    "duration": 151,
    "start_time": "2025-03-21T14:10:52.006Z"
   },
   {
    "duration": 165,
    "start_time": "2025-03-21T14:15:16.545Z"
   },
   {
    "duration": 34,
    "start_time": "2025-03-21T14:37:31.813Z"
   },
   {
    "duration": 99,
    "start_time": "2025-03-21T14:50:21.949Z"
   },
   {
    "duration": 13,
    "start_time": "2025-03-21T14:51:08.083Z"
   },
   {
    "duration": 141,
    "start_time": "2025-03-21T14:51:57.625Z"
   },
   {
    "duration": 80,
    "start_time": "2025-03-21T15:14:21.112Z"
   },
   {
    "duration": 3,
    "start_time": "2025-03-21T15:14:38.474Z"
   },
   {
    "duration": 110,
    "start_time": "2025-03-21T15:14:38.479Z"
   },
   {
    "duration": 8,
    "start_time": "2025-03-21T15:14:38.591Z"
   },
   {
    "duration": 27,
    "start_time": "2025-03-21T15:14:38.600Z"
   },
   {
    "duration": 3,
    "start_time": "2025-03-21T15:14:38.630Z"
   },
   {
    "duration": 4,
    "start_time": "2025-03-21T15:14:38.635Z"
   },
   {
    "duration": 4,
    "start_time": "2025-03-21T15:14:38.640Z"
   },
   {
    "duration": 3,
    "start_time": "2025-03-21T15:14:38.646Z"
   },
   {
    "duration": 3,
    "start_time": "2025-03-21T15:14:46.455Z"
   },
   {
    "duration": 4,
    "start_time": "2025-03-21T15:15:56.427Z"
   },
   {
    "duration": 14,
    "start_time": "2025-03-21T15:17:22.454Z"
   },
   {
    "duration": 5,
    "start_time": "2025-03-21T15:17:46.379Z"
   },
   {
    "duration": 36,
    "start_time": "2025-03-21T15:19:33.339Z"
   },
   {
    "duration": 38,
    "start_time": "2025-03-21T15:20:03.692Z"
   },
   {
    "duration": 18,
    "start_time": "2025-03-21T15:21:32.881Z"
   },
   {
    "duration": 33,
    "start_time": "2025-03-21T15:22:07.391Z"
   },
   {
    "duration": 14,
    "start_time": "2025-03-21T15:22:50.005Z"
   },
   {
    "duration": 98,
    "start_time": "2025-03-21T15:24:15.315Z"
   },
   {
    "duration": 6,
    "start_time": "2025-03-21T15:26:14.544Z"
   },
   {
    "duration": 13,
    "start_time": "2025-03-21T15:26:48.881Z"
   },
   {
    "duration": 34,
    "start_time": "2025-03-21T15:26:59.082Z"
   },
   {
    "duration": 12,
    "start_time": "2025-03-21T15:28:08.262Z"
   },
   {
    "duration": 2,
    "start_time": "2025-03-21T15:28:12.884Z"
   },
   {
    "duration": 3,
    "start_time": "2025-03-21T15:28:15.598Z"
   },
   {
    "duration": 8,
    "start_time": "2025-03-21T15:28:17.869Z"
   },
   {
    "duration": 7,
    "start_time": "2025-03-21T15:28:22.068Z"
   },
   {
    "duration": 8,
    "start_time": "2025-03-21T15:28:33.270Z"
   },
   {
    "duration": 7,
    "start_time": "2025-03-21T15:28:44.137Z"
   },
   {
    "duration": 10,
    "start_time": "2025-03-21T15:30:10.486Z"
   },
   {
    "duration": 11,
    "start_time": "2025-03-21T15:57:25.928Z"
   },
   {
    "duration": 11,
    "start_time": "2025-03-21T15:58:10.981Z"
   },
   {
    "duration": 145,
    "start_time": "2025-03-21T15:59:07.863Z"
   },
   {
    "duration": 216,
    "start_time": "2025-03-21T16:31:21.424Z"
   },
   {
    "duration": 3,
    "start_time": "2025-03-21T16:31:43.701Z"
   },
   {
    "duration": 93,
    "start_time": "2025-03-21T16:31:43.706Z"
   },
   {
    "duration": 6,
    "start_time": "2025-03-21T16:31:43.800Z"
   },
   {
    "duration": 20,
    "start_time": "2025-03-21T16:31:43.808Z"
   },
   {
    "duration": 2,
    "start_time": "2025-03-21T16:31:43.832Z"
   },
   {
    "duration": 4,
    "start_time": "2025-03-21T16:31:43.836Z"
   },
   {
    "duration": 4,
    "start_time": "2025-03-21T16:31:43.842Z"
   },
   {
    "duration": 4,
    "start_time": "2025-03-21T16:31:43.848Z"
   },
   {
    "duration": 36,
    "start_time": "2025-03-21T16:31:43.853Z"
   },
   {
    "duration": 36,
    "start_time": "2025-03-21T16:31:43.891Z"
   },
   {
    "duration": 24,
    "start_time": "2025-03-21T16:31:43.929Z"
   },
   {
    "duration": 34,
    "start_time": "2025-03-21T16:31:43.955Z"
   },
   {
    "duration": 81,
    "start_time": "2025-03-21T16:31:43.990Z"
   },
   {
    "duration": 79,
    "start_time": "2025-03-21T16:31:44.086Z"
   },
   {
    "duration": 47,
    "start_time": "2025-03-21T16:31:44.167Z"
   },
   {
    "duration": 30,
    "start_time": "2025-03-21T16:31:44.215Z"
   },
   {
    "duration": 3,
    "start_time": "2025-03-21T16:31:44.246Z"
   },
   {
    "duration": 8,
    "start_time": "2025-03-21T16:31:44.250Z"
   },
   {
    "duration": 27,
    "start_time": "2025-03-21T16:31:44.260Z"
   },
   {
    "duration": 8,
    "start_time": "2025-03-21T16:31:44.289Z"
   },
   {
    "duration": 145,
    "start_time": "2025-03-21T16:31:44.299Z"
   },
   {
    "duration": 49,
    "start_time": "2025-03-21T16:31:44.446Z"
   },
   {
    "duration": 0,
    "start_time": "2025-03-21T16:31:44.497Z"
   },
   {
    "duration": 0,
    "start_time": "2025-03-21T16:31:44.498Z"
   },
   {
    "duration": 0,
    "start_time": "2025-03-21T16:31:44.499Z"
   },
   {
    "duration": 0,
    "start_time": "2025-03-21T16:31:44.500Z"
   },
   {
    "duration": 0,
    "start_time": "2025-03-21T16:31:44.501Z"
   },
   {
    "duration": 0,
    "start_time": "2025-03-21T16:31:44.502Z"
   },
   {
    "duration": 44,
    "start_time": "2025-03-21T16:32:00.089Z"
   },
   {
    "duration": 46,
    "start_time": "2025-03-21T16:34:04.648Z"
   },
   {
    "duration": 0,
    "start_time": "2025-03-21T16:34:04.696Z"
   },
   {
    "duration": 0,
    "start_time": "2025-03-21T16:34:04.697Z"
   },
   {
    "duration": 0,
    "start_time": "2025-03-21T16:34:04.699Z"
   },
   {
    "duration": 0,
    "start_time": "2025-03-21T16:34:04.700Z"
   },
   {
    "duration": 0,
    "start_time": "2025-03-21T16:34:04.702Z"
   },
   {
    "duration": 0,
    "start_time": "2025-03-21T16:34:04.703Z"
   },
   {
    "duration": 48,
    "start_time": "2025-03-21T16:34:14.481Z"
   },
   {
    "duration": 9,
    "start_time": "2025-03-21T16:34:37.066Z"
   },
   {
    "duration": 47,
    "start_time": "2025-03-21T16:34:48.065Z"
   },
   {
    "duration": 67,
    "start_time": "2025-03-21T16:35:33.173Z"
   },
   {
    "duration": 3,
    "start_time": "2025-03-21T16:36:05.126Z"
   },
   {
    "duration": 91,
    "start_time": "2025-03-21T16:36:05.131Z"
   },
   {
    "duration": 5,
    "start_time": "2025-03-21T16:36:05.224Z"
   },
   {
    "duration": 24,
    "start_time": "2025-03-21T16:36:05.232Z"
   },
   {
    "duration": 3,
    "start_time": "2025-03-21T16:36:05.259Z"
   },
   {
    "duration": 4,
    "start_time": "2025-03-21T16:36:05.263Z"
   },
   {
    "duration": 19,
    "start_time": "2025-03-21T16:36:05.269Z"
   },
   {
    "duration": 5,
    "start_time": "2025-03-21T16:36:05.289Z"
   },
   {
    "duration": 5,
    "start_time": "2025-03-21T16:36:05.295Z"
   },
   {
    "duration": 36,
    "start_time": "2025-03-21T16:36:05.302Z"
   },
   {
    "duration": 56,
    "start_time": "2025-03-21T16:36:05.341Z"
   },
   {
    "duration": 12,
    "start_time": "2025-03-21T16:36:05.400Z"
   },
   {
    "duration": 90,
    "start_time": "2025-03-21T16:36:05.413Z"
   },
   {
    "duration": 88,
    "start_time": "2025-03-21T16:36:05.507Z"
   },
   {
    "duration": 38,
    "start_time": "2025-03-21T16:36:05.597Z"
   },
   {
    "duration": 31,
    "start_time": "2025-03-21T16:36:05.637Z"
   },
   {
    "duration": 3,
    "start_time": "2025-03-21T16:36:05.686Z"
   },
   {
    "duration": 9,
    "start_time": "2025-03-21T16:36:05.690Z"
   },
   {
    "duration": 5,
    "start_time": "2025-03-21T16:36:05.701Z"
   },
   {
    "duration": 8,
    "start_time": "2025-03-21T16:36:05.708Z"
   },
   {
    "duration": 157,
    "start_time": "2025-03-21T16:36:05.718Z"
   },
   {
    "duration": 57,
    "start_time": "2025-03-21T16:36:05.878Z"
   },
   {
    "duration": 55,
    "start_time": "2025-03-21T16:36:11.424Z"
   },
   {
    "duration": 43,
    "start_time": "2025-03-21T16:39:24.355Z"
   },
   {
    "duration": 10,
    "start_time": "2025-03-21T16:51:38.408Z"
   },
   {
    "duration": 2,
    "start_time": "2025-03-21T16:58:39.719Z"
   },
   {
    "duration": 12,
    "start_time": "2025-03-21T16:59:02.499Z"
   },
   {
    "duration": 15,
    "start_time": "2025-03-21T16:59:23.169Z"
   },
   {
    "duration": 11,
    "start_time": "2025-03-21T16:59:39.562Z"
   },
   {
    "duration": 10,
    "start_time": "2025-03-21T17:00:02.008Z"
   },
   {
    "duration": 12,
    "start_time": "2025-03-21T17:00:18.357Z"
   },
   {
    "duration": 11,
    "start_time": "2025-03-21T17:00:35.664Z"
   },
   {
    "duration": 8,
    "start_time": "2025-03-21T17:04:32.041Z"
   },
   {
    "duration": 10,
    "start_time": "2025-03-21T17:09:51.603Z"
   },
   {
    "duration": 10,
    "start_time": "2025-03-21T17:10:36.741Z"
   },
   {
    "duration": 10,
    "start_time": "2025-03-21T17:10:58.612Z"
   },
   {
    "duration": 12,
    "start_time": "2025-03-21T17:14:19.311Z"
   },
   {
    "duration": 11,
    "start_time": "2025-03-21T17:14:29.036Z"
   },
   {
    "duration": 11,
    "start_time": "2025-03-21T17:14:38.055Z"
   },
   {
    "duration": 10,
    "start_time": "2025-03-21T17:25:45.734Z"
   },
   {
    "duration": 60,
    "start_time": "2025-03-21T17:39:46.606Z"
   },
   {
    "duration": 6,
    "start_time": "2025-03-21T17:45:43.715Z"
   },
   {
    "duration": 23,
    "start_time": "2025-03-21T17:45:43.724Z"
   },
   {
    "duration": 4,
    "start_time": "2025-03-21T17:45:43.748Z"
   },
   {
    "duration": 3,
    "start_time": "2025-03-21T17:45:43.754Z"
   },
   {
    "duration": 3,
    "start_time": "2025-03-21T17:45:43.760Z"
   },
   {
    "duration": 4,
    "start_time": "2025-03-21T17:45:43.765Z"
   },
   {
    "duration": 16,
    "start_time": "2025-03-21T17:45:43.771Z"
   },
   {
    "duration": 38,
    "start_time": "2025-03-21T17:45:43.790Z"
   },
   {
    "duration": 28,
    "start_time": "2025-03-21T17:45:43.830Z"
   },
   {
    "duration": 38,
    "start_time": "2025-03-21T17:45:43.860Z"
   },
   {
    "duration": 109,
    "start_time": "2025-03-21T17:45:43.900Z"
   },
   {
    "duration": 99,
    "start_time": "2025-03-21T17:45:44.011Z"
   },
   {
    "duration": 41,
    "start_time": "2025-03-21T17:45:44.114Z"
   },
   {
    "duration": 44,
    "start_time": "2025-03-21T17:45:44.157Z"
   },
   {
    "duration": 3,
    "start_time": "2025-03-21T17:45:44.203Z"
   },
   {
    "duration": 8,
    "start_time": "2025-03-21T17:45:44.207Z"
   },
   {
    "duration": 6,
    "start_time": "2025-03-21T17:45:44.217Z"
   },
   {
    "duration": 8,
    "start_time": "2025-03-21T17:45:44.225Z"
   },
   {
    "duration": 183,
    "start_time": "2025-03-21T17:45:44.235Z"
   },
   {
    "duration": 76,
    "start_time": "2025-03-21T17:45:44.420Z"
   },
   {
    "duration": 12,
    "start_time": "2025-03-21T17:45:44.498Z"
   },
   {
    "duration": 11,
    "start_time": "2025-03-21T17:45:44.512Z"
   },
   {
    "duration": 11,
    "start_time": "2025-03-21T17:45:44.525Z"
   },
   {
    "duration": 11,
    "start_time": "2025-03-21T17:45:44.538Z"
   },
   {
    "duration": 47,
    "start_time": "2025-03-21T17:45:44.551Z"
   },
   {
    "duration": 14,
    "start_time": "2025-03-21T17:45:44.602Z"
   },
   {
    "duration": 52,
    "start_time": "2025-03-21T18:05:17.076Z"
   },
   {
    "duration": 2,
    "start_time": "2025-03-21T18:06:10.004Z"
   },
   {
    "duration": 97,
    "start_time": "2025-03-21T18:06:10.008Z"
   },
   {
    "duration": 5,
    "start_time": "2025-03-21T18:06:10.107Z"
   },
   {
    "duration": 21,
    "start_time": "2025-03-21T18:06:10.115Z"
   },
   {
    "duration": 3,
    "start_time": "2025-03-21T18:06:10.137Z"
   },
   {
    "duration": 3,
    "start_time": "2025-03-21T18:06:10.142Z"
   },
   {
    "duration": 3,
    "start_time": "2025-03-21T18:06:10.147Z"
   },
   {
    "duration": 3,
    "start_time": "2025-03-21T18:06:10.152Z"
   },
   {
    "duration": 3,
    "start_time": "2025-03-21T18:06:10.187Z"
   },
   {
    "duration": 31,
    "start_time": "2025-03-21T18:06:10.192Z"
   },
   {
    "duration": 24,
    "start_time": "2025-03-21T18:06:10.225Z"
   },
   {
    "duration": 35,
    "start_time": "2025-03-21T18:06:10.251Z"
   },
   {
    "duration": 85,
    "start_time": "2025-03-21T18:06:10.288Z"
   },
   {
    "duration": 85,
    "start_time": "2025-03-21T18:06:10.375Z"
   },
   {
    "duration": 51,
    "start_time": "2025-03-21T18:06:10.462Z"
   },
   {
    "duration": 30,
    "start_time": "2025-03-21T18:06:10.515Z"
   },
   {
    "duration": 3,
    "start_time": "2025-03-21T18:06:10.547Z"
   },
   {
    "duration": 8,
    "start_time": "2025-03-21T18:06:10.552Z"
   },
   {
    "duration": 5,
    "start_time": "2025-03-21T18:06:10.563Z"
   },
   {
    "duration": 9,
    "start_time": "2025-03-21T18:06:10.587Z"
   },
   {
    "duration": 155,
    "start_time": "2025-03-21T18:06:10.598Z"
   },
   {
    "duration": 52,
    "start_time": "2025-03-21T18:06:22.156Z"
   },
   {
    "duration": 58,
    "start_time": "2025-03-21T18:07:04.562Z"
   },
   {
    "duration": 4,
    "start_time": "2025-03-21T18:10:25.256Z"
   },
   {
    "duration": 3,
    "start_time": "2025-03-21T18:10:53.676Z"
   },
   {
    "duration": 73,
    "start_time": "2025-03-21T18:12:21.838Z"
   },
   {
    "duration": 62,
    "start_time": "2025-03-21T18:12:26.320Z"
   },
   {
    "duration": 58,
    "start_time": "2025-03-21T18:12:45.032Z"
   },
   {
    "duration": 11,
    "start_time": "2025-03-21T18:13:03.004Z"
   },
   {
    "duration": 11,
    "start_time": "2025-03-21T18:13:35.899Z"
   },
   {
    "duration": 18,
    "start_time": "2025-03-21T18:14:07.152Z"
   },
   {
    "duration": 12,
    "start_time": "2025-03-21T18:14:28.460Z"
   },
   {
    "duration": 16,
    "start_time": "2025-03-21T18:14:50.166Z"
   },
   {
    "duration": 14,
    "start_time": "2025-03-21T18:27:35.531Z"
   },
   {
    "duration": 24,
    "start_time": "2025-03-21T18:32:33.997Z"
   },
   {
    "duration": 13,
    "start_time": "2025-03-21T18:33:00.638Z"
   },
   {
    "duration": 329,
    "start_time": "2025-03-21T19:29:29.165Z"
   },
   {
    "duration": 108,
    "start_time": "2025-03-21T19:29:29.496Z"
   },
   {
    "duration": 7,
    "start_time": "2025-03-21T19:29:29.606Z"
   },
   {
    "duration": 24,
    "start_time": "2025-03-21T19:29:29.615Z"
   },
   {
    "duration": 4,
    "start_time": "2025-03-21T19:29:29.640Z"
   },
   {
    "duration": 4,
    "start_time": "2025-03-21T19:29:29.646Z"
   },
   {
    "duration": 4,
    "start_time": "2025-03-21T19:29:29.651Z"
   },
   {
    "duration": 4,
    "start_time": "2025-03-21T19:29:29.656Z"
   },
   {
    "duration": 5,
    "start_time": "2025-03-21T19:29:29.661Z"
   },
   {
    "duration": 67,
    "start_time": "2025-03-21T19:29:29.669Z"
   },
   {
    "duration": 25,
    "start_time": "2025-03-21T19:29:29.738Z"
   },
   {
    "duration": 12,
    "start_time": "2025-03-21T19:29:29.764Z"
   },
   {
    "duration": 108,
    "start_time": "2025-03-21T19:29:29.777Z"
   },
   {
    "duration": 90,
    "start_time": "2025-03-21T19:29:29.887Z"
   },
   {
    "duration": 37,
    "start_time": "2025-03-21T19:29:29.979Z"
   },
   {
    "duration": 41,
    "start_time": "2025-03-21T19:29:30.017Z"
   },
   {
    "duration": 2,
    "start_time": "2025-03-21T19:29:30.060Z"
   },
   {
    "duration": 7,
    "start_time": "2025-03-21T19:29:30.064Z"
   },
   {
    "duration": 6,
    "start_time": "2025-03-21T19:29:30.073Z"
   },
   {
    "duration": 8,
    "start_time": "2025-03-21T19:29:30.080Z"
   },
   {
    "duration": 166,
    "start_time": "2025-03-21T19:29:30.090Z"
   },
   {
    "duration": 575,
    "start_time": "2025-03-21T19:29:30.259Z"
   },
   {
    "duration": 0,
    "start_time": "2025-03-21T19:29:30.835Z"
   },
   {
    "duration": 0,
    "start_time": "2025-03-21T19:29:30.836Z"
   },
   {
    "duration": 0,
    "start_time": "2025-03-21T19:29:30.838Z"
   },
   {
    "duration": 0,
    "start_time": "2025-03-21T19:29:30.839Z"
   },
   {
    "duration": 0,
    "start_time": "2025-03-21T19:29:30.841Z"
   },
   {
    "duration": 0,
    "start_time": "2025-03-21T19:29:30.841Z"
   },
   {
    "duration": 11,
    "start_time": "2025-03-21T19:31:31.396Z"
   },
   {
    "duration": 3,
    "start_time": "2025-03-21T19:33:22.312Z"
   },
   {
    "duration": 189,
    "start_time": "2025-03-22T19:42:42.617Z"
   },
   {
    "duration": 12,
    "start_time": "2025-03-22T19:43:58.555Z"
   },
   {
    "duration": 11,
    "start_time": "2025-03-22T19:44:13.188Z"
   },
   {
    "duration": 11,
    "start_time": "2025-03-22T19:45:05.030Z"
   },
   {
    "duration": 11,
    "start_time": "2025-03-22T19:45:39.835Z"
   },
   {
    "duration": 3,
    "start_time": "2025-03-22T19:45:50.047Z"
   },
   {
    "duration": 12,
    "start_time": "2025-03-22T19:46:01.972Z"
   },
   {
    "duration": 287,
    "start_time": "2025-03-22T19:46:10.970Z"
   },
   {
    "duration": 112,
    "start_time": "2025-03-22T19:46:11.260Z"
   },
   {
    "duration": 12,
    "start_time": "2025-03-22T19:46:11.374Z"
   },
   {
    "duration": 9,
    "start_time": "2025-03-22T19:46:23.216Z"
   },
   {
    "duration": 22,
    "start_time": "2025-03-22T19:46:47.175Z"
   },
   {
    "duration": 36,
    "start_time": "2025-03-22T19:47:19.615Z"
   },
   {
    "duration": 3,
    "start_time": "2025-03-22T19:47:43.450Z"
   },
   {
    "duration": 4,
    "start_time": "2025-03-22T19:47:52.091Z"
   },
   {
    "duration": 3,
    "start_time": "2025-03-22T19:47:59.721Z"
   },
   {
    "duration": 3,
    "start_time": "2025-03-22T19:48:05.117Z"
   },
   {
    "duration": 3,
    "start_time": "2025-03-22T19:48:16.366Z"
   },
   {
    "duration": 5,
    "start_time": "2025-03-22T19:48:19.183Z"
   },
   {
    "duration": 53,
    "start_time": "2025-03-22T19:51:31.901Z"
   },
   {
    "duration": 49,
    "start_time": "2025-03-22T19:51:36.279Z"
   },
   {
    "duration": 54,
    "start_time": "2025-03-22T19:52:06.186Z"
   },
   {
    "duration": 11,
    "start_time": "2025-03-22T19:52:16.715Z"
   },
   {
    "duration": 13,
    "start_time": "2025-03-22T19:52:22.581Z"
   },
   {
    "duration": 11,
    "start_time": "2025-03-22T19:52:26.177Z"
   },
   {
    "duration": 13,
    "start_time": "2025-03-22T19:52:28.460Z"
   },
   {
    "duration": 11,
    "start_time": "2025-03-22T19:52:30.820Z"
   },
   {
    "duration": 14,
    "start_time": "2025-03-22T19:52:36.084Z"
   },
   {
    "duration": 7,
    "start_time": "2025-03-23T03:14:32.598Z"
   }
  ],
  "colab": {
   "collapsed_sections": [
    "E0vqbgi9ay0H",
    "VUC88oWjTJw2"
   ],
   "provenance": []
  },
  "kernelspec": {
   "display_name": "Python 3 (ipykernel)",
   "language": "python",
   "name": "python3"
  },
  "language_info": {
   "codemirror_mode": {
    "name": "ipython",
    "version": 3
   },
   "file_extension": ".py",
   "mimetype": "text/x-python",
   "name": "python",
   "nbconvert_exporter": "python",
   "pygments_lexer": "ipython3",
   "version": "3.9.19"
  },
  "toc": {
   "base_numbering": 1,
   "nav_menu": {},
   "number_sections": true,
   "sideBar": true,
   "skip_h1_title": true,
   "title_cell": "Table of Contents",
   "title_sidebar": "Contents",
   "toc_cell": false,
   "toc_position": {},
   "toc_section_display": true,
   "toc_window_display": false
  }
 },
 "nbformat": 4,
 "nbformat_minor": 1
}
