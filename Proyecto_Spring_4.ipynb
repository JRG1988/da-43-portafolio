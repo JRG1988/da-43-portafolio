{
 "cells": [
  {
   "cell_type": "markdown",
   "id": "aa2393eb",
   "metadata": {},
   "source": [
    "\n",
    "¡Hola, Julian!\n",
    "\n",
    "Mi nombre es Tonatiuh Cruz. Me complace revisar tu proyecto hoy.\n",
    "\n",
    "Al identificar cualquier error inicialmente, simplemente los destacaré. Te animo a localizar y abordar los problemas de forma independiente como parte de tu preparación para un rol como data-analyst. En un entorno profesional, tu líder de equipo seguiría un enfoque similar. Si encuentras la tarea desafiante, proporcionaré una pista más específica en la próxima iteración.\n",
    "\n",
    "Encontrarás mis comentarios a continuación - **por favor no los muevas, modifiques o elimines**.\n",
    "\n",
    "Puedes encontrar mis comentarios en cajas verdes, amarillas o rojas como esta:\n",
    "\n",
    "<div class=\"alert alert-block alert-success\">\n",
    "<b>Comentario del revisor</b> <a class=\"tocSkip\"></a>\n",
    "\n",
    "Éxito. Todo está hecho correctamente.\n",
    "</div>\n",
    "\n",
    "<div class=\"alert alert-block alert-warning\">\n",
    "<b>Comentario del revisor</b> <a class=\"tocSkip\"></a>\n",
    "\n",
    "Observaciones. Algunas recomendaciones.\n",
    "</div>\n",
    "\n",
    "<div class=\"alert alert-block alert-danger\">\n",
    "<b>Comentario del revisor</b> <a class=\"tocSkip\"></a>\n",
    "\n",
    "Necesita corrección. El bloque requiere algunas correcciones. El trabajo no puede ser aceptado con comentarios en rojo.\n",
    "</div>\n",
    "\n",
    "Puedes responderme utilizando esto:\n",
    "\n",
    "<div class=\"alert alert-block alert-info\">\n",
    "<b>Respuesta del estudiante.</b> <a class=\"tocSkip\"></a>\n",
    "</div>"
   ]
  },
  {
   "cell_type": "markdown",
   "id": "a6359e05",
   "metadata": {},
   "source": [
    "<div class=\"alert alert-block alert-success\">\n",
    "<b>Resumen de la revisión 1</b> <a class=\"tocSkip\"></a>\n",
    "\n",
    "Hola, Julian! Has hecho un excelente trabajo al realizar el proyecto, cargaste correctamente la información y la limpieza de esta información. \n",
    "\n",
    "Sigue con el excelente trabajo!\n",
    "</div>"
   ]
  },
  {
   "cell_type": "markdown",
   "id": "3Xg_RQfnafXz",
   "metadata": {
    "id": "3Xg_RQfnafXz"
   },
   "source": [
    "# ¡Llena ese carrito!"
   ]
  },
  {
   "cell_type": "markdown",
   "id": "mhIvmmkW414q",
   "metadata": {
    "id": "mhIvmmkW414q"
   },
   "source": [
    "# Introducción\n",
    "\n",
    "Instacart es una plataforma de entregas de comestibles donde la clientela puede registrar un pedido y hacer que se lo entreguen, similar a Uber Eats y Door Dash.\n",
    "El conjunto de datos que te hemos proporcionado tiene modificaciones del original. Redujimos el tamaño del conjunto para que tus cálculos se hicieran más rápido e introdujimos valores ausentes y duplicados. Tuvimos cuidado de conservar las distribuciones de los datos originales cuando hicimos los cambios.\n",
    "\n",
    "Debes completar tres pasos. Para cada uno de ellos, escribe una breve introducción que refleje con claridad cómo pretendes resolver cada paso, y escribe párrafos explicatorios que justifiquen tus decisiones al tiempo que avanzas en tu solución.  También escribe una conclusión que resuma tus hallazgos y elecciones.\n"
   ]
  },
  {
   "cell_type": "markdown",
   "id": "3MbyzpOQZ5Or",
   "metadata": {
    "id": "3MbyzpOQZ5Or"
   },
   "source": [
    "## Diccionario de datos\n",
    "\n",
    "Hay cinco tablas en el conjunto de datos, y tendrás que usarlas todas para hacer el preprocesamiento de datos y el análisis exploratorio de datos. A continuación se muestra un diccionario de datos que enumera las columnas de cada tabla y describe los datos que contienen.\n",
    "\n",
    "- `instacart_orders.csv`: cada fila corresponde a un pedido en la aplicación Instacart.\n",
    "    - `'order_id'`: número de ID que identifica de manera única cada pedido.\n",
    "    - `'user_id'`: número de ID que identifica de manera única la cuenta de cada cliente.\n",
    "    - `'order_number'`: el número de veces que este cliente ha hecho un pedido.\n",
    "    - `'order_dow'`: día de la semana en que se hizo el pedido (0 si es domingo).\n",
    "    - `'order_hour_of_day'`: hora del día en que se hizo el pedido.\n",
    "    - `'days_since_prior_order'`: número de días transcurridos desde que este cliente hizo su pedido anterior.\n",
    "- `products.csv`: cada fila corresponde a un producto único que pueden comprar los clientes.\n",
    "    - `'product_id'`: número ID que identifica de manera única cada producto.\n",
    "    - `'product_name'`: nombre del producto.\n",
    "    - `'aisle_id'`: número ID que identifica de manera única cada categoría de pasillo de víveres.\n",
    "    - `'department_id'`: número ID que identifica de manera única cada departamento de víveres.\n",
    "- `order_products.csv`: cada fila corresponde a un artículo pedido en un pedido.\n",
    "    - `'order_id'`: número de ID que identifica de manera única cada pedido.\n",
    "    - `'product_id'`: número ID que identifica de manera única cada producto.\n",
    "    - `'add_to_cart_order'`: el orden secuencial en el que se añadió cada artículo en el carrito.\n",
    "    - `'reordered'`: 0 si el cliente nunca ha pedido este producto antes, 1 si lo ha pedido.\n",
    "- `aisles.csv`\n",
    "    - `'aisle_id'`: número ID que identifica de manera única cada categoría de pasillo de víveres.\n",
    "    - `'aisle'`: nombre del pasillo.\n",
    "- `departments.csv`\n",
    "    - `'department_id'`: número ID que identifica de manera única cada departamento de víveres.\n",
    "    - `'department'`: nombre del departamento."
   ]
  },
  {
   "cell_type": "markdown",
   "id": "eaeea245",
   "metadata": {},
   "source": [
    "<div class=\"alert alert-block alert-success\">\n",
    "<b>Comentario del revisor</b> <a class=\"tocSkip\"></a>\n",
    "\n",
    "¡Hola! Excelente trabajo desarrollando la introducción y el diccionario de datos. Esto es crucial para cualquier proyecto, ya que establece una guía clara sobre los pasos a seguir. Tener estos elementos bien definidos desde el principio nos permite trabajar de manera más organizada y eficiente. En un futuro lo podrías complementar con una tabla de contenido.\n",
    "</div>"
   ]
  },
  {
   "cell_type": "markdown",
   "id": "n3Ha_cNSZ8lK",
   "metadata": {
    "id": "n3Ha_cNSZ8lK"
   },
   "source": [
    "# Paso 1. Descripción de los datos\n",
    "\n",
    "Lee los archivos de datos (`/datasets/instacart_orders.csv`, `/datasets/products.csv`, `/datasets/aisles.csv`, `/datasets/departments.csv` y `/datasets/order_products.csv`) con `pd.read_csv()` usando los parámetros adecuados para leer los datos correctamente. Verifica la información para cada DataFrame creado.\n"
   ]
  },
  {
   "cell_type": "markdown",
   "id": "OmlQPLlyaAfR",
   "metadata": {
    "id": "OmlQPLlyaAfR"
   },
   "source": [
    "## Plan de solución\n",
    "\n",
    "Escribe aquí tu plan de solución para el Paso 1. Descripción de los datos.\n",
    "\n",
    "En el # importar librerías lo que hice fue poner -import pandas as pd-, que es como se importan los archivos. A pesar de que en total son 5 archivos solo lo puse una vez ya que para todos es igual. En el # leer conjunto de datos en los DataFrame, le creé a cada archivo un nombre diferente de variable y  agregué el argumento (sep=';') para solucionar el delimitador que estaba utilizando Pandas que era la coma estándar (,), lo que causaba que todos los datos aparecieran en una única columna. Al final y como algo adicional utilicé en cada uno el método head() para ver las primeras filas de cada archivo."
   ]
  },
  {
   "cell_type": "code",
   "execution_count": 3,
   "id": "fbf1adab",
   "metadata": {
    "id": "fbf1adab"
   },
   "outputs": [],
   "source": [
    "# importar librerías\n",
    "import pandas as pd\n",
    "\n",
    "import matplotlib.pyplot as plt"
   ]
  },
  {
   "cell_type": "code",
   "execution_count": 4,
   "id": "ad36396d",
   "metadata": {
    "id": "ad36396d"
   },
   "outputs": [],
   "source": [
    "# leer conjuntos de datos en los DataFrames\n",
    "df_inst = pd.read_csv('/datasets/instacart_orders.csv', sep=';')\n",
    "df_prod = pd.read_csv('/datasets/products.csv', sep=';')\n",
    "df_ais = pd.read_csv('/datasets/aisles.csv', sep=';')\n",
    "df_depa = pd.read_csv('/datasets/departments.csv', sep=';')\n",
    "df_ord = pd.read_csv('/datasets/order_products.csv', sep=';')"
   ]
  },
  {
   "cell_type": "code",
   "execution_count": 5,
   "id": "ad6a1efa",
   "metadata": {
    "id": "ad6a1efa"
   },
   "outputs": [
    {
     "name": "stdout",
     "output_type": "stream",
     "text": [
      "<class 'pandas.core.frame.DataFrame'>\n",
      "RangeIndex: 478967 entries, 0 to 478966\n",
      "Data columns (total 6 columns):\n",
      " #   Column                  Non-Null Count   Dtype  \n",
      "---  ------                  --------------   -----  \n",
      " 0   order_id                478967 non-null  int64  \n",
      " 1   user_id                 478967 non-null  int64  \n",
      " 2   order_number            478967 non-null  int64  \n",
      " 3   order_dow               478967 non-null  int64  \n",
      " 4   order_hour_of_day       478967 non-null  int64  \n",
      " 5   days_since_prior_order  450148 non-null  float64\n",
      "dtypes: float64(1), int64(5)\n",
      "memory usage: 21.9 MB\n"
     ]
    }
   ],
   "source": [
    "# mostrar información del DataFrame\n",
    "df_inst.info()"
   ]
  },
  {
   "cell_type": "code",
   "execution_count": 6,
   "id": "5130e05e",
   "metadata": {
    "id": "5130e05e"
   },
   "outputs": [
    {
     "name": "stdout",
     "output_type": "stream",
     "text": [
      "<class 'pandas.core.frame.DataFrame'>\n",
      "RangeIndex: 49694 entries, 0 to 49693\n",
      "Data columns (total 4 columns):\n",
      " #   Column         Non-Null Count  Dtype \n",
      "---  ------         --------------  ----- \n",
      " 0   product_id     49694 non-null  int64 \n",
      " 1   product_name   48436 non-null  object\n",
      " 2   aisle_id       49694 non-null  int64 \n",
      " 3   department_id  49694 non-null  int64 \n",
      "dtypes: int64(3), object(1)\n",
      "memory usage: 1.5+ MB\n"
     ]
    }
   ],
   "source": [
    "# mostrar información del DataFrame\n",
    "df_prod.info()"
   ]
  },
  {
   "cell_type": "code",
   "execution_count": 7,
   "id": "d8370c05",
   "metadata": {
    "id": "d8370c05"
   },
   "outputs": [
    {
     "name": "stdout",
     "output_type": "stream",
     "text": [
      "<class 'pandas.core.frame.DataFrame'>\n",
      "RangeIndex: 134 entries, 0 to 133\n",
      "Data columns (total 2 columns):\n",
      " #   Column    Non-Null Count  Dtype \n",
      "---  ------    --------------  ----- \n",
      " 0   aisle_id  134 non-null    int64 \n",
      " 1   aisle     134 non-null    object\n",
      "dtypes: int64(1), object(1)\n",
      "memory usage: 2.2+ KB\n"
     ]
    }
   ],
   "source": [
    "# mostrar información del DataFrame\n",
    "df_ais.info()"
   ]
  },
  {
   "cell_type": "code",
   "execution_count": 8,
   "id": "59e2090f",
   "metadata": {
    "id": "59e2090f"
   },
   "outputs": [
    {
     "name": "stdout",
     "output_type": "stream",
     "text": [
      "<class 'pandas.core.frame.DataFrame'>\n",
      "RangeIndex: 21 entries, 0 to 20\n",
      "Data columns (total 2 columns):\n",
      " #   Column         Non-Null Count  Dtype \n",
      "---  ------         --------------  ----- \n",
      " 0   department_id  21 non-null     int64 \n",
      " 1   department     21 non-null     object\n",
      "dtypes: int64(1), object(1)\n",
      "memory usage: 464.0+ bytes\n"
     ]
    }
   ],
   "source": [
    "# mostrar información del DataFrame\n",
    "df_depa.info()"
   ]
  },
  {
   "cell_type": "code",
   "execution_count": 9,
   "id": "6fc81694",
   "metadata": {
    "id": "6fc81694",
    "scrolled": true
   },
   "outputs": [
    {
     "name": "stdout",
     "output_type": "stream",
     "text": [
      "<class 'pandas.core.frame.DataFrame'>\n",
      "RangeIndex: 4545007 entries, 0 to 4545006\n",
      "Data columns (total 4 columns):\n",
      " #   Column             Non-Null Count    Dtype  \n",
      "---  ------             --------------    -----  \n",
      " 0   order_id           4545007 non-null  int64  \n",
      " 1   product_id         4545007 non-null  int64  \n",
      " 2   add_to_cart_order  4544171 non-null  float64\n",
      " 3   reordered          4545007 non-null  int64  \n",
      "dtypes: float64(1), int64(3)\n",
      "memory usage: 138.7 MB\n"
     ]
    }
   ],
   "source": [
    "# mostrar información del DataFrame\n",
    "df_ord.info(show_counts=True)"
   ]
  },
  {
   "cell_type": "code",
   "execution_count": 10,
   "id": "bdbb39ae",
   "metadata": {},
   "outputs": [
    {
     "name": "stdout",
     "output_type": "stream",
     "text": [
      "   order_id  user_id  order_number  order_dow  order_hour_of_day  \\\n",
      "0   1515936   183418            11          6                 13   \n",
      "1   1690866   163593             5          5                 12   \n",
      "2   1454967    39980             4          5                 19   \n",
      "3   1768857    82516            56          0                 20   \n",
      "4   3007858   196724             2          4                 12   \n",
      "\n",
      "   days_since_prior_order  \n",
      "0                    30.0  \n",
      "1                     9.0  \n",
      "2                     2.0  \n",
      "3                    10.0  \n",
      "4                    17.0  \n",
      "\n",
      "   product_id                                       product_name  aisle_id  \\\n",
      "0           1                         Chocolate Sandwich Cookies        61   \n",
      "1           2                                   All-Seasons Salt       104   \n",
      "2           3               Robust Golden Unsweetened Oolong Tea        94   \n",
      "3           4  Smart Ones Classic Favorites Mini Rigatoni Wit...        38   \n",
      "4           5                          Green Chile Anytime Sauce         5   \n",
      "\n",
      "   department_id  \n",
      "0             19  \n",
      "1             13  \n",
      "2              7  \n",
      "3              1  \n",
      "4             13  \n",
      "\n",
      "   aisle_id                       aisle\n",
      "0         1       prepared soups salads\n",
      "1         2           specialty cheeses\n",
      "2         3         energy granola bars\n",
      "3         4               instant foods\n",
      "4         5  marinades meat preparation\n",
      "\n",
      "   department_id department\n",
      "0              1     frozen\n",
      "1              2      other\n",
      "2              3     bakery\n",
      "3              4    produce\n",
      "4              5    alcohol\n",
      "\n",
      "   order_id  product_id  add_to_cart_order  reordered\n",
      "0   2141543       11440               17.0          0\n",
      "1    567889        1560                1.0          1\n",
      "2   2261212       26683                1.0          1\n",
      "3    491251        8670               35.0          1\n",
      "4   2571142        1940                5.0          1\n"
     ]
    }
   ],
   "source": [
    "print(df_inst.head())\n",
    "print()\n",
    "print(df_prod.head())\n",
    "print()\n",
    "print(df_ais.head())\n",
    "print()\n",
    "print(df_depa.head())\n",
    "print()\n",
    "print(df_ord.head())  "
   ]
  },
  {
   "cell_type": "markdown",
   "id": "eb533e1f",
   "metadata": {},
   "source": [
    "<div class=\"alert alert-block alert-success\">\n",
    "<b>Comentario del revisor</b> <a class=\"tocSkip\"></a>\n",
    "\n",
    "Muy buen trabajo con la carga de la información\n",
    "    "
   ]
  },
  {
   "cell_type": "markdown",
   "id": "t75BD19oaR5f",
   "metadata": {
    "id": "t75BD19oaR5f"
   },
   "source": [
    "## Conclusiones\n",
    "\n",
    "Escribe aquí tus conclusiones intermedias sobre el Paso 1. Descripción de los datos.\n",
    "\n",
    "La información concuerda con las archivos menos el de uno: /datasets/order_products.csv, al sacar la información me dice que hay 4545007 entradas y en el archivo solo hay 1048575. Eso fue lo único que no me quedó claro. Como explique anteriormente el resto de la información se ajusta con lo que revisé en los archivos y seguí los parámetros establecidos en las instrucciones agregando el argumento sep= para separar los archivos por ;.Al final y auqnue no me lo pedían, utilicé el método head() para ver las primeras 5 filas de cada archivo."
   ]
  },
  {
   "cell_type": "markdown",
   "id": "8RJHqxVmaVsF",
   "metadata": {
    "id": "8RJHqxVmaVsF"
   },
   "source": [
    "# Paso 2. Preprocesamiento de los datos\n",
    "\n",
    "Preprocesa los datos de la siguiente manera:\n",
    "\n",
    "- Verifica y corrige los tipos de datos (por ejemplo, asegúrate de que las columnas de ID sean números enteros).\n",
    "- Identifica y completa los valores ausentes.b\n",
    "- Identifica y elimina los valores duplicados.\n",
    "\n",
    "Asegúrate de explicar qué tipos de valores ausentes y duplicados encontraste, cómo los completaste o eliminaste y por qué usaste esos métodos. ¿Por qué crees que estos valores ausentes y duplicados pueden haber estado presentes en el conjunto de datos?"
   ]
  },
  {
   "cell_type": "markdown",
   "id": "p6poABZQaZYb",
   "metadata": {
    "id": "p6poABZQaZYb"
   },
   "source": [
    "## Plan de solución\n",
    "\n",
    "Escribe aquí tu plan para el Paso 2. Preprocesamiento de los datos."
   ]
  },
  {
   "cell_type": "markdown",
   "id": "07357848-dc64-4156-9cc3-01ff4365226d",
   "metadata": {
    "id": "07357848-dc64-4156-9cc3-01ff4365226d"
   },
   "source": [
    "## Encuentra y elimina los valores duplicados (y describe cómo tomaste tus decisiones)."
   ]
  },
  {
   "cell_type": "markdown",
   "id": "f179f0a9",
   "metadata": {
    "id": "f179f0a9"
   },
   "source": [
    "### `orders` data frame"
   ]
  },
  {
   "cell_type": "code",
   "execution_count": 11,
   "id": "b99297a5-405a-463d-8535-9adc3da4ad74",
   "metadata": {
    "id": "b99297a5-405a-463d-8535-9adc3da4ad74"
   },
   "outputs": [
    {
     "data": {
      "text/plain": [
       "15"
      ]
     },
     "execution_count": 11,
     "metadata": {},
     "output_type": "execute_result"
    }
   ],
   "source": [
    "# Revisa si hay pedidos duplicados\n",
    "df_inst.duplicated().sum() "
   ]
  },
  {
   "cell_type": "code",
   "execution_count": 12,
   "id": "6ac57c0f",
   "metadata": {},
   "outputs": [
    {
     "data": {
      "text/html": [
       "<div>\n",
       "<style scoped>\n",
       "    .dataframe tbody tr th:only-of-type {\n",
       "        vertical-align: middle;\n",
       "    }\n",
       "\n",
       "    .dataframe tbody tr th {\n",
       "        vertical-align: top;\n",
       "    }\n",
       "\n",
       "    .dataframe thead th {\n",
       "        text-align: right;\n",
       "    }\n",
       "</style>\n",
       "<table border=\"1\" class=\"dataframe\">\n",
       "  <thead>\n",
       "    <tr style=\"text-align: right;\">\n",
       "      <th></th>\n",
       "      <th>order_id</th>\n",
       "      <th>user_id</th>\n",
       "      <th>order_number</th>\n",
       "      <th>order_dow</th>\n",
       "      <th>order_hour_of_day</th>\n",
       "      <th>days_since_prior_order</th>\n",
       "    </tr>\n",
       "  </thead>\n",
       "  <tbody>\n",
       "    <tr>\n",
       "      <th>145574</th>\n",
       "      <td>794638</td>\n",
       "      <td>50898</td>\n",
       "      <td>24</td>\n",
       "      <td>3</td>\n",
       "      <td>2</td>\n",
       "      <td>2.0</td>\n",
       "    </tr>\n",
       "    <tr>\n",
       "      <th>223105</th>\n",
       "      <td>2160484</td>\n",
       "      <td>107525</td>\n",
       "      <td>16</td>\n",
       "      <td>3</td>\n",
       "      <td>2</td>\n",
       "      <td>30.0</td>\n",
       "    </tr>\n",
       "    <tr>\n",
       "      <th>230807</th>\n",
       "      <td>1918001</td>\n",
       "      <td>188546</td>\n",
       "      <td>14</td>\n",
       "      <td>3</td>\n",
       "      <td>2</td>\n",
       "      <td>16.0</td>\n",
       "    </tr>\n",
       "    <tr>\n",
       "      <th>266232</th>\n",
       "      <td>1782114</td>\n",
       "      <td>106752</td>\n",
       "      <td>1</td>\n",
       "      <td>3</td>\n",
       "      <td>2</td>\n",
       "      <td>NaN</td>\n",
       "    </tr>\n",
       "    <tr>\n",
       "      <th>273805</th>\n",
       "      <td>1112182</td>\n",
       "      <td>202304</td>\n",
       "      <td>84</td>\n",
       "      <td>3</td>\n",
       "      <td>2</td>\n",
       "      <td>6.0</td>\n",
       "    </tr>\n",
       "    <tr>\n",
       "      <th>284038</th>\n",
       "      <td>2845099</td>\n",
       "      <td>31189</td>\n",
       "      <td>11</td>\n",
       "      <td>3</td>\n",
       "      <td>2</td>\n",
       "      <td>7.0</td>\n",
       "    </tr>\n",
       "    <tr>\n",
       "      <th>311713</th>\n",
       "      <td>1021560</td>\n",
       "      <td>53767</td>\n",
       "      <td>3</td>\n",
       "      <td>3</td>\n",
       "      <td>2</td>\n",
       "      <td>9.0</td>\n",
       "    </tr>\n",
       "    <tr>\n",
       "      <th>321100</th>\n",
       "      <td>408114</td>\n",
       "      <td>68324</td>\n",
       "      <td>4</td>\n",
       "      <td>3</td>\n",
       "      <td>2</td>\n",
       "      <td>18.0</td>\n",
       "    </tr>\n",
       "    <tr>\n",
       "      <th>323900</th>\n",
       "      <td>1919531</td>\n",
       "      <td>191501</td>\n",
       "      <td>32</td>\n",
       "      <td>3</td>\n",
       "      <td>2</td>\n",
       "      <td>7.0</td>\n",
       "    </tr>\n",
       "    <tr>\n",
       "      <th>345917</th>\n",
       "      <td>2232988</td>\n",
       "      <td>82565</td>\n",
       "      <td>1</td>\n",
       "      <td>3</td>\n",
       "      <td>2</td>\n",
       "      <td>NaN</td>\n",
       "    </tr>\n",
       "    <tr>\n",
       "      <th>371905</th>\n",
       "      <td>391768</td>\n",
       "      <td>57671</td>\n",
       "      <td>19</td>\n",
       "      <td>3</td>\n",
       "      <td>2</td>\n",
       "      <td>10.0</td>\n",
       "    </tr>\n",
       "    <tr>\n",
       "      <th>394347</th>\n",
       "      <td>467134</td>\n",
       "      <td>63189</td>\n",
       "      <td>21</td>\n",
       "      <td>3</td>\n",
       "      <td>2</td>\n",
       "      <td>2.0</td>\n",
       "    </tr>\n",
       "    <tr>\n",
       "      <th>411408</th>\n",
       "      <td>1286742</td>\n",
       "      <td>183220</td>\n",
       "      <td>48</td>\n",
       "      <td>3</td>\n",
       "      <td>2</td>\n",
       "      <td>4.0</td>\n",
       "    </tr>\n",
       "    <tr>\n",
       "      <th>415163</th>\n",
       "      <td>2282673</td>\n",
       "      <td>86751</td>\n",
       "      <td>49</td>\n",
       "      <td>3</td>\n",
       "      <td>2</td>\n",
       "      <td>2.0</td>\n",
       "    </tr>\n",
       "    <tr>\n",
       "      <th>441599</th>\n",
       "      <td>2125197</td>\n",
       "      <td>14050</td>\n",
       "      <td>48</td>\n",
       "      <td>3</td>\n",
       "      <td>2</td>\n",
       "      <td>3.0</td>\n",
       "    </tr>\n",
       "  </tbody>\n",
       "</table>\n",
       "</div>"
      ],
      "text/plain": [
       "        order_id  user_id  order_number  order_dow  order_hour_of_day  \\\n",
       "145574    794638    50898            24          3                  2   \n",
       "223105   2160484   107525            16          3                  2   \n",
       "230807   1918001   188546            14          3                  2   \n",
       "266232   1782114   106752             1          3                  2   \n",
       "273805   1112182   202304            84          3                  2   \n",
       "284038   2845099    31189            11          3                  2   \n",
       "311713   1021560    53767             3          3                  2   \n",
       "321100    408114    68324             4          3                  2   \n",
       "323900   1919531   191501            32          3                  2   \n",
       "345917   2232988    82565             1          3                  2   \n",
       "371905    391768    57671            19          3                  2   \n",
       "394347    467134    63189            21          3                  2   \n",
       "411408   1286742   183220            48          3                  2   \n",
       "415163   2282673    86751            49          3                  2   \n",
       "441599   2125197    14050            48          3                  2   \n",
       "\n",
       "        days_since_prior_order  \n",
       "145574                     2.0  \n",
       "223105                    30.0  \n",
       "230807                    16.0  \n",
       "266232                     NaN  \n",
       "273805                     6.0  \n",
       "284038                     7.0  \n",
       "311713                     9.0  \n",
       "321100                    18.0  \n",
       "323900                     7.0  \n",
       "345917                     NaN  \n",
       "371905                    10.0  \n",
       "394347                     2.0  \n",
       "411408                     4.0  \n",
       "415163                     2.0  \n",
       "441599                     3.0  "
      ]
     },
     "execution_count": 12,
     "metadata": {},
     "output_type": "execute_result"
    }
   ],
   "source": [
    "df_inst[df_inst.duplicated()]"
   ]
  },
  {
   "cell_type": "markdown",
   "id": "PEkwUX_gvt5A",
   "metadata": {
    "id": "PEkwUX_gvt5A"
   },
   "source": [
    "¿Tienes líneas duplicadas? Si sí, ¿qué tienen en común?\n",
    "\n",
    "Sí, tengo 15 filas repetidas. Todas las filas repetidas fueron el miércoles a las 2:00 a.m."
   ]
  },
  {
   "cell_type": "code",
   "execution_count": 13,
   "id": "0d44de5d",
   "metadata": {
    "id": "0d44de5d",
    "scrolled": true
   },
   "outputs": [
    {
     "data": {
      "text/html": [
       "<div>\n",
       "<style scoped>\n",
       "    .dataframe tbody tr th:only-of-type {\n",
       "        vertical-align: middle;\n",
       "    }\n",
       "\n",
       "    .dataframe tbody tr th {\n",
       "        vertical-align: top;\n",
       "    }\n",
       "\n",
       "    .dataframe thead th {\n",
       "        text-align: right;\n",
       "    }\n",
       "</style>\n",
       "<table border=\"1\" class=\"dataframe\">\n",
       "  <thead>\n",
       "    <tr style=\"text-align: right;\">\n",
       "      <th></th>\n",
       "      <th>order_id</th>\n",
       "      <th>user_id</th>\n",
       "      <th>order_number</th>\n",
       "      <th>order_dow</th>\n",
       "      <th>order_hour_of_day</th>\n",
       "      <th>days_since_prior_order</th>\n",
       "    </tr>\n",
       "  </thead>\n",
       "  <tbody>\n",
       "    <tr>\n",
       "      <th>4838</th>\n",
       "      <td>2766110</td>\n",
       "      <td>162084</td>\n",
       "      <td>41</td>\n",
       "      <td>3</td>\n",
       "      <td>2</td>\n",
       "      <td>16.0</td>\n",
       "    </tr>\n",
       "    <tr>\n",
       "      <th>5156</th>\n",
       "      <td>2190225</td>\n",
       "      <td>138285</td>\n",
       "      <td>18</td>\n",
       "      <td>3</td>\n",
       "      <td>2</td>\n",
       "      <td>11.0</td>\n",
       "    </tr>\n",
       "    <tr>\n",
       "      <th>15506</th>\n",
       "      <td>553049</td>\n",
       "      <td>58599</td>\n",
       "      <td>13</td>\n",
       "      <td>3</td>\n",
       "      <td>2</td>\n",
       "      <td>7.0</td>\n",
       "    </tr>\n",
       "    <tr>\n",
       "      <th>18420</th>\n",
       "      <td>382357</td>\n",
       "      <td>120200</td>\n",
       "      <td>19</td>\n",
       "      <td>3</td>\n",
       "      <td>2</td>\n",
       "      <td>11.0</td>\n",
       "    </tr>\n",
       "    <tr>\n",
       "      <th>24691</th>\n",
       "      <td>690242</td>\n",
       "      <td>77357</td>\n",
       "      <td>2</td>\n",
       "      <td>3</td>\n",
       "      <td>2</td>\n",
       "      <td>9.0</td>\n",
       "    </tr>\n",
       "    <tr>\n",
       "      <th>...</th>\n",
       "      <td>...</td>\n",
       "      <td>...</td>\n",
       "      <td>...</td>\n",
       "      <td>...</td>\n",
       "      <td>...</td>\n",
       "      <td>...</td>\n",
       "    </tr>\n",
       "    <tr>\n",
       "      <th>457013</th>\n",
       "      <td>3384021</td>\n",
       "      <td>14881</td>\n",
       "      <td>6</td>\n",
       "      <td>3</td>\n",
       "      <td>2</td>\n",
       "      <td>30.0</td>\n",
       "    </tr>\n",
       "    <tr>\n",
       "      <th>458816</th>\n",
       "      <td>910166</td>\n",
       "      <td>164782</td>\n",
       "      <td>18</td>\n",
       "      <td>3</td>\n",
       "      <td>2</td>\n",
       "      <td>4.0</td>\n",
       "    </tr>\n",
       "    <tr>\n",
       "      <th>459635</th>\n",
       "      <td>1680532</td>\n",
       "      <td>106435</td>\n",
       "      <td>6</td>\n",
       "      <td>3</td>\n",
       "      <td>2</td>\n",
       "      <td>21.0</td>\n",
       "    </tr>\n",
       "    <tr>\n",
       "      <th>468324</th>\n",
       "      <td>222962</td>\n",
       "      <td>54979</td>\n",
       "      <td>59</td>\n",
       "      <td>3</td>\n",
       "      <td>2</td>\n",
       "      <td>3.0</td>\n",
       "    </tr>\n",
       "    <tr>\n",
       "      <th>477526</th>\n",
       "      <td>2592344</td>\n",
       "      <td>46860</td>\n",
       "      <td>38</td>\n",
       "      <td>3</td>\n",
       "      <td>2</td>\n",
       "      <td>3.0</td>\n",
       "    </tr>\n",
       "  </tbody>\n",
       "</table>\n",
       "<p>121 rows × 6 columns</p>\n",
       "</div>"
      ],
      "text/plain": [
       "        order_id  user_id  order_number  order_dow  order_hour_of_day  \\\n",
       "4838     2766110   162084            41          3                  2   \n",
       "5156     2190225   138285            18          3                  2   \n",
       "15506     553049    58599            13          3                  2   \n",
       "18420     382357   120200            19          3                  2   \n",
       "24691     690242    77357             2          3                  2   \n",
       "...          ...      ...           ...        ...                ...   \n",
       "457013   3384021    14881             6          3                  2   \n",
       "458816    910166   164782            18          3                  2   \n",
       "459635   1680532   106435             6          3                  2   \n",
       "468324    222962    54979            59          3                  2   \n",
       "477526   2592344    46860            38          3                  2   \n",
       "\n",
       "        days_since_prior_order  \n",
       "4838                      16.0  \n",
       "5156                      11.0  \n",
       "15506                      7.0  \n",
       "18420                     11.0  \n",
       "24691                      9.0  \n",
       "...                        ...  \n",
       "457013                    30.0  \n",
       "458816                     4.0  \n",
       "459635                    21.0  \n",
       "468324                     3.0  \n",
       "477526                     3.0  \n",
       "\n",
       "[121 rows x 6 columns]"
      ]
     },
     "execution_count": 13,
     "metadata": {},
     "output_type": "execute_result"
    }
   ],
   "source": [
    "# Basándote en tus hallazgos,\n",
    "# Verifica todos los pedidos que se hicieron el miércoles a las 2:00 a.m.\n",
    "df_inst.query('order_dow == 3 and order_hour_of_day == 2')"
   ]
  },
  {
   "cell_type": "code",
   "execution_count": 14,
   "id": "a2e32b82",
   "metadata": {},
   "outputs": [
    {
     "data": {
      "text/plain": [
       "0.12396694214876033"
      ]
     },
     "execution_count": 14,
     "metadata": {},
     "output_type": "execute_result"
    }
   ],
   "source": [
    "df_inst[df_inst.duplicated()].shape[0]/df_inst.query('order_dow == 3 and order_hour_of_day == 2').shape[0]"
   ]
  },
  {
   "cell_type": "markdown",
   "id": "vu2OWyoqwOx5",
   "metadata": {
    "id": "vu2OWyoqwOx5"
   },
   "source": [
    "¿Qué sugiere este resultado?\n",
    "\n",
    "Esto sugiere que del total de facturas emitidas el miércoles a las 2:00 a.m. el 12% son repetidas."
   ]
  },
  {
   "cell_type": "code",
   "execution_count": 15,
   "id": "480563c7",
   "metadata": {
    "id": "480563c7"
   },
   "outputs": [
    {
     "data": {
      "text/html": [
       "<div>\n",
       "<style scoped>\n",
       "    .dataframe tbody tr th:only-of-type {\n",
       "        vertical-align: middle;\n",
       "    }\n",
       "\n",
       "    .dataframe tbody tr th {\n",
       "        vertical-align: top;\n",
       "    }\n",
       "\n",
       "    .dataframe thead th {\n",
       "        text-align: right;\n",
       "    }\n",
       "</style>\n",
       "<table border=\"1\" class=\"dataframe\">\n",
       "  <thead>\n",
       "    <tr style=\"text-align: right;\">\n",
       "      <th></th>\n",
       "      <th>order_id</th>\n",
       "      <th>user_id</th>\n",
       "      <th>order_number</th>\n",
       "      <th>order_dow</th>\n",
       "      <th>order_hour_of_day</th>\n",
       "      <th>days_since_prior_order</th>\n",
       "    </tr>\n",
       "  </thead>\n",
       "  <tbody>\n",
       "    <tr>\n",
       "      <th>0</th>\n",
       "      <td>1515936</td>\n",
       "      <td>183418</td>\n",
       "      <td>11</td>\n",
       "      <td>6</td>\n",
       "      <td>13</td>\n",
       "      <td>30.0</td>\n",
       "    </tr>\n",
       "    <tr>\n",
       "      <th>1</th>\n",
       "      <td>1690866</td>\n",
       "      <td>163593</td>\n",
       "      <td>5</td>\n",
       "      <td>5</td>\n",
       "      <td>12</td>\n",
       "      <td>9.0</td>\n",
       "    </tr>\n",
       "    <tr>\n",
       "      <th>2</th>\n",
       "      <td>1454967</td>\n",
       "      <td>39980</td>\n",
       "      <td>4</td>\n",
       "      <td>5</td>\n",
       "      <td>19</td>\n",
       "      <td>2.0</td>\n",
       "    </tr>\n",
       "    <tr>\n",
       "      <th>3</th>\n",
       "      <td>1768857</td>\n",
       "      <td>82516</td>\n",
       "      <td>56</td>\n",
       "      <td>0</td>\n",
       "      <td>20</td>\n",
       "      <td>10.0</td>\n",
       "    </tr>\n",
       "    <tr>\n",
       "      <th>4</th>\n",
       "      <td>3007858</td>\n",
       "      <td>196724</td>\n",
       "      <td>2</td>\n",
       "      <td>4</td>\n",
       "      <td>12</td>\n",
       "      <td>17.0</td>\n",
       "    </tr>\n",
       "    <tr>\n",
       "      <th>...</th>\n",
       "      <td>...</td>\n",
       "      <td>...</td>\n",
       "      <td>...</td>\n",
       "      <td>...</td>\n",
       "      <td>...</td>\n",
       "      <td>...</td>\n",
       "    </tr>\n",
       "    <tr>\n",
       "      <th>478962</th>\n",
       "      <td>3210681</td>\n",
       "      <td>5617</td>\n",
       "      <td>5</td>\n",
       "      <td>1</td>\n",
       "      <td>14</td>\n",
       "      <td>7.0</td>\n",
       "    </tr>\n",
       "    <tr>\n",
       "      <th>478963</th>\n",
       "      <td>3270802</td>\n",
       "      <td>112087</td>\n",
       "      <td>2</td>\n",
       "      <td>3</td>\n",
       "      <td>13</td>\n",
       "      <td>6.0</td>\n",
       "    </tr>\n",
       "    <tr>\n",
       "      <th>478964</th>\n",
       "      <td>885349</td>\n",
       "      <td>82944</td>\n",
       "      <td>16</td>\n",
       "      <td>2</td>\n",
       "      <td>11</td>\n",
       "      <td>6.0</td>\n",
       "    </tr>\n",
       "    <tr>\n",
       "      <th>478965</th>\n",
       "      <td>216274</td>\n",
       "      <td>4391</td>\n",
       "      <td>3</td>\n",
       "      <td>3</td>\n",
       "      <td>8</td>\n",
       "      <td>8.0</td>\n",
       "    </tr>\n",
       "    <tr>\n",
       "      <th>478966</th>\n",
       "      <td>2071924</td>\n",
       "      <td>1730</td>\n",
       "      <td>18</td>\n",
       "      <td>1</td>\n",
       "      <td>14</td>\n",
       "      <td>15.0</td>\n",
       "    </tr>\n",
       "  </tbody>\n",
       "</table>\n",
       "<p>478952 rows × 6 columns</p>\n",
       "</div>"
      ],
      "text/plain": [
       "        order_id  user_id  order_number  order_dow  order_hour_of_day  \\\n",
       "0        1515936   183418            11          6                 13   \n",
       "1        1690866   163593             5          5                 12   \n",
       "2        1454967    39980             4          5                 19   \n",
       "3        1768857    82516            56          0                 20   \n",
       "4        3007858   196724             2          4                 12   \n",
       "...          ...      ...           ...        ...                ...   \n",
       "478962   3210681     5617             5          1                 14   \n",
       "478963   3270802   112087             2          3                 13   \n",
       "478964    885349    82944            16          2                 11   \n",
       "478965    216274     4391             3          3                  8   \n",
       "478966   2071924     1730            18          1                 14   \n",
       "\n",
       "        days_since_prior_order  \n",
       "0                         30.0  \n",
       "1                          9.0  \n",
       "2                          2.0  \n",
       "3                         10.0  \n",
       "4                         17.0  \n",
       "...                        ...  \n",
       "478962                     7.0  \n",
       "478963                     6.0  \n",
       "478964                     6.0  \n",
       "478965                     8.0  \n",
       "478966                    15.0  \n",
       "\n",
       "[478952 rows x 6 columns]"
      ]
     },
     "execution_count": 15,
     "metadata": {},
     "output_type": "execute_result"
    }
   ],
   "source": [
    "# Elimina los pedidos duplicados\n",
    "df_inst.drop_duplicates()"
   ]
  },
  {
   "cell_type": "code",
   "execution_count": 16,
   "id": "0b2396a2",
   "metadata": {
    "id": "0b2396a2"
   },
   "outputs": [],
   "source": [
    "# Vuelve a verificar si hay filas duplicadas\n",
    "df_inst= df_inst.drop_duplicates()"
   ]
  },
  {
   "cell_type": "code",
   "execution_count": 17,
   "id": "33b1635d",
   "metadata": {},
   "outputs": [
    {
     "data": {
      "text/plain": [
       "0"
      ]
     },
     "execution_count": 17,
     "metadata": {},
     "output_type": "execute_result"
    }
   ],
   "source": [
    "df_inst.duplicated().sum()"
   ]
  },
  {
   "cell_type": "code",
   "execution_count": 18,
   "id": "f6113ef1",
   "metadata": {
    "id": "f6113ef1"
   },
   "outputs": [
    {
     "data": {
      "text/plain": [
       "0"
      ]
     },
     "execution_count": 18,
     "metadata": {},
     "output_type": "execute_result"
    }
   ],
   "source": [
    "# Vuelve a verificar únicamente si hay IDs duplicados de pedidos\n",
    "\n",
    "df_inst['order_id'].duplicated().sum()"
   ]
  },
  {
   "cell_type": "markdown",
   "id": "5e8905ae",
   "metadata": {
    "id": "5e8905ae"
   },
   "source": [
    "Describe brevemente tus hallazgos y lo que hiciste con ellos\n",
    "\n",
    "Ya no hay IDs duplicados ni tampoco filas, como explique más arriba se pudo constatar que del total de facturas emitidas el miércoles a las 2:00 a.m. el 12% son repetidas. "
   ]
  },
  {
   "cell_type": "markdown",
   "id": "d09f1575",
   "metadata": {},
   "source": [
    "<div class=\"alert alert-block alert-success\">\n",
    "<b>Comentario del revisor</b> <a class=\"tocSkip\"></a>\n",
    "\n",
    "Gran trabajo con el análisis de duplicados"
   ]
  },
  {
   "cell_type": "markdown",
   "id": "45e6bc46",
   "metadata": {
    "id": "45e6bc46"
   },
   "source": [
    "### `products` data frame"
   ]
  },
  {
   "cell_type": "code",
   "execution_count": 19,
   "id": "5f526b5b-8175-46fa-a0fd-441767d50e64",
   "metadata": {
    "id": "5f526b5b-8175-46fa-a0fd-441767d50e64"
   },
   "outputs": [
    {
     "data": {
      "text/plain": [
       "0"
      ]
     },
     "execution_count": 19,
     "metadata": {},
     "output_type": "execute_result"
    }
   ],
   "source": [
    "# Verifica si hay filas totalmente duplicadas\n",
    "df_prod.duplicated().sum()"
   ]
  },
  {
   "cell_type": "code",
   "execution_count": 20,
   "id": "88daa4f4",
   "metadata": {
    "id": "88daa4f4"
   },
   "outputs": [
    {
     "data": {
      "text/plain": [
       "49673"
      ]
     },
     "execution_count": 20,
     "metadata": {},
     "output_type": "execute_result"
    }
   ],
   "source": [
    "# Revisa únicamente si hay ID de departamentos duplicados\n",
    "df_prod['department_id'].duplicated().sum()"
   ]
  },
  {
   "cell_type": "code",
   "execution_count": 92,
   "id": "c773f0bf",
   "metadata": {
    "id": "c773f0bf",
    "scrolled": true
   },
   "outputs": [
    {
     "data": {
      "text/plain": [
       "1361"
      ]
     },
     "execution_count": 92,
     "metadata": {},
     "output_type": "execute_result"
    }
   ],
   "source": [
    "# Revisa únicamente si hay nombres duplicados de productos (convierte los nombres a letras mayúsculas para compararlos mejor)\n",
    "df_prod['product_name'].str.upper().duplicated().sum()"
   ]
  },
  {
   "cell_type": "code",
   "execution_count": 90,
   "id": "9b00ab8a",
   "metadata": {},
   "outputs": [
    {
     "name": "stdout",
     "output_type": "stream",
     "text": [
      "Número de productos duplicados (excluyendo 'Unknown' y nulos): 207\n"
     ]
    }
   ],
   "source": [
    "# Revisa únicamente si hay nombres duplicados de productos (convierte los nombres a letras mayúsculas para compararlos mejor)\n",
    "duplicados_productos = df_prod[(~df_prod['product_name'].isna()) & (df_prod['product_name'] != 'Unknown') & (df_prod['product_name'].str.strip().str.upper().duplicated(keep=False))  \n",
    "]  \n",
    "  \n",
    "num_duplicados = len(duplicados_productos)  \n",
    "print(\"Número de productos duplicados (excluyendo 'Unknown' y nulos):\", num_duplicados)"
   ]
  },
  {
   "cell_type": "code",
   "execution_count": 91,
   "id": "01efd02e",
   "metadata": {
    "id": "01efd02e"
   },
   "outputs": [
    {
     "data": {
      "text/plain": [
       "1257"
      ]
     },
     "execution_count": 91,
     "metadata": {},
     "output_type": "execute_result"
    }
   ],
   "source": [
    "# Revisa si hay nombres duplicados de productos no faltantes\n",
    "df_prod[df_prod['product_name'].isna()==False]['product_name'].duplicated().sum()"
   ]
  },
  {
   "cell_type": "markdown",
   "id": "3a0423a8",
   "metadata": {},
   "source": [
    "<div class=\"alert alert-block alert-danger\">\n",
    "<b>Comentario del revisor</b> <a class=\"tocSkip\"></a>\n",
    "\n",
    " Solamente la verificación de duplicados te recomiendo hacerla sobre la varialble de nombre del producto. Para esto te puedes guiar del siguiente ejemplo:\n",
    "    \n",
    "    products[(~products['product_name'].isna()) & products['product_name'].duplicated()]\n",
    "    \n",
    "</div>\n",
    "\n",
    "\n"
   ]
  },
  {
   "cell_type": "markdown",
   "id": "2cf23bcd",
   "metadata": {},
   "source": [
    "<div class=\"alert alert-block alert-success\">\n",
    "<b>Comentario del revisor</b> <a class=\"tocSkip\"></a>\n",
    "\n",
    "Muy buen trabajo con el ajuste!"
   ]
  },
  {
   "cell_type": "markdown",
   "id": "e1835412",
   "metadata": {},
   "source": [
    "He realizado las correcciones indicadas, cree una nueva celda debajo de In [90] y con el nuevo cambio obtuve un total de 207 productos duplicados (excluyendo los que son \"Unknown\" y los nulos)."
   ]
  },
  {
   "cell_type": "markdown",
   "id": "9da8d293",
   "metadata": {
    "id": "9da8d293"
   },
   "source": [
    "Describe brevemente tus hallazgos y lo que hiciste con ellos.\n",
    "\n",
    "Tomé los datos del archivo products.csv; primero revisé si habían duplicados con el método duplicated() e hice la sumatoria con el método sum(). Después llamé a la columna 'department_id' para revisar si había valores duplicados, prácticamente todos fueron valores duplicados, ya que el número 49,673 representa la cantidad de veces que un producto pertenece a un departamento que ya apareció antes en la lista. \n",
    "En los dos últimos ejercicios llamé a la columna 'product_name', en el primero volví a utilizar el método dplicated() y el método sum() para saber los nombres duplicados, sin embargo, antes utilicé el método Upper() para convertir todo a mayúsculas. Finalmente, volví a utilizar los métodos duplicated() y sum(), pero esta vez para encontrar con ayuda de isna() los valores no faltantes, es decir, los valores que no son ausentes. "
   ]
  },
  {
   "cell_type": "markdown",
   "id": "60f30db1",
   "metadata": {
    "id": "60f30db1"
   },
   "source": [
    "### `departments` data frame"
   ]
  },
  {
   "cell_type": "code",
   "execution_count": 24,
   "id": "fb410ad4-0fbf-4b80-bb09-23fdea79afe3",
   "metadata": {
    "id": "fb410ad4-0fbf-4b80-bb09-23fdea79afe3"
   },
   "outputs": [
    {
     "data": {
      "text/plain": [
       "0"
      ]
     },
     "execution_count": 24,
     "metadata": {},
     "output_type": "execute_result"
    }
   ],
   "source": [
    "# Revisa si hay filas totalmente duplicadas\n",
    "df_depa.duplicated().sum()"
   ]
  },
  {
   "cell_type": "code",
   "execution_count": 25,
   "id": "332b12bb",
   "metadata": {
    "id": "332b12bb"
   },
   "outputs": [
    {
     "data": {
      "text/plain": [
       "0"
      ]
     },
     "execution_count": 25,
     "metadata": {},
     "output_type": "execute_result"
    }
   ],
   "source": [
    "# Revisa únicamente si hay IDs duplicadas de productos\n",
    "df_depa['department_id'].duplicated().sum()"
   ]
  },
  {
   "cell_type": "markdown",
   "id": "bd30d78e",
   "metadata": {
    "id": "bd30d78e"
   },
   "source": [
    "Describe brevemente tus hallazgos y lo que hiciste con ellos.\n",
    "\n",
    "No hay mucho que agregar, solamente hay 2 columnas y 21 filas, no hay valores duplicados en ninguna de las dos columnas. Se aplicó en ambos ejercicios los métodos duplicated() y sum() para saber el número total de duplicados,  la respuesta fue 0. La única diferencia, fue que en el segundo ejercicio se llamó a la columna 'department_id' para ver si esa columna tenía duplicados."
   ]
  },
  {
   "cell_type": "markdown",
   "id": "889349c1",
   "metadata": {
    "id": "889349c1"
   },
   "source": [
    "### `aisles` data frame"
   ]
  },
  {
   "cell_type": "code",
   "execution_count": 26,
   "id": "9da89fb9-4679-40f5-ad0d-c34df753a3f8",
   "metadata": {
    "id": "9da89fb9-4679-40f5-ad0d-c34df753a3f8"
   },
   "outputs": [
    {
     "data": {
      "text/plain": [
       "0"
      ]
     },
     "execution_count": 26,
     "metadata": {},
     "output_type": "execute_result"
    }
   ],
   "source": [
    "# Revisa si hay filas totalmente duplicadas\n",
    "df_ais.duplicated().sum()"
   ]
  },
  {
   "cell_type": "code",
   "execution_count": 27,
   "id": "da7c2822",
   "metadata": {
    "id": "da7c2822"
   },
   "outputs": [
    {
     "data": {
      "text/plain": [
       "0"
      ]
     },
     "execution_count": 27,
     "metadata": {},
     "output_type": "execute_result"
    }
   ],
   "source": [
    "# Revisa únicamente si hay IDs duplicadas de pasillos\n",
    "df_ais['aisle_id'].duplicated().sum()"
   ]
  },
  {
   "cell_type": "markdown",
   "id": "ac63826f",
   "metadata": {
    "id": "ac63826f"
   },
   "source": [
    "Describe brevemente tus hallazgos y lo que hiciste con ellos.\n",
    "\n",
    "Lo mismo que en el ejercicio anterior, solamente hay 2 columnas pero esta vez con 134 filas, no hay valores duplicados en ninguna de las dos. Se aplicó en ambos ejercicios los métodos duplicated() y sum() para saber el número total de duplicados, la respuesta fue 0. La única diferencia, fue que en el segundo ejercicio se llamó a la columna 'aisle_id' para ver si tenía tenía duplicados."
   ]
  },
  {
   "cell_type": "markdown",
   "id": "274cd06a",
   "metadata": {
    "id": "274cd06a"
   },
   "source": [
    "### `order_products` data frame"
   ]
  },
  {
   "cell_type": "code",
   "execution_count": 28,
   "id": "52326689-84a8-4b8f-a881-7c68780f62c9",
   "metadata": {
    "id": "52326689-84a8-4b8f-a881-7c68780f62c9"
   },
   "outputs": [
    {
     "data": {
      "text/plain": [
       "0"
      ]
     },
     "execution_count": 28,
     "metadata": {},
     "output_type": "execute_result"
    }
   ],
   "source": [
    "# Revisa si hay filas totalmente duplicadas\n",
    "df_ord.duplicated().sum()"
   ]
  },
  {
   "cell_type": "code",
   "execution_count": 29,
   "id": "7b861391",
   "metadata": {
    "id": "7b861391"
   },
   "outputs": [
    {
     "data": {
      "text/plain": [
       "0"
      ]
     },
     "execution_count": 29,
     "metadata": {},
     "output_type": "execute_result"
    }
   ],
   "source": [
    "# Vuelve a verificar si hay cualquier otro duplicado engañoso\n",
    "df_ord.duplicated(subset=['order_id', 'product_id']).sum()"
   ]
  },
  {
   "cell_type": "markdown",
   "id": "0b890492",
   "metadata": {
    "id": "0b890492"
   },
   "source": [
    "Describe brevemente tus hallazgos y lo que hiciste con ellos.\n",
    "En este ejercicio desde el comienzo se uso el parámetro \"show_counts=True\" en df_ord.info() muestra el conteo exacto de valores no nulos por columna. Esto sirvió para ver detalles en la calidad de los datos.\n",
    "La única diferencia con los ejercicios de los demás archivos, es que en order_products.csv se utilizó el parámetro subset=, esto me sirvió porque me interesaba revisar si había duplicados \"engañosos\" (por ejemplo, si en un mismo pedido se agregó el mismo producto más de una vez), en ese caso utilicé subset para comparar solo las columnas order_id y product_id."
   ]
  },
  {
   "cell_type": "markdown",
   "id": "1e46de76",
   "metadata": {
    "id": "1e46de76"
   },
   "source": [
    "## Encuentra y elimina los valores ausentes\n",
    "\n",
    "Al trabajar con valores duplicados, pudimos observar que también nos falta investigar valores ausentes:\n",
    "\n",
    "* La columna `'product_name'` de la tabla products.\n",
    "* La columna `'days_since_prior_order'` de la tabla orders.\n",
    "* La columna `'add_to_cart_order'` de la tabla order_productos."
   ]
  },
  {
   "cell_type": "markdown",
   "id": "c0aebd78",
   "metadata": {
    "id": "c0aebd78"
   },
   "source": [
    "### `products` data frame"
   ]
  },
  {
   "cell_type": "code",
   "execution_count": 30,
   "id": "fe4a8b0f",
   "metadata": {
    "id": "fe4a8b0f",
    "scrolled": true
   },
   "outputs": [
    {
     "data": {
      "text/html": [
       "<div>\n",
       "<style scoped>\n",
       "    .dataframe tbody tr th:only-of-type {\n",
       "        vertical-align: middle;\n",
       "    }\n",
       "\n",
       "    .dataframe tbody tr th {\n",
       "        vertical-align: top;\n",
       "    }\n",
       "\n",
       "    .dataframe thead th {\n",
       "        text-align: right;\n",
       "    }\n",
       "</style>\n",
       "<table border=\"1\" class=\"dataframe\">\n",
       "  <thead>\n",
       "    <tr style=\"text-align: right;\">\n",
       "      <th></th>\n",
       "      <th>product_id</th>\n",
       "      <th>product_name</th>\n",
       "      <th>aisle_id</th>\n",
       "      <th>department_id</th>\n",
       "    </tr>\n",
       "  </thead>\n",
       "  <tbody>\n",
       "    <tr>\n",
       "      <th>37</th>\n",
       "      <td>38</td>\n",
       "      <td>NaN</td>\n",
       "      <td>100</td>\n",
       "      <td>21</td>\n",
       "    </tr>\n",
       "    <tr>\n",
       "      <th>71</th>\n",
       "      <td>72</td>\n",
       "      <td>NaN</td>\n",
       "      <td>100</td>\n",
       "      <td>21</td>\n",
       "    </tr>\n",
       "    <tr>\n",
       "      <th>109</th>\n",
       "      <td>110</td>\n",
       "      <td>NaN</td>\n",
       "      <td>100</td>\n",
       "      <td>21</td>\n",
       "    </tr>\n",
       "    <tr>\n",
       "      <th>296</th>\n",
       "      <td>297</td>\n",
       "      <td>NaN</td>\n",
       "      <td>100</td>\n",
       "      <td>21</td>\n",
       "    </tr>\n",
       "    <tr>\n",
       "      <th>416</th>\n",
       "      <td>417</td>\n",
       "      <td>NaN</td>\n",
       "      <td>100</td>\n",
       "      <td>21</td>\n",
       "    </tr>\n",
       "    <tr>\n",
       "      <th>...</th>\n",
       "      <td>...</td>\n",
       "      <td>...</td>\n",
       "      <td>...</td>\n",
       "      <td>...</td>\n",
       "    </tr>\n",
       "    <tr>\n",
       "      <th>49552</th>\n",
       "      <td>49553</td>\n",
       "      <td>NaN</td>\n",
       "      <td>100</td>\n",
       "      <td>21</td>\n",
       "    </tr>\n",
       "    <tr>\n",
       "      <th>49574</th>\n",
       "      <td>49575</td>\n",
       "      <td>NaN</td>\n",
       "      <td>100</td>\n",
       "      <td>21</td>\n",
       "    </tr>\n",
       "    <tr>\n",
       "      <th>49640</th>\n",
       "      <td>49641</td>\n",
       "      <td>NaN</td>\n",
       "      <td>100</td>\n",
       "      <td>21</td>\n",
       "    </tr>\n",
       "    <tr>\n",
       "      <th>49663</th>\n",
       "      <td>49664</td>\n",
       "      <td>NaN</td>\n",
       "      <td>100</td>\n",
       "      <td>21</td>\n",
       "    </tr>\n",
       "    <tr>\n",
       "      <th>49668</th>\n",
       "      <td>49669</td>\n",
       "      <td>NaN</td>\n",
       "      <td>100</td>\n",
       "      <td>21</td>\n",
       "    </tr>\n",
       "  </tbody>\n",
       "</table>\n",
       "<p>1258 rows × 4 columns</p>\n",
       "</div>"
      ],
      "text/plain": [
       "       product_id product_name  aisle_id  department_id\n",
       "37             38          NaN       100             21\n",
       "71             72          NaN       100             21\n",
       "109           110          NaN       100             21\n",
       "296           297          NaN       100             21\n",
       "416           417          NaN       100             21\n",
       "...           ...          ...       ...            ...\n",
       "49552       49553          NaN       100             21\n",
       "49574       49575          NaN       100             21\n",
       "49640       49641          NaN       100             21\n",
       "49663       49664          NaN       100             21\n",
       "49668       49669          NaN       100             21\n",
       "\n",
       "[1258 rows x 4 columns]"
      ]
     },
     "execution_count": 30,
     "metadata": {},
     "output_type": "execute_result"
    }
   ],
   "source": [
    "# Encuentra los valores ausentes en la columna 'product_name'\n",
    "df_prod[df_prod['product_name'].isna()]"
   ]
  },
  {
   "cell_type": "markdown",
   "id": "-A6x1AbJhjkp",
   "metadata": {
    "id": "-A6x1AbJhjkp"
   },
   "source": [
    "Describe brevemente cuáles son tus hallazgos.\n",
    "\n",
    "Llamé a la columna 'product_name', esto me devolvió todas las filas donde product_name es NaN (pero solo las primeras y últimas 5 filas). "
   ]
  },
  {
   "cell_type": "code",
   "execution_count": 31,
   "id": "e96167bc",
   "metadata": {
    "id": "e96167bc"
   },
   "outputs": [],
   "source": [
    "#  ¿Todos los nombres de productos ausentes están relacionados con el pasillo con ID 100? Sí.\n",
    "ausentes= df_prod[df_prod['product_name'].isna()]"
   ]
  },
  {
   "cell_type": "code",
   "execution_count": 32,
   "id": "0ebb3974",
   "metadata": {},
   "outputs": [
    {
     "name": "stdout",
     "output_type": "stream",
     "text": [
      "[100]\n"
     ]
    }
   ],
   "source": [
    "print(ausentes['aisle_id'].unique())"
   ]
  },
  {
   "cell_type": "markdown",
   "id": "WRpIfXRphpSL",
   "metadata": {
    "id": "WRpIfXRphpSL"
   },
   "source": [
    "Describe brevemente cuáles son tus hallazgos.\n",
    "Primero llamé a la columna 'product_name', esto me devolvió todas las filas donde product_name es NaN (pero solo las primeras y últimas 5 filas). Por esta razón, guardé todo el código en la variable ausentes= para no tener que volver a filtrar cada vez que tenga que trabajar con esos datos. Finalmente, verifiqué si la columna aisle_id tenía valores únicos con el método unique(), ahí pude comprobar que el resultado es [100], esto significa que todos los valores ausentes de product_name están en el pasillo con ID 100."
   ]
  },
  {
   "cell_type": "code",
   "execution_count": 33,
   "id": "8fd0a541",
   "metadata": {
    "id": "8fd0a541"
   },
   "outputs": [
    {
     "name": "stdout",
     "output_type": "stream",
     "text": [
      "[21]\n"
     ]
    }
   ],
   "source": [
    "# ¿Todos los nombres de productos ausentes están relacionados con el departamento con ID 21?\n",
    "print(ausentes['department_id'].unique())"
   ]
  },
  {
   "cell_type": "markdown",
   "id": "qDpdYn1Fht_I",
   "metadata": {
    "id": "qDpdYn1Fht_I"
   },
   "source": [
    "Describe brevemente cuáles son tus hallazgos.\n",
    "\n",
    "Sí, todos los nombres de productos ausentes están relacionados con el departamento con ID 21.\n",
    "\n",
    "El procedimiento fue el siguiente: filtré los registros donde product_name es NaN y los guardas en la variable \"ausentes\".\n",
    "\n",
    "Luego, revisé la columna department_id en ese subconjunto usando el método .unique(), que me mostró todos los valores únicos, en este caso 21. La conclusión es que cada producto sin nombre pertenece al departamento 21."
   ]
  },
  {
   "cell_type": "code",
   "execution_count": 34,
   "id": "325c3464",
   "metadata": {
    "id": "325c3464",
    "scrolled": true
   },
   "outputs": [
    {
     "name": "stdout",
     "output_type": "stream",
     "text": [
      "      product_id product_name  aisle_id  department_id department\n",
      "0             38          NaN       100             21    missing\n",
      "1             72          NaN       100             21    missing\n",
      "2            110          NaN       100             21    missing\n",
      "3            297          NaN       100             21    missing\n",
      "4            417          NaN       100             21    missing\n",
      "...          ...          ...       ...            ...        ...\n",
      "1253       49553          NaN       100             21    missing\n",
      "1254       49575          NaN       100             21    missing\n",
      "1255       49641          NaN       100             21    missing\n",
      "1256       49664          NaN       100             21    missing\n",
      "1257       49669          NaN       100             21    missing\n",
      "\n",
      "[1258 rows x 5 columns]\n"
     ]
    }
   ],
   "source": [
    "# Usa las tablas department y aisle para revisar los datos del pasillo con ID 100 y el departamento con ID 21.\n",
    "departments=ausentes.merge(df_depa, on='department_id', how='left')\n",
    "print(departments)"
   ]
  },
  {
   "cell_type": "code",
   "execution_count": 35,
   "id": "8a638a98",
   "metadata": {
    "scrolled": true
   },
   "outputs": [
    {
     "name": "stdout",
     "output_type": "stream",
     "text": [
      "      product_id product_name  aisle_id  department_id department    aisle\n",
      "0             38          NaN       100             21    missing  missing\n",
      "1             72          NaN       100             21    missing  missing\n",
      "2            110          NaN       100             21    missing  missing\n",
      "3            297          NaN       100             21    missing  missing\n",
      "4            417          NaN       100             21    missing  missing\n",
      "...          ...          ...       ...            ...        ...      ...\n",
      "1253       49553          NaN       100             21    missing  missing\n",
      "1254       49575          NaN       100             21    missing  missing\n",
      "1255       49641          NaN       100             21    missing  missing\n",
      "1256       49664          NaN       100             21    missing  missing\n",
      "1257       49669          NaN       100             21    missing  missing\n",
      "\n",
      "[1258 rows x 6 columns]\n"
     ]
    }
   ],
   "source": [
    "resultado= departments.merge(df_ais, on='aisle_id', how='left')\n",
    "print(resultado)"
   ]
  },
  {
   "cell_type": "code",
   "execution_count": 36,
   "id": "4ab6d960",
   "metadata": {
    "scrolled": false
   },
   "outputs": [
    {
     "name": "stdout",
     "output_type": "stream",
     "text": [
      "      product_id department    aisle\n",
      "0             38    missing  missing\n",
      "1             72    missing  missing\n",
      "2            110    missing  missing\n",
      "3            297    missing  missing\n",
      "4            417    missing  missing\n",
      "...          ...        ...      ...\n",
      "1253       49553    missing  missing\n",
      "1254       49575    missing  missing\n",
      "1255       49641    missing  missing\n",
      "1256       49664    missing  missing\n",
      "1257       49669    missing  missing\n",
      "\n",
      "[1258 rows x 3 columns]\n"
     ]
    }
   ],
   "source": [
    "print(resultado[['product_id', 'department', 'aisle']])"
   ]
  },
  {
   "cell_type": "code",
   "execution_count": 37,
   "id": "1172ce81",
   "metadata": {},
   "outputs": [
    {
     "name": "stdout",
     "output_type": "stream",
     "text": [
      "['missing']\n",
      "['missing']\n"
     ]
    }
   ],
   "source": [
    "print(resultado['department'].unique())\n",
    "print(resultado['aisle'].unique())"
   ]
  },
  {
   "cell_type": "markdown",
   "id": "nqhSTUPhhvEJ",
   "metadata": {
    "id": "nqhSTUPhhvEJ"
   },
   "source": [
    "Describe brevemente cuáles son tus hallazgos. \n",
    "\n",
    "Todos los valores de department y aisle con pasillo ID 100 y el departamento con ID 21 son faltantes. Al ser todos productos ausentes no se encuentra la información del apartamento o el aisle. "
   ]
  },
  {
   "cell_type": "code",
   "execution_count": 38,
   "id": "6b295120",
   "metadata": {
    "id": "6b295120",
    "scrolled": false
   },
   "outputs": [
    {
     "data": {
      "text/plain": [
       "0"
      ]
     },
     "execution_count": 38,
     "metadata": {},
     "output_type": "execute_result"
    }
   ],
   "source": [
    "# Completa los nombres de productos ausentes con 'Unknown'\n",
    "\n",
    "df_prod['product_name']=df_prod['product_name'].fillna('Unknown')\n",
    "\n",
    "df_prod['product_name'].isna().sum()"
   ]
  },
  {
   "cell_type": "markdown",
   "id": "fc70e5ad",
   "metadata": {
    "id": "fc70e5ad"
   },
   "source": [
    "Describe brevemente tus hallazgos y lo que hiciste con ellos.\n",
    "\n",
    "Se reemplezaron los valores faltantes por unknown a través del método fillna() llamando a la columna 'product_name'."
   ]
  },
  {
   "cell_type": "markdown",
   "id": "6b709029",
   "metadata": {},
   "source": [
    "\n",
    "<div class=\"alert alert-block alert-success\">\n",
    "<b>Comentario del revisor</b> <a class=\"tocSkip\"></a>\n",
    "\n",
    "Muy buen trabajo!! Desarrollaste de manera excelente el análisis de valores faltantes y los llenaste con \"unknown\".\n",
    "    "
   ]
  },
  {
   "cell_type": "markdown",
   "id": "7eb45c86",
   "metadata": {
    "id": "7eb45c86"
   },
   "source": [
    "### `orders` data frame"
   ]
  },
  {
   "cell_type": "code",
   "execution_count": 39,
   "id": "93e41d96",
   "metadata": {
    "id": "93e41d96"
   },
   "outputs": [
    {
     "data": {
      "text/plain": [
       "order_id                      0\n",
       "user_id                       0\n",
       "order_number                  0\n",
       "order_dow                     0\n",
       "order_hour_of_day             0\n",
       "days_since_prior_order    28817\n",
       "dtype: int64"
      ]
     },
     "execution_count": 39,
     "metadata": {},
     "output_type": "execute_result"
    }
   ],
   "source": [
    "# Encuentra los valores ausentes\n",
    "\n",
    "df_inst.isna().sum()"
   ]
  },
  {
   "cell_type": "code",
   "execution_count": 40,
   "id": "166e5a86",
   "metadata": {
    "id": "166e5a86"
   },
   "outputs": [
    {
     "data": {
      "text/plain": [
       "array([1])"
      ]
     },
     "execution_count": 40,
     "metadata": {},
     "output_type": "execute_result"
    }
   ],
   "source": [
    "# ¿Hay algún valor ausente que no sea el primer pedido del cliente?\n",
    "df_inst[df_inst['days_since_prior_order'].isna()]['order_number'].unique()"
   ]
  },
  {
   "cell_type": "markdown",
   "id": "4e23d089",
   "metadata": {
    "id": "4e23d089"
   },
   "source": [
    "Describe brevemente tus hallazgos y lo que hiciste con ellos. \n",
    "\n",
    "Todos los valores faltantes de la columna \"days_since_prior_order# vienen de las primeras compras de los clientes."
   ]
  },
  {
   "cell_type": "markdown",
   "id": "69dc9ca4",
   "metadata": {
    "id": "69dc9ca4"
   },
   "source": [
    "### `order_products` data frame"
   ]
  },
  {
   "cell_type": "code",
   "execution_count": 41,
   "id": "b8240253",
   "metadata": {
    "id": "b8240253"
   },
   "outputs": [
    {
     "data": {
      "text/plain": [
       "order_id               0\n",
       "product_id             0\n",
       "add_to_cart_order    836\n",
       "reordered              0\n",
       "dtype: int64"
      ]
     },
     "execution_count": 41,
     "metadata": {},
     "output_type": "execute_result"
    }
   ],
   "source": [
    "# Encuentra los valores ausentes\n",
    "df_ord.isna().sum()"
   ]
  },
  {
   "cell_type": "code",
   "execution_count": 42,
   "id": "9a78e5ee",
   "metadata": {
    "id": "9a78e5ee"
   },
   "outputs": [
    {
     "data": {
      "text/html": [
       "<div>\n",
       "<style scoped>\n",
       "    .dataframe tbody tr th:only-of-type {\n",
       "        vertical-align: middle;\n",
       "    }\n",
       "\n",
       "    .dataframe tbody tr th {\n",
       "        vertical-align: top;\n",
       "    }\n",
       "\n",
       "    .dataframe thead th {\n",
       "        text-align: right;\n",
       "    }\n",
       "</style>\n",
       "<table border=\"1\" class=\"dataframe\">\n",
       "  <thead>\n",
       "    <tr style=\"text-align: right;\">\n",
       "      <th></th>\n",
       "      <th>order_id</th>\n",
       "      <th>product_id</th>\n",
       "      <th>add_to_cart_order</th>\n",
       "      <th>reordered</th>\n",
       "    </tr>\n",
       "  </thead>\n",
       "  <tbody>\n",
       "    <tr>\n",
       "      <th>737</th>\n",
       "      <td>2449164</td>\n",
       "      <td>5068</td>\n",
       "      <td>NaN</td>\n",
       "      <td>0</td>\n",
       "    </tr>\n",
       "    <tr>\n",
       "      <th>9926</th>\n",
       "      <td>1968313</td>\n",
       "      <td>43867</td>\n",
       "      <td>NaN</td>\n",
       "      <td>0</td>\n",
       "    </tr>\n",
       "    <tr>\n",
       "      <th>14394</th>\n",
       "      <td>2926893</td>\n",
       "      <td>11688</td>\n",
       "      <td>NaN</td>\n",
       "      <td>0</td>\n",
       "    </tr>\n",
       "    <tr>\n",
       "      <th>16418</th>\n",
       "      <td>1717990</td>\n",
       "      <td>4142</td>\n",
       "      <td>NaN</td>\n",
       "      <td>0</td>\n",
       "    </tr>\n",
       "    <tr>\n",
       "      <th>30114</th>\n",
       "      <td>1959075</td>\n",
       "      <td>42828</td>\n",
       "      <td>NaN</td>\n",
       "      <td>1</td>\n",
       "    </tr>\n",
       "    <tr>\n",
       "      <th>...</th>\n",
       "      <td>...</td>\n",
       "      <td>...</td>\n",
       "      <td>...</td>\n",
       "      <td>...</td>\n",
       "    </tr>\n",
       "    <tr>\n",
       "      <th>4505662</th>\n",
       "      <td>1800005</td>\n",
       "      <td>7411</td>\n",
       "      <td>NaN</td>\n",
       "      <td>0</td>\n",
       "    </tr>\n",
       "    <tr>\n",
       "      <th>4511400</th>\n",
       "      <td>1633337</td>\n",
       "      <td>260</td>\n",
       "      <td>NaN</td>\n",
       "      <td>0</td>\n",
       "    </tr>\n",
       "    <tr>\n",
       "      <th>4517562</th>\n",
       "      <td>404157</td>\n",
       "      <td>9517</td>\n",
       "      <td>NaN</td>\n",
       "      <td>0</td>\n",
       "    </tr>\n",
       "    <tr>\n",
       "      <th>4534112</th>\n",
       "      <td>1673227</td>\n",
       "      <td>17835</td>\n",
       "      <td>NaN</td>\n",
       "      <td>0</td>\n",
       "    </tr>\n",
       "    <tr>\n",
       "      <th>4535739</th>\n",
       "      <td>1832957</td>\n",
       "      <td>17949</td>\n",
       "      <td>NaN</td>\n",
       "      <td>1</td>\n",
       "    </tr>\n",
       "  </tbody>\n",
       "</table>\n",
       "<p>836 rows × 4 columns</p>\n",
       "</div>"
      ],
      "text/plain": [
       "         order_id  product_id  add_to_cart_order  reordered\n",
       "737       2449164        5068                NaN          0\n",
       "9926      1968313       43867                NaN          0\n",
       "14394     2926893       11688                NaN          0\n",
       "16418     1717990        4142                NaN          0\n",
       "30114     1959075       42828                NaN          1\n",
       "...           ...         ...                ...        ...\n",
       "4505662   1800005        7411                NaN          0\n",
       "4511400   1633337         260                NaN          0\n",
       "4517562    404157        9517                NaN          0\n",
       "4534112   1673227       17835                NaN          0\n",
       "4535739   1832957       17949                NaN          1\n",
       "\n",
       "[836 rows x 4 columns]"
      ]
     },
     "execution_count": 42,
     "metadata": {},
     "output_type": "execute_result"
    }
   ],
   "source": [
    "# ¿Cuáles son los valores mínimos y máximos en esta columna?\n",
    "df_ord[df_ord['add_to_cart_order'].isna()]"
   ]
  },
  {
   "cell_type": "code",
   "execution_count": 43,
   "id": "b3d7f9f4",
   "metadata": {},
   "outputs": [
    {
     "data": {
      "text/plain": [
       "1.0"
      ]
     },
     "execution_count": 43,
     "metadata": {},
     "output_type": "execute_result"
    }
   ],
   "source": [
    "df_ord['add_to_cart_order'].min()"
   ]
  },
  {
   "cell_type": "code",
   "execution_count": 44,
   "id": "1731adda",
   "metadata": {},
   "outputs": [
    {
     "data": {
      "text/plain": [
       "64.0"
      ]
     },
     "execution_count": 44,
     "metadata": {},
     "output_type": "execute_result"
    }
   ],
   "source": [
    "df_ord['add_to_cart_order'].max()"
   ]
  },
  {
   "cell_type": "markdown",
   "id": "-Z2Ja215jW78",
   "metadata": {
    "id": "-Z2Ja215jW78"
   },
   "source": [
    "Describe brevemente cuáles son tus hallazgos.\n",
    "\n",
    "Se sacaron los valores ausentes de la columna 'add_to_cart_order', y se pudo constatar que el orden secuencial en el que se añadió cada artículo al carrito tuvo un mínimo de 1 producto y un máximo de 64."
   ]
  },
  {
   "cell_type": "code",
   "execution_count": 45,
   "id": "ab9d0c2b",
   "metadata": {
    "id": "ab9d0c2b"
   },
   "outputs": [
    {
     "name": "stdout",
     "output_type": "stream",
     "text": [
      "737        2449164\n",
      "9926       1968313\n",
      "14394      2926893\n",
      "16418      1717990\n",
      "30114      1959075\n",
      "            ...   \n",
      "4505662    1800005\n",
      "4511400    1633337\n",
      "4517562     404157\n",
      "4534112    1673227\n",
      "4535739    1832957\n",
      "Name: order_id, Length: 836, dtype: int64\n"
     ]
    }
   ],
   "source": [
    "# Guarda todas las IDs de pedidos que tengan un valor ausente en 'add_to_cart_order'\n",
    "order_ids_con_nulos = df_ord[df_ord['add_to_cart_order'].isna()]['order_id']\n",
    "print(order_ids_con_nulos)"
   ]
  },
  {
   "cell_type": "code",
   "execution_count": 46,
   "id": "54c31695",
   "metadata": {
    "id": "54c31695"
   },
   "outputs": [],
   "source": [
    "# ¿Todos los pedidos con valores ausentes tienen más de 64 productos?\n",
    "# Agrupa todos los pedidos con datos ausentes por su ID de pedido.\n",
    "# Cuenta el número de 'product_id' en cada pedido y revisa el valor mínimo del conteo.\n"
   ]
  },
  {
   "cell_type": "markdown",
   "id": "c970ca1a",
   "metadata": {},
   "source": [
    "No, no todos los pedidos con valores ausentes tienen más de 64 productos. De hecho, dado que el valor máximo de la columna add_to_cart_order es 64, ninguno de los pedidos —ni siquiera aquellos con valores ausentes— tiene más de 64 productos. Por ello, la presencia de valores nulos en esa columna se debe a otros problemas en la secuencia de registro, y no a que el pedido supere los 64 artículos."
   ]
  },
  {
   "cell_type": "code",
   "execution_count": 47,
   "id": "a9d4a46c",
   "metadata": {},
   "outputs": [
    {
     "name": "stdout",
     "output_type": "stream",
     "text": [
      "Número de pedidos con datos ausentes: 70\n"
     ]
    }
   ],
   "source": [
    "missing_df = df_ord[df_ord['add_to_cart_order'].isna()]\n",
    "\n",
    "grouped_missing = missing_df.groupby('order_id')\n",
    "\n",
    "print(\"Número de pedidos con datos ausentes:\", grouped_missing.ngroups)"
   ]
  },
  {
   "cell_type": "code",
   "execution_count": 48,
   "id": "915c3265",
   "metadata": {},
   "outputs": [
    {
     "name": "stdout",
     "output_type": "stream",
     "text": [
      "El valor mínimo del conteo de 'product_id' en cada pedido es: 1\n"
     ]
    }
   ],
   "source": [
    "order_product_count = df_ord.groupby('order_id')['product_id'].count()\n",
    "\n",
    "min_products = order_product_count.min()\n",
    "\n",
    "print(\"El valor mínimo del conteo de 'product_id' en cada pedido es:\", min_products)"
   ]
  },
  {
   "cell_type": "markdown",
   "id": "p9V6pddtjglj",
   "metadata": {
    "id": "p9V6pddtjglj"
   },
   "source": [
    "Describe brevemente cuáles son tus hallazgos.\n",
    "\n",
    "En la segunda pregunta, al agrupar las filas con datos ausentes en la columna add_to_cart_order por su order_id, encontramos que hay 70 pedidos únicos afectados. Esto es interesante porque, aunque a nivel de registro existen 836 filas con valores nulos en add_to_cart_order, estos se agrupan en solo 70 pedidos. Esto sugiere que en ciertos pedidos (aproximadamente 70 de todos los pedidos en el dataset) no se registró la secuencia en la que se añadieron los productos al carrito. En la tercera pregunta, al agrupar el dataset por 'order_id' y contar la cantidad de 'product_id' en cada pedido, se encontró que el valor mínimo del conteo es 1. Esto indica que al menos hay un pedido que contiene solo un producto."
   ]
  },
  {
   "cell_type": "code",
   "execution_count": 49,
   "id": "7a987d08",
   "metadata": {
    "id": "7a987d08"
   },
   "outputs": [],
   "source": [
    "# Remplaza los valores ausentes en la columna 'add_to_cart? con 999 y convierte la columna al tipo entero.\n",
    "df_ord['add_to_cart_order'].fillna(999, inplace=True)\n",
    "df_ord['add_to_cart_order'] = df_ord['add_to_cart_order'].astype(int)"
   ]
  },
  {
   "cell_type": "code",
   "execution_count": 50,
   "id": "e82720bc",
   "metadata": {},
   "outputs": [
    {
     "data": {
      "text/plain": [
       "0"
      ]
     },
     "execution_count": 50,
     "metadata": {},
     "output_type": "execute_result"
    }
   ],
   "source": [
    "df_ord['add_to_cart_order'].isna().sum()"
   ]
  },
  {
   "cell_type": "markdown",
   "id": "fea4bcc7",
   "metadata": {
    "id": "fea4bcc7"
   },
   "source": [
    "Describe brevemente tus hallazgos y lo que hiciste con ellos.\n",
    "\n",
    "En este ejercicio utilicé el método .fillna(999, inplace=True), esto me permitió reemplazar los valores nulos por el número 999, luego use el método .astype(int) para convertir la columna a tipo entero, finalmente, para comprobar que el cambio estaba hecho utilicé los métodos isna() y sum(), el resultado me dio 0 lo cual significa que los valores ausentes fueron reemplazados correctamente."
   ]
  },
  {
   "cell_type": "markdown",
   "id": "71114e53",
   "metadata": {},
   "source": [
    "<div class=\"alert alert-block alert-success\">\n",
    "<b>Comentario del revisor</b> <a class=\"tocSkip\"></a>\n",
    "\n",
    "Excelente trabajo con este ejercicio, completaste de manera perfecta los valores ausentes con 999."
   ]
  },
  {
   "cell_type": "markdown",
   "id": "RnplPFY1gSrb",
   "metadata": {
    "id": "RnplPFY1gSrb"
   },
   "source": [
    "## Conclusiones\n",
    "\n",
    "Escribe aquí tus conclusiones intermedias sobre el Paso 2. Preprocesamiento de los datos.\n",
    "\n",
    "En ejercicio se detctaron los siguientes puntos clave:\n",
    "\n",
    "-Hay 836 productos con datos faltantes en add_to_cart_order.\n",
    "\n",
    "-De estos productos  70 pedidos son únicos.\n",
    "\n",
    "-No todos los pedidos con datos nulos tienen más de 64 productos.\n",
    "\n",
    "-El mínimo número de productos en un pedido es 1.\n",
    "\n",
    "-Se reemplazaron los valores ausentes con 999 para evitar problemas en los cálculos.\n"
   ]
  },
  {
   "cell_type": "markdown",
   "id": "UjrOIwTcz3ri",
   "metadata": {
    "id": "UjrOIwTcz3ri"
   },
   "source": [
    "# Paso 3. Análisis de los datos\n",
    "\n",
    "Una vez los datos estén procesados y listos, haz el siguiente análisis:"
   ]
  },
  {
   "cell_type": "markdown",
   "id": "turkish-kidney",
   "metadata": {
    "id": "turkish-kidney"
   },
   "source": [
    "# [A] Fácil (deben completarse todos para aprobar)\n",
    "\n",
    "1. Verifica que los valores en las columnas `'order_hour_of_day'` y `'order_dow'` en la tabla orders sean razonables (es decir, `'order_hour_of_day'` oscile entre 0 y 23 y `'order_dow'` oscile entre 0 y 6).\n",
    "2. Crea un gráfico que muestre el número de personas que hacen pedidos dependiendo de la hora del día.\n",
    "3. Crea un gráfico que muestre qué día de la semana la gente hace sus compras.\n",
    "4. Crea un gráfico que muestre el tiempo que la gente espera hasta hacer su siguiente pedido, y comenta sobre los valores mínimos y máximos."
   ]
  },
  {
   "cell_type": "markdown",
   "id": "short-capability",
   "metadata": {
    "id": "short-capability"
   },
   "source": [
    "### [A1] Verifica que los valores sean sensibles"
   ]
  },
  {
   "cell_type": "code",
   "execution_count": 51,
   "id": "growing-fruit",
   "metadata": {
    "id": "growing-fruit"
   },
   "outputs": [
    {
     "name": "stdout",
     "output_type": "stream",
     "text": [
      "order_hour_of_day: min = 0 , max = 23\n"
     ]
    }
   ],
   "source": [
    "print(\"order_hour_of_day: min =\", df_inst['order_hour_of_day'].min(), \", max =\", df_inst['order_hour_of_day'].max())"
   ]
  },
  {
   "cell_type": "code",
   "execution_count": 52,
   "id": "accessory-malaysia",
   "metadata": {
    "id": "accessory-malaysia",
    "scrolled": true
   },
   "outputs": [
    {
     "name": "stdout",
     "output_type": "stream",
     "text": [
      "order_dow: min = 0 , max = 6\n"
     ]
    }
   ],
   "source": [
    "print(\"order_dow: min =\", df_inst['order_dow'].min(), \", max =\", df_inst['order_dow'].max())"
   ]
  },
  {
   "cell_type": "markdown",
   "id": "hmR2GNQ6lCsX",
   "metadata": {
    "id": "hmR2GNQ6lCsX"
   },
   "source": [
    "Escribe aquí tus conclusiones\n",
    "\n",
    "La columna order_hour_of_day debe contener valores entre 0 y 23, ya que estos  representan las horas del día en formato de 24 horas, si hay algún valor por debajo de 0 o superior a 23, se consideraría un error, ya que no se puede tener una \"hora\" que no esté dentro de este rango. La respuesta está bien."
   ]
  },
  {
   "cell_type": "markdown",
   "id": "98610f77",
   "metadata": {},
   "source": [
    "La columna order_dow debe contener valores entre 0 y 6, donde cada número representa un día de la semana (0 para domingo, 1 para lunes, y así sucesivamente hasta 6 que representa sábado). Aquí, al igual que con las horas, un valor fuera de este rango significaría que hay un error en los datos."
   ]
  },
  {
   "cell_type": "markdown",
   "id": "0bf8620e",
   "metadata": {},
   "source": [
    "<div class=\"alert alert-block alert-success\">\n",
    "<b>Comentario Revisor</b> <a class=\"tocSkip\"></a>\n",
    "\n",
    "Muy buena forma de revisar que los valores sean sensibles. Otra forma de hacerlo que puedes explorar más adeltante es el uso de la función  .value_counts(). \n",
    "</div>"
   ]
  },
  {
   "cell_type": "markdown",
   "id": "a6743a70",
   "metadata": {
    "id": "a6743a70"
   },
   "source": [
    "### [A2] Para cada hora del día, ¿cuántas personas hacen órdenes?"
   ]
  },
  {
   "cell_type": "code",
   "execution_count": 53,
   "id": "d4fd5e49",
   "metadata": {},
   "outputs": [
    {
     "data": {
      "image/png": "[encoded data removed]",
      "text/plain": [
       "<Figure size 1000x600 with 1 Axes>"
      ]
     },
     "metadata": {},
     "output_type": "display_data"
    }
   ],
   "source": [
    "hourly_orders = df_inst.groupby('order_hour_of_day')['order_id'].count()\n",
    "hourly_users = df_inst.groupby('order_hour_of_day')['user_id'].nunique()\n",
    "\n",
    "df_combined = pd.DataFrame({\"Orders\": hourly_orders, \"Unique Users\": hourly_users\n",
    "})\n",
    "\n",
    "df_combined.plot(kind='bar', figsize=(10,6))\n",
    "plt.xlabel(\"Hour of Day\")\n",
    "plt.ylabel(\"Count\")\n",
    "plt.title(\"Pedidos y usuarios únicos por hora del día\")\n",
    "plt.legend()\n",
    "plt.show()"
   ]
  },
  {
   "cell_type": "markdown",
   "id": "e870ddd4",
   "metadata": {},
   "source": [
    "<div class=\"alert alert-block alert-success\">\n",
    "<b>Comentario revisor</b> <a class=\"tocSkip\"></a>\n",
    "\n",
    "\n",
    "Muy buen trabajo el desarrollar una gráfica para visualizar los resultados\n",
    "</div>"
   ]
  },
  {
   "cell_type": "code",
   "execution_count": 54,
   "id": "7461e1f9",
   "metadata": {},
   "outputs": [],
   "source": [
    "hourly_orders = df_inst.groupby('order_hour_of_day')['order_id'].count()"
   ]
  },
  {
   "cell_type": "code",
   "execution_count": 55,
   "id": "c3cb5f5d",
   "metadata": {
    "scrolled": true
   },
   "outputs": [
    {
     "data": {
      "text/plain": [
       "order_hour_of_day\n",
       "0      3180\n",
       "1      1763\n",
       "2       989\n",
       "3       770\n",
       "4       765\n",
       "5      1371\n",
       "6      4215\n",
       "7     13043\n",
       "8     25024\n",
       "9     35896\n",
       "10    40578\n",
       "11    40032\n",
       "12    38034\n",
       "13    39007\n",
       "14    39631\n",
       "15    39789\n",
       "16    38112\n",
       "17    31930\n",
       "18    25510\n",
       "19    19547\n",
       "20    14624\n",
       "21    11019\n",
       "22     8512\n",
       "23     5611\n",
       "Name: order_id, dtype: int64"
      ]
     },
     "execution_count": 55,
     "metadata": {},
     "output_type": "execute_result"
    }
   ],
   "source": [
    "hourly_orders"
   ]
  },
  {
   "cell_type": "code",
   "execution_count": 56,
   "id": "3cac97f9",
   "metadata": {},
   "outputs": [],
   "source": [
    "hourly_users = df_inst.groupby('order_hour_of_day')['user_id'].nunique()"
   ]
  },
  {
   "cell_type": "code",
   "execution_count": 57,
   "id": "4cafe61f",
   "metadata": {},
   "outputs": [
    {
     "data": {
      "text/plain": [
       "order_hour_of_day\n",
       "0      2991\n",
       "1      1671\n",
       "2       958\n",
       "3       744\n",
       "4       735\n",
       "5      1281\n",
       "6      3757\n",
       "7     10993\n",
       "8     20268\n",
       "9     28112\n",
       "10    32195\n",
       "11    32660\n",
       "12    31754\n",
       "13    32433\n",
       "14    32797\n",
       "15    32894\n",
       "16    31579\n",
       "17    26825\n",
       "18    21795\n",
       "19    17026\n",
       "20    12891\n",
       "21     9806\n",
       "22     7670\n",
       "23     5167\n",
       "Name: user_id, dtype: int64"
      ]
     },
     "execution_count": 57,
     "metadata": {},
     "output_type": "execute_result"
    }
   ],
   "source": [
    "hourly_users"
   ]
  },
  {
   "cell_type": "markdown",
   "id": "11270eed",
   "metadata": {
    "id": "11270eed"
   },
   "source": [
    "Escribe aquí tus conclusiones\n",
    "\n",
    "Hice dos cosas: la primera verificar cuántos pedidos se hacían por hora y la segunda verificar cuántos usuarios únicos hacían pedidos por hora, eso lo combine en una sola gráfica y posteriormente saque de cada no por a aparte, como se puede ver debajo del gráfico. ¿Qué se pudo comprobar? Que la mayor cantidad de usuarios únicos por hora es a las 15:00, un total de 32.894 usuarios únicos. También se pudo comprobar que a las 10:00 a.m. es donde hace una mayor cantidad de pedidos únicos, 40578 en total."
   ]
  },
  {
   "cell_type": "markdown",
   "id": "documented-command",
   "metadata": {
    "id": "documented-command"
   },
   "source": [
    "### [A3] ¿Qué día de la semana compran víveres las personas?"
   ]
  },
  {
   "cell_type": "code",
   "execution_count": 58,
   "id": "chief-digit",
   "metadata": {
    "id": "chief-digit",
    "scrolled": true
   },
   "outputs": [
    {
     "data": {
      "image/png": "[encoded data removed]",
      "text/plain": [
       "<Figure size 640x480 with 1 Axes>"
      ]
     },
     "metadata": {},
     "output_type": "display_data"
    }
   ],
   "source": [
    "dow_orders = df_inst.groupby('order_dow')['order_id'].count()\n",
    "\n",
    "dow_orders.plot(kind='bar', color='blue', title=\"Orders by Day of Week\")\n",
    "plt.xlabel(\"Day of Week (0 = Sunday)\")\n",
    "plt.ylabel(\"Number of Orders\")\n",
    "plt.show() "
   ]
  },
  {
   "cell_type": "code",
   "execution_count": 59,
   "id": "4deb5211",
   "metadata": {},
   "outputs": [],
   "source": [
    "Total_orders=df_inst.groupby('order_dow')['order_id'].count()"
   ]
  },
  {
   "cell_type": "code",
   "execution_count": 60,
   "id": "a3dd8db1",
   "metadata": {},
   "outputs": [
    {
     "data": {
      "text/plain": [
       "order_dow\n",
       "0    84090\n",
       "1    82185\n",
       "2    65833\n",
       "3    60897\n",
       "4    59810\n",
       "5    63488\n",
       "6    62649\n",
       "Name: order_id, dtype: int64"
      ]
     },
     "execution_count": 60,
     "metadata": {},
     "output_type": "execute_result"
    }
   ],
   "source": [
    "Total_orders"
   ]
  },
  {
   "cell_type": "markdown",
   "id": "dominant-lightning",
   "metadata": {
    "id": "dominant-lightning"
   },
   "source": [
    "Escribe aquí tus conclusiones\n",
    "\n",
    "Para resolver el ejercicio se agrupa el DataFrame por order_dow (día de la semana) y se cuenta cuántos pedidos se hicieron en cada día. después, se crea un gráfico de barras con título y etiquetas para identificar claramente el día de la semana (donde 0 corresponde a domingo y 6 es el día sábado).\n",
    "\n",
    "El día con más órdenes es el domingo, con 84,090.\n",
    "El día con menos órdenes es el jueves, con 59,810."
   ]
  },
  {
   "cell_type": "markdown",
   "id": "cutting-concert",
   "metadata": {
    "id": "cutting-concert"
   },
   "source": [
    "### [A4] ¿Cuánto tiempo esperan las personas hasta hacer otro pedido? Comenta sobre los valores mínimos y máximos."
   ]
  },
  {
   "cell_type": "code",
   "execution_count": 61,
   "id": "c231f523",
   "metadata": {
    "id": "c231f523"
   },
   "outputs": [
    {
     "data": {
      "image/png": "[encoded data removed]",
      "text/plain": [
       "<Figure size 640x480 with 1 Axes>"
      ]
     },
     "metadata": {},
     "output_type": "display_data"
    },
    {
     "name": "stdout",
     "output_type": "stream",
     "text": [
      "Minimum days since prior order: 0.0\n",
      "Maximum days since prior order: 30.0\n"
     ]
    }
   ],
   "source": [
    "days_wait = df_inst['days_since_prior_order'].dropna()\n",
    "\n",
    "days_wait.plot(kind='hist', bins=30, color='darkgreen', title=\"Days Since Prior Order\")\n",
    "plt.xlabel(\"Days\")\n",
    "plt.ylabel(\"Frequency\")\n",
    "plt.show()\n",
    "\n",
    "min_days = days_wait.min()\n",
    "max_days = days_wait.max()\n",
    "print(\"Minimum days since prior order:\", min_days)\n",
    "print(\"Maximum days since prior order:\", max_days)"
   ]
  },
  {
   "cell_type": "markdown",
   "id": "discrete-vertex",
   "metadata": {
    "id": "discrete-vertex"
   },
   "source": [
    "Escribe aquí tus conclusiones\n",
    "\n",
    "El histograma de days_since_prior_order permite ver la distribución del tiempo entre pedidos; el valor mínimo (después de eliminar NaN) y el valor máximo evidencian la variabilidad en la frecuencia de compras de los clientes.\n",
    "\n",
    "La barra más alta está en el día 30, lo que indica que muchos clientes están haciendo pedidos después de un mes. Esto podría sugerir que muchos usuarios hacen pedidos de manera mensual.\n",
    "\n",
    "Pico en el Día 5-7:\n",
    "Aunque no es tan alto como el de 30 días, el intervalo de 5 a 7 días también tiene una frecuencia significativa, mostrando que muchas personas vuelven a hacer pedidos casi a la semana.\n",
    "\n",
    "Minimum days since prior order: 0.0\n",
    "Maximum days since prior order: 30.0"
   ]
  },
  {
   "cell_type": "markdown",
   "id": "tight-staff",
   "metadata": {
    "id": "tight-staff"
   },
   "source": [
    "# [B] Intermedio (deben completarse todos para aprobar)\n",
    "\n",
    "1. ¿Existe alguna diferencia entre las distribuciones `'order_hour_of_day'` de los miércoles y los sábados? Traza gráficos de barra de `'order_hour_of_day'` para ambos días en la misma figura y describe las diferencias que observes.\n",
    "2. Grafica la distribución para el número de órdenes que hacen los clientes (es decir, cuántos clientes hicieron solo 1 pedido, cuántos hicieron 2, cuántos 3, y así sucesivamente...).\n",
    "3. ¿Cuáles son los 20 principales productos que se piden con más frecuencia (muestra su identificación y nombre)?"
   ]
  },
  {
   "cell_type": "markdown",
   "id": "packed-classic",
   "metadata": {
    "id": "packed-classic"
   },
   "source": [
    "### [B1] Diferencia entre miércoles y sábados para  `'order_hour_of_day'`. Traza gráficos de barra para los dos días y describe las diferencias que veas."
   ]
  },
  {
   "cell_type": "code",
   "execution_count": 62,
   "id": "d89b8403",
   "metadata": {
    "id": "d89b8403"
   },
   "outputs": [],
   "source": [
    "wednesday = df_inst[df_inst['order_dow'] == 3]\n",
    "saturday = df_inst[df_inst['order_dow'] == 6]"
   ]
  },
  {
   "cell_type": "code",
   "execution_count": 63,
   "id": "94e54e8a",
   "metadata": {
    "id": "94e54e8a"
   },
   "outputs": [],
   "source": [
    "wednesday_counts = wednesday.groupby('order_hour_of_day')['order_id'].count()\n",
    "saturday_counts = saturday.groupby('order_hour_of_day')['order_id'].count()"
   ]
  },
  {
   "cell_type": "code",
   "execution_count": 64,
   "id": "797c90a8",
   "metadata": {
    "id": "797c90a8"
   },
   "outputs": [
    {
     "data": {
      "image/png": "[encoded data removed]",
      "text/plain": [
       "<Figure size 1000x600 with 1 Axes>"
      ]
     },
     "metadata": {},
     "output_type": "display_data"
    }
   ],
   "source": [
    "plt.figure(figsize=(10,6))\n",
    "wednesday_counts.plot(kind='bar', color='blue', alpha=0.6, label='Wednesday')\n",
    "saturday_counts.plot(kind='bar', color='green', alpha=0.6, label='Saturday')\n",
    "plt.xlabel(\"Hour of Day\")\n",
    "plt.ylabel(\"Number of Orders\")\n",
    "plt.title(\"Order Hour Distribution: Wednesday vs Saturday\")\n",
    "plt.legend()\n",
    "plt.show()"
   ]
  },
  {
   "cell_type": "markdown",
   "id": "charitable-congo",
   "metadata": {
    "id": "charitable-congo"
   },
   "source": [
    "Escribe aquí tus conclusiones\n",
    "\n",
    "Conclusión: En el gráfico se observa que la distribución de pedidos a lo largo del día varía entre miércoles y sábado. Por ejemplo, es posible que los miércoles haya picos en ciertas horas (como durante la mañana) y los sábados una distribución más dispersa o con picos en otros momentos. Estos patrones pueden reflejar diferencias en el comportamiento de compra entre mitad de semana y fin de semana. Sin embargo, el verde claro es el color que representa los pedidos de los sábados, y está predominando en la mayoría de las horas, eso significa que los sábados tienen un mayor número de pedidos en esas horas en comparación con los miércoles. "
   ]
  },
  {
   "cell_type": "markdown",
   "id": "e3891143",
   "metadata": {
    "id": "e3891143"
   },
   "source": [
    "### [B2] ¿Cuál es la distribución para el número de pedidos por cliente?"
   ]
  },
  {
   "cell_type": "code",
   "execution_count": 65,
   "id": "d8c26c23",
   "metadata": {
    "id": "d8c26c23"
   },
   "outputs": [
    {
     "name": "stdout",
     "output_type": "stream",
     "text": [
      "user_id\n",
      "2    2\n",
      "4    2\n",
      "5    1\n",
      "6    2\n",
      "7    2\n",
      "Name: order_id, dtype: int64\n"
     ]
    }
   ],
   "source": [
    "orders_per_customer = df_inst.groupby('user_id')['order_id'].count()\n",
    "print(orders_per_customer.head())"
   ]
  },
  {
   "cell_type": "code",
   "execution_count": 66,
   "id": "00e69a66",
   "metadata": {
    "id": "00e69a66",
    "scrolled": false
   },
   "outputs": [
    {
     "data": {
      "image/png": "[encoded data removed]",
      "text/plain": [
       "<Figure size 640x480 with 1 Axes>"
      ]
     },
     "metadata": {},
     "output_type": "display_data"
    }
   ],
   "source": [
    "orders_per_customer.plot(kind='hist', bins=20, color='lightblue', title=\"Distribution of Orders per Customer\")\n",
    "plt.xlabel(\"Number of Orders\")\n",
    "plt.ylabel(\"Frequency\")\n",
    "plt.show()"
   ]
  },
  {
   "cell_type": "markdown",
   "id": "d2eff7d5",
   "metadata": {
    "id": "d2eff7d5"
   },
   "source": [
    "Escribe aquí tus conclusiones\n",
    "\n",
    "Se crea un histograma para mostrar cuántos clientes realizaron 1, 2, 3... pedidos.\n",
    "\n",
    "Con 20 contenedores (bins) se visualiza la distribución, y se añaden etiquetas y título.\n",
    "\n",
    "Conclusión:\n",
    "\n",
    "Lo que se puede observar en la gráfica, es que muchos clientes han realizado muy pocos pedidos (probablemente 1 o 2). Esto sugiere que la mayoría son nuevos o no compran con frecuencia, por otro lado, también sugiere que un gran número de clientes han hecho muy pocos pedidos, lo cual podría indicar que el negocio tiene una alta tasa de nuevos usuarios o que muchos clientes no vuelven a comprar."
   ]
  },
  {
   "cell_type": "markdown",
   "id": "54a0319c",
   "metadata": {
    "id": "54a0319c"
   },
   "source": [
    "### [B3] ¿Cuáles son los 20 productos más populares (muestra su ID y nombre)?"
   ]
  },
  {
   "cell_type": "code",
   "execution_count": 67,
   "id": "exterior-arizona",
   "metadata": {
    "id": "exterior-arizona",
    "scrolled": true
   },
   "outputs": [],
   "source": [
    "product_counts = df_ord.groupby('product_id')['order_id'].count().sort_values(ascending=False)"
   ]
  },
  {
   "cell_type": "code",
   "execution_count": 68,
   "id": "universal-facial",
   "metadata": {
    "id": "universal-facial"
   },
   "outputs": [
    {
     "name": "stdout",
     "output_type": "stream",
     "text": [
      "product_id\n",
      "24852    66050\n",
      "13176    53297\n",
      "21137    37039\n",
      "21903    33971\n",
      "47209    29773\n",
      "47766    24689\n",
      "47626    21495\n",
      "16797    20018\n",
      "26209    19690\n",
      "27845    19600\n",
      "27966    19197\n",
      "22935    15898\n",
      "24964    15292\n",
      "45007    14584\n",
      "39275    13879\n",
      "49683    13675\n",
      "28204    12544\n",
      "5876     12232\n",
      "8277     11993\n",
      "40706    11781\n",
      "Name: order_id, dtype: int64\n"
     ]
    }
   ],
   "source": [
    "top_20 = product_counts.head(20)\n",
    "print(top_20)"
   ]
  },
  {
   "cell_type": "code",
   "execution_count": 69,
   "id": "bbcdd20b",
   "metadata": {
    "id": "bbcdd20b"
   },
   "outputs": [
    {
     "name": "stdout",
     "output_type": "stream",
     "text": [
      "    product_id  order_id              product_name\n",
      "0        24852     66050                    Banana\n",
      "1        13176     53297    Bag of Organic Bananas\n",
      "2        21137     37039      Organic Strawberries\n",
      "3        21903     33971      Organic Baby Spinach\n",
      "4        47209     29773      Organic Hass Avocado\n",
      "5        47766     24689           Organic Avocado\n",
      "6        47626     21495               Large Lemon\n",
      "7        16797     20018              Strawberries\n",
      "8        26209     19690                     Limes\n",
      "9        27845     19600        Organic Whole Milk\n",
      "10       27966     19197       Organic Raspberries\n",
      "11       22935     15898      Organic Yellow Onion\n",
      "12       24964     15292            Organic Garlic\n",
      "13       45007     14584          Organic Zucchini\n",
      "14       39275     13879       Organic Blueberries\n",
      "15       49683     13675            Cucumber Kirby\n",
      "16       28204     12544        Organic Fuji Apple\n",
      "17        5876     12232             Organic Lemon\n",
      "18        8277     11993  Apple Honeycrisp Organic\n",
      "19       40706     11781    Organic Grape Tomatoes\n"
     ]
    }
   ],
   "source": [
    "top_20_products = pd.merge(top_20.reset_index(), df_prod[['product_id', 'product_name']], on='product_id', how='left')\n",
    "print(top_20_products)"
   ]
  },
  {
   "cell_type": "markdown",
   "id": "7df00f47",
   "metadata": {
    "id": "7df00f47"
   },
   "source": [
    "Escribe aquí tus conclusiones\n",
    "\n",
    "Los 20 productos más populares muestran una alta frecuencia de pedidos. Esto sugiere que hay algunos productos clave que impulsan la mayoría de las ventas, y conocer estos productos puede ayudar a optimizar la oferta y promociones."
   ]
  },
  {
   "cell_type": "markdown",
   "id": "35df255e",
   "metadata": {},
   "source": [
    "<div class=\"alert alert-block alert-success\">\n",
    "<b>Comentario del revisor</b> <a class=\"tocSkip\"></a>\n",
    "\n",
    "Muy buen desarrollo de la sección. Desarrollaste de buena manera todos los análisis y lo complementaste con dos gráfica.  \n",
    "</div>"
   ]
  },
  {
   "cell_type": "markdown",
   "id": "gross-theme",
   "metadata": {
    "id": "gross-theme"
   },
   "source": [
    "# [C] Difícil (deben completarse todos para aprobar)\n",
    "\n",
    "1. ¿Cuántos artículos suelen comprar las personas en un pedido? ¿Cómo es la distribución?\n",
    "2. ¿Cuáles son los 20 principales artículos que vuelven a pedirse con mayor frecuencia (muestra sus nombres e IDs de los productos)?\n",
    "3. Para cada producto, ¿cuál es la tasa de repetición del pedido (número de repeticiones de pedido/total de pedidos?\n",
    "4. Para cada cliente, ¿qué proporción de los productos que pidió ya los había pedido? Calcula la tasa de repetición de pedido para cada usuario en lugar de para cada producto.\n",
    "5. ¿Cuáles son los 20 principales artículos que la gente pone primero en sus carritos (muestra las IDs de los productos, sus nombres, y el número de veces en que fueron el primer artículo en añadirse al carrito)?"
   ]
  },
  {
   "cell_type": "markdown",
   "id": "romantic-deposit",
   "metadata": {
    "id": "romantic-deposit"
   },
   "source": [
    "### [C1] ¿Cuántos artículos compran normalmente las personas en un pedido? ¿Cómo es la distribución?"
   ]
  },
  {
   "cell_type": "code",
   "execution_count": 70,
   "id": "virtual-punch",
   "metadata": {
    "id": "virtual-punch"
   },
   "outputs": [
    {
     "name": "stdout",
     "output_type": "stream",
     "text": [
      "order_id\n",
      "4     13\n",
      "9     15\n",
      "11     5\n",
      "19     3\n",
      "20     8\n",
      "Name: product_id, dtype: int64\n"
     ]
    }
   ],
   "source": [
    "items_per_order = df_ord.groupby('order_id')['product_id'].count()\n",
    "print(items_per_order.head())"
   ]
  },
  {
   "cell_type": "code",
   "execution_count": 71,
   "id": "sensitive-breathing",
   "metadata": {
    "id": "sensitive-breathing"
   },
   "outputs": [
    {
     "data": {
      "image/png": "[encoded data removed]",
      "text/plain": [
       "<Figure size 640x480 with 1 Axes>"
      ]
     },
     "metadata": {},
     "output_type": "display_data"
    }
   ],
   "source": [
    "items_per_order.plot(kind='hist', bins=30, color='teal', title=\"Distribution of Items per Order\")\n",
    "plt.xlabel(\"Number of Items\")\n",
    "plt.ylabel(\"Frequency\")\n",
    "plt.show()"
   ]
  },
  {
   "cell_type": "code",
   "execution_count": 72,
   "id": "completed-frank",
   "metadata": {
    "id": "completed-frank"
   },
   "outputs": [
    {
     "name": "stdout",
     "output_type": "stream",
     "text": [
      "Minimum items per order: 1\n",
      "Maximum items per order: 127\n",
      "Average items per order: 10.098983215049127\n"
     ]
    }
   ],
   "source": [
    "min_items = items_per_order.min()\n",
    "max_items = items_per_order.max()\n",
    "mean_items = items_per_order.mean()\n",
    "print(\"Minimum items per order:\", min_items)\n",
    "print(\"Maximum items per order:\", max_items)\n",
    "print(\"Average items per order:\", mean_items)"
   ]
  },
  {
   "cell_type": "markdown",
   "id": "designed-mortality",
   "metadata": {
    "id": "designed-mortality"
   },
   "source": [
    "Escribe aquí tus conclusiones\n",
    "\n",
    "La mayoría de los pedidos se sitúan entre 1 y 2 artículos. Esto se puede interpretar como la cantidad más común de productos que las personas deciden comprar en un solo pedido. El hecho de que haya un alto número de pedidos en ese rango sugiere que los clientes tienden a comprar en pequeñas cantidades, lo que podría deberse a varios factores, como la necesidad inmediata, la falta de espacio, o incluso por razones económicas. También se puede observar que a medida de que se mueve a la derecha en el eje X, se ve que la frecuencia disminuye drásticamente para cantidades mayores. Esto indica que es menos común ver pedidos con muchos artículos (por ejemplo, más de 10) en comparación con los más pequeños."
   ]
  },
  {
   "cell_type": "markdown",
   "id": "5e6b5537",
   "metadata": {
    "id": "5e6b5537"
   },
   "source": [
    "### [C2] ¿Cuáles son los 20 principales artículos que vuelven a pedirse con mayor frecuencia (muestra sus nombres e IDs de los productos)?"
   ]
  },
  {
   "cell_type": "code",
   "execution_count": 73,
   "id": "9374e55a",
   "metadata": {
    "id": "9374e55a"
   },
   "outputs": [],
   "source": [
    "reorder_counts = df_ord.groupby('product_id')['reordered'].sum()"
   ]
  },
  {
   "cell_type": "code",
   "execution_count": 74,
   "id": "possible-change",
   "metadata": {
    "id": "possible-change",
    "scrolled": true
   },
   "outputs": [
    {
     "name": "stdout",
     "output_type": "stream",
     "text": [
      "product_id\n",
      "24852    55763\n",
      "13176    44450\n",
      "21137    28639\n",
      "21903    26233\n",
      "47209    23629\n",
      "47766    18743\n",
      "27845    16251\n",
      "47626    15044\n",
      "27966    14748\n",
      "16797    13945\n",
      "26209    13327\n",
      "22935    11145\n",
      "24964    10411\n",
      "45007    10076\n",
      "49683     9538\n",
      "28204     8989\n",
      "8277      8836\n",
      "39275     8799\n",
      "5876      8412\n",
      "49235     8389\n",
      "Name: reordered, dtype: int64\n"
     ]
    }
   ],
   "source": [
    "top20_reorders = reorder_counts.sort_values(ascending=False).head(20)\n",
    "print(top20_reorders)"
   ]
  },
  {
   "cell_type": "code",
   "execution_count": 75,
   "id": "professional-surfing",
   "metadata": {
    "id": "professional-surfing",
    "scrolled": true
   },
   "outputs": [
    {
     "name": "stdout",
     "output_type": "stream",
     "text": [
      "    product_id  reordered              product_name\n",
      "0        24852      55763                    Banana\n",
      "1        13176      44450    Bag of Organic Bananas\n",
      "2        21137      28639      Organic Strawberries\n",
      "3        21903      26233      Organic Baby Spinach\n",
      "4        47209      23629      Organic Hass Avocado\n",
      "5        47766      18743           Organic Avocado\n",
      "6        27845      16251        Organic Whole Milk\n",
      "7        47626      15044               Large Lemon\n",
      "8        27966      14748       Organic Raspberries\n",
      "9        16797      13945              Strawberries\n",
      "10       26209      13327                     Limes\n",
      "11       22935      11145      Organic Yellow Onion\n",
      "12       24964      10411            Organic Garlic\n",
      "13       45007      10076          Organic Zucchini\n",
      "14       49683       9538            Cucumber Kirby\n",
      "15       28204       8989        Organic Fuji Apple\n",
      "16        8277       8836  Apple Honeycrisp Organic\n",
      "17       39275       8799       Organic Blueberries\n",
      "18        5876       8412             Organic Lemon\n",
      "19       49235       8389       Organic Half & Half\n"
     ]
    }
   ],
   "source": [
    "top20_products = pd.merge(top20_reorders.reset_index(), df_prod[['product_id','product_name']], on='product_id', how='left')\n",
    "print(top20_products)"
   ]
  },
  {
   "cell_type": "code",
   "execution_count": 76,
   "id": "48dd3658",
   "metadata": {
    "id": "48dd3658"
   },
   "outputs": [
    {
     "data": {
      "image/png": "[encoded data removed]",
      "text/plain": [
       "<Figure size 640x480 with 1 Axes>"
      ]
     },
     "metadata": {},
     "output_type": "display_data"
    }
   ],
   "source": [
    "top20_products.set_index('product_name')['reordered'].plot(kind='bar', color='coral', title=\"Top 20 Reordered Products\")\n",
    "plt.xlabel(\"Product Name\")\n",
    "plt.ylabel(\"Reorder Count\")\n",
    "plt.show()"
   ]
  },
  {
   "cell_type": "markdown",
   "id": "80e70c74",
   "metadata": {
    "id": "80e70c74"
   },
   "source": [
    "Escribe aquí tus conclusiones\n",
    "\n",
    "Los 20 productos que se reordenan con mayor frecuencia son los listados, lo que sugiere que ciertos productos tienen una alta fidelidad o demanda recurrente."
   ]
  },
  {
   "cell_type": "markdown",
   "id": "9d312b14",
   "metadata": {
    "id": "9d312b14"
   },
   "source": [
    "### [C3] Para cada producto, ¿cuál es la proporción de las veces que se pide y que se vuelve a pedir?"
   ]
  },
  {
   "cell_type": "code",
   "execution_count": 77,
   "id": "8ae9f4b1",
   "metadata": {
    "id": "8ae9f4b1"
   },
   "outputs": [
    {
     "name": "stdout",
     "output_type": "stream",
     "text": [
      "            total_orders  total_reorders\n",
      "product_id                              \n",
      "1                    280             158\n",
      "2                     11               0\n",
      "3                     42              31\n",
      "4                     49              25\n",
      "7                      2               1\n"
     ]
    }
   ],
   "source": [
    "product_order_stats = df_ord.groupby('product_id').agg(total_orders=('order_id', 'count'),\n",
    "total_reorders=('reordered', 'sum'))\n",
    "print(product_order_stats.head())"
   ]
  },
  {
   "cell_type": "code",
   "execution_count": 78,
   "id": "103e7fe1",
   "metadata": {
    "id": "103e7fe1"
   },
   "outputs": [
    {
     "name": "stdout",
     "output_type": "stream",
     "text": [
      "            total_orders  total_reorders  reorder_rate\n",
      "product_id                                            \n",
      "1                    280             158      0.564286\n",
      "2                     11               0      0.000000\n",
      "3                     42              31      0.738095\n",
      "4                     49              25      0.510204\n",
      "7                      2               1      0.500000\n"
     ]
    }
   ],
   "source": [
    "product_order_stats['reorder_rate'] = product_order_stats['total_reorders'] / product_order_stats['total_orders']\n",
    "print(product_order_stats.head())"
   ]
  },
  {
   "cell_type": "code",
   "execution_count": 79,
   "id": "social-individual",
   "metadata": {
    "id": "social-individual"
   },
   "outputs": [
    {
     "name": "stdout",
     "output_type": "stream",
     "text": [
      "   product_id  total_orders  total_reorders  reorder_rate  \\\n",
      "0           1           280             158      0.564286   \n",
      "1           2            11               0      0.000000   \n",
      "2           3            42              31      0.738095   \n",
      "3           4            49              25      0.510204   \n",
      "4           7             2               1      0.500000   \n",
      "\n",
      "                                        product_name  \n",
      "0                         Chocolate Sandwich Cookies  \n",
      "1                                   All-Seasons Salt  \n",
      "2               Robust Golden Unsweetened Oolong Tea  \n",
      "3  Smart Ones Classic Favorites Mini Rigatoni Wit...  \n",
      "4                     Pure Coconut Water With Orange  \n"
     ]
    }
   ],
   "source": [
    "product_reorder_info = pd.merge(product_order_stats.reset_index(), df_prod[['product_id', 'product_name']], on='product_id', how='left')\n",
    "print(product_reorder_info.head())"
   ]
  },
  {
   "cell_type": "markdown",
   "id": "I10dEIAyldcO",
   "metadata": {
    "id": "I10dEIAyldcO"
   },
   "source": [
    "Escribe aquí tus conclusiones\n",
    "\n",
    "El cálculo de la tasa de reorden por producto nos muestra qué tan frecuentemente, en proporción, se vuelve a pedir cada producto. Esto puede ayudar a identificar productos con alta recurrencia y, por ende, con alta fidelidad de compra."
   ]
  },
  {
   "cell_type": "markdown",
   "id": "subject-boxing",
   "metadata": {
    "id": "subject-boxing"
   },
   "source": [
    "### [C4] Para cada cliente, ¿qué proporción de sus productos ya los había pedido?"
   ]
  },
  {
   "cell_type": "code",
   "execution_count": 80,
   "id": "medical-couple",
   "metadata": {
    "id": "medical-couple",
    "scrolled": true
   },
   "outputs": [
    {
     "name": "stdout",
     "output_type": "stream",
     "text": [
      "   order_id  product_id  add_to_cart_order  reordered  user_id\n",
      "0   2141543       11440                 17          0    58454\n",
      "1    567889        1560                  1          1   129474\n",
      "2   2261212       26683                  1          1    47476\n",
      "3    491251        8670                 35          1   134505\n",
      "4   2571142        1940                  5          1   155995\n"
     ]
    }
   ],
   "source": [
    "orders_users = pd.merge(df_ord, df_inst[['order_id','user_id']], on='order_id', how='left')\n",
    "print(orders_users.head())"
   ]
  },
  {
   "cell_type": "code",
   "execution_count": 81,
   "id": "8892e4b4",
   "metadata": {
    "id": "8892e4b4"
   },
   "outputs": [
    {
     "name": "stdout",
     "output_type": "stream",
     "text": [
      "         total_products  total_reorders  reorder_rate\n",
      "user_id                                              \n",
      "2                    26               1      0.038462\n",
      "4                     2               0      0.000000\n",
      "5                    12               8      0.666667\n",
      "6                     4               0      0.000000\n",
      "7                    14              13      0.928571\n"
     ]
    }
   ],
   "source": [
    "user_stats = orders_users.groupby('user_id').agg(\n",
    "    total_products=('order_id', 'count'),\n",
    "    total_reorders=('reordered', 'sum'))\n",
    "\n",
    "user_stats['reorder_rate'] = user_stats['total_reorders'] / user_stats['total_products']\n",
    "print(user_stats.head())"
   ]
  },
  {
   "cell_type": "markdown",
   "id": "BgJSvXDsleXz",
   "metadata": {
    "id": "BgJSvXDsleXz"
   },
   "source": [
    "Escribe aquí tus conclusiones\n",
    "\n",
    "La tasa de repetición de pedido por cliente, calculada como la proporción de productos reordenados sobre el total de productos pedidos, nos indica qué tan recurrente es el comportamiento de compra de cada usuario."
   ]
  },
  {
   "cell_type": "markdown",
   "id": "92d35137",
   "metadata": {
    "id": "92d35137"
   },
   "source": [
    "### [C5] ¿Cuáles son los 20 principales artículos que las personas ponen primero en sus carritos?"
   ]
  },
  {
   "cell_type": "code",
   "execution_count": 82,
   "id": "0ae57274",
   "metadata": {
    "id": "0ae57274",
    "scrolled": true
   },
   "outputs": [
    {
     "name": "stdout",
     "output_type": "stream",
     "text": [
      "    order_id  product_id  add_to_cart_order  reordered\n",
      "1     567889        1560                  1          1\n",
      "2    2261212       26683                  1          1\n",
      "14   1961225       37553                  1          1\n",
      "16    639939       10017                  1          1\n",
      "23    750040        8518                  1          0\n"
     ]
    }
   ],
   "source": [
    "first_items = df_ord[df_ord['add_to_cart_order'] == 1]\n",
    "print(first_items.head())"
   ]
  },
  {
   "cell_type": "code",
   "execution_count": 83,
   "id": "forty-netherlands",
   "metadata": {
    "id": "forty-netherlands",
    "scrolled": true
   },
   "outputs": [
    {
     "name": "stdout",
     "output_type": "stream",
     "text": [
      "product_id\n",
      "24852    15562\n",
      "13176    11026\n",
      "27845     4363\n",
      "21137     3946\n",
      "47209     3390\n",
      "21903     3336\n",
      "47766     3044\n",
      "19660     2336\n",
      "16797     2308\n",
      "27966     2024\n",
      "44632     1914\n",
      "49235     1797\n",
      "47626     1737\n",
      "196       1733\n",
      "38689     1397\n",
      "26209     1370\n",
      "12341     1340\n",
      "5785      1310\n",
      "27086     1309\n",
      "43352     1246\n",
      "Name: order_id, dtype: int64\n"
     ]
    }
   ],
   "source": [
    "first_item_counts = first_items.groupby('product_id')['order_id'].count().sort_values(ascending=False)\n",
    "print(first_item_counts.head(20))"
   ]
  },
  {
   "cell_type": "code",
   "execution_count": 84,
   "id": "08e41ec2",
   "metadata": {
    "id": "08e41ec2"
   },
   "outputs": [
    {
     "name": "stdout",
     "output_type": "stream",
     "text": [
      "    product_id  first_item_count                 product_name\n",
      "0        24852             15562                       Banana\n",
      "1        13176             11026       Bag of Organic Bananas\n",
      "2        27845              4363           Organic Whole Milk\n",
      "3        21137              3946         Organic Strawberries\n",
      "4        47209              3390         Organic Hass Avocado\n",
      "5        21903              3336         Organic Baby Spinach\n",
      "6        47766              3044              Organic Avocado\n",
      "7        19660              2336                 Spring Water\n",
      "8        16797              2308                 Strawberries\n",
      "9        27966              2024          Organic Raspberries\n",
      "10       44632              1914   Sparkling Water Grapefruit\n",
      "11       49235              1797          Organic Half & Half\n",
      "12       47626              1737                  Large Lemon\n",
      "13         196              1733                         Soda\n",
      "14       38689              1397     Organic Reduced Fat Milk\n",
      "15       26209              1370                        Limes\n",
      "16       12341              1340                Hass Avocados\n",
      "17        5785              1310  Organic Reduced Fat 2% Milk\n",
      "18       27086              1309                  Half & Half\n",
      "19       43352              1246                  Raspberries\n"
     ]
    }
   ],
   "source": [
    "top20_first_items = pd.merge(first_item_counts.reset_index(), df_prod[['product_id','product_name']], on='product_id', how='left')\n",
    "top20_first_items = top20_first_items.rename(columns={'order_id':'first_item_count'})\n",
    "print(top20_first_items.head(20))"
   ]
  },
  {
   "cell_type": "markdown",
   "id": "28ce9872",
   "metadata": {
    "id": "28ce9872"
   },
   "source": [
    "Escribe aquí tus conclusiones\n",
    "\n",
    "Los 20 principales artículos que se añaden primero en el carrito se identifican por su alta frecuencia al ocupar la posición 1. Esto nos da una idea de qué productos atraen más la atención inicial de los clientes."
   ]
  },
  {
   "cell_type": "markdown",
   "id": "e6c44ce8",
   "metadata": {},
   "source": [
    "<div class=\"alert alert-block alert-success\">\n",
    "<b>Comentario del revisor</b> <a class=\"tocSkip\"></a>\n",
    "\n",
    "Muy buen desarrollo de la sección. Desarrollaste de buena manera perfecta el calculo de proporciones"
   ]
  },
  {
   "cell_type": "markdown",
   "id": "uITbFCEoDosC",
   "metadata": {
    "id": "uITbFCEoDosC"
   },
   "source": [
    "### Conclusion general del proyecto:"
   ]
  },
  {
   "cell_type": "markdown",
   "id": "c833374c",
   "metadata": {
    "id": "Nk-4GS7mDwqY"
   },
   "source": [
    "En este proyecto se analizó el comportamiento de compra en la aplicación Instacart a partir de cinco datasets diferentes. Se exploraron desde las distribuciones de tiempos y días de pedido, hasta la frecuencia con la que se repiten productos y pedidos.\n",
    "\n",
    "Los hallazgos clave incluyen:\n",
    "\n",
    "La distribución de artículos por pedido muestra que la mayoría de los pedidos contienen pocos productos, aunque existen pedidos con muchos artículos.\n",
    "\n",
    "Algunos productos se reordenan con mucha frecuencia, lo que indica alta fidelidad en ciertos artículos.\n",
    "\n",
    "La tasa de repetición tanto a nivel de producto como de cliente proporciona información valiosa para entender la lealtad y el comportamiento recurrente en las compras.\n",
    "\n",
    "Finalmente, identificar qué productos se agregan primero en los carritos permite detectar cuáles son los productos que captan la atención inicial de los clientes.\n",
    "\n",
    "Estos análisis pueden ayudar a optimizar la oferta, mejorar las recomendaciones y orientar estrategias de marketing en la plataforma. En conjunto, el proyecto ilustra el poder del análisis de datos para extraer información útil de grandes conjuntos de datos de comercio electrónico."
   ]
  }
 ],
 "metadata": {
  "ExecuteTimeLog": [
   {
    "duration": 3,
    "start_time": "2025-04-01T15:03:08.070Z"
   },
   {
    "duration": 2442,
    "start_time": "2025-04-01T15:08:00.003Z"
   },
   {
    "duration": 2002,
    "start_time": "2025-04-01T15:08:11.778Z"
   },
   {
    "duration": 3,
    "start_time": "2025-04-01T15:10:07.274Z"
   },
   {
    "duration": 2008,
    "start_time": "2025-04-01T15:10:10.146Z"
   },
   {
    "duration": 3,
    "start_time": "2025-04-01T15:11:26.456Z"
   },
   {
    "duration": 1925,
    "start_time": "2025-04-01T15:11:28.717Z"
   },
   {
    "duration": 20,
    "start_time": "2025-04-01T15:12:04.055Z"
   },
   {
    "duration": 10,
    "start_time": "2025-04-01T15:18:35.225Z"
   },
   {
    "duration": 8,
    "start_time": "2025-04-01T15:38:56.431Z"
   },
   {
    "duration": 7,
    "start_time": "2025-04-01T15:41:16.840Z"
   },
   {
    "duration": 7,
    "start_time": "2025-04-01T15:45:15.248Z"
   },
   {
    "duration": 144,
    "start_time": "2025-04-01T16:01:47.623Z"
   },
   {
    "duration": 8,
    "start_time": "2025-04-01T16:03:23.946Z"
   },
   {
    "duration": 134,
    "start_time": "2025-04-01T16:03:34.824Z"
   },
   {
    "duration": 9,
    "start_time": "2025-04-01T16:19:20.721Z"
   },
   {
    "duration": 4,
    "start_time": "2025-04-01T16:19:47.468Z"
   },
   {
    "duration": 8,
    "start_time": "2025-04-01T16:22:25.537Z"
   },
   {
    "duration": 4,
    "start_time": "2025-04-01T16:23:07.295Z"
   },
   {
    "duration": 4,
    "start_time": "2025-04-01T16:23:10.742Z"
   },
   {
    "duration": 909,
    "start_time": "2025-04-01T16:23:36.989Z"
   },
   {
    "duration": 10,
    "start_time": "2025-04-01T16:23:44.183Z"
   },
   {
    "duration": 10,
    "start_time": "2025-04-01T16:23:50.690Z"
   },
   {
    "duration": 8,
    "start_time": "2025-04-01T16:23:56.650Z"
   },
   {
    "duration": 8,
    "start_time": "2025-04-01T16:24:07.545Z"
   },
   {
    "duration": 23,
    "start_time": "2025-04-01T16:24:13.587Z"
   },
   {
    "duration": 9,
    "start_time": "2025-04-01T16:24:42.369Z"
   },
   {
    "duration": 9,
    "start_time": "2025-04-01T16:25:17.795Z"
   },
   {
    "duration": 80,
    "start_time": "2025-04-01T16:53:14.582Z"
   },
   {
    "duration": 78,
    "start_time": "2025-04-01T16:53:47.573Z"
   },
   {
    "duration": 81,
    "start_time": "2025-04-01T16:54:24.142Z"
   },
   {
    "duration": 82,
    "start_time": "2025-04-01T16:58:54.294Z"
   },
   {
    "duration": 816,
    "start_time": "2025-04-01T17:03:27.578Z"
   },
   {
    "duration": 853,
    "start_time": "2025-04-01T17:03:45.511Z"
   },
   {
    "duration": 80,
    "start_time": "2025-04-01T17:04:02.816Z"
   },
   {
    "duration": 12,
    "start_time": "2025-04-01T17:04:23.997Z"
   },
   {
    "duration": 5,
    "start_time": "2025-04-01T17:04:47.127Z"
   },
   {
    "duration": 5,
    "start_time": "2025-04-01T17:05:11.349Z"
   },
   {
    "duration": 848,
    "start_time": "2025-04-01T17:05:34.380Z"
   },
   {
    "duration": 3,
    "start_time": "2025-04-01T19:51:11.496Z"
   },
   {
    "duration": 83,
    "start_time": "2025-04-01T19:53:02.190Z"
   },
   {
    "duration": 20,
    "start_time": "2025-04-01T21:02:43.273Z"
   },
   {
    "duration": 75,
    "start_time": "2025-04-01T21:18:06.350Z"
   },
   {
    "duration": 90,
    "start_time": "2025-04-01T21:25:56.151Z"
   },
   {
    "duration": 89,
    "start_time": "2025-04-01T21:32:30.090Z"
   },
   {
    "duration": 94,
    "start_time": "2025-04-01T21:32:41.289Z"
   },
   {
    "duration": 86,
    "start_time": "2025-04-01T21:33:29.400Z"
   },
   {
    "duration": 95,
    "start_time": "2025-04-01T21:34:08.440Z"
   },
   {
    "duration": 85,
    "start_time": "2025-04-01T21:34:56.378Z"
   },
   {
    "duration": 3,
    "start_time": "2025-04-01T21:58:30.242Z"
   },
   {
    "duration": 30,
    "start_time": "2025-04-01T21:58:35.466Z"
   },
   {
    "duration": 26,
    "start_time": "2025-04-01T21:58:48.855Z"
   },
   {
    "duration": 33,
    "start_time": "2025-04-01T21:59:05.964Z"
   },
   {
    "duration": 13,
    "start_time": "2025-04-01T22:52:31.115Z"
   },
   {
    "duration": 5,
    "start_time": "2025-04-01T22:56:03.249Z"
   },
   {
    "duration": 4,
    "start_time": "2025-04-01T23:03:16.289Z"
   },
   {
    "duration": 6,
    "start_time": "2025-04-01T23:03:47.797Z"
   },
   {
    "duration": 3,
    "start_time": "2025-04-01T23:06:18.688Z"
   },
   {
    "duration": 6,
    "start_time": "2025-04-01T23:24:14.402Z"
   },
   {
    "duration": 533,
    "start_time": "2025-04-01T23:29:39.575Z"
   },
   {
    "duration": 16,
    "start_time": "2025-04-01T23:30:45.002Z"
   },
   {
    "duration": 13,
    "start_time": "2025-04-01T23:31:17.991Z"
   },
   {
    "duration": 22,
    "start_time": "2025-04-01T23:36:19.697Z"
   },
   {
    "duration": 11,
    "start_time": "2025-04-01T23:52:46.730Z"
   },
   {
    "duration": 5,
    "start_time": "2025-04-02T00:12:27.684Z"
   },
   {
    "duration": 20,
    "start_time": "2025-04-02T00:12:31.255Z"
   },
   {
    "duration": 13,
    "start_time": "2025-04-02T00:12:35.556Z"
   },
   {
    "duration": 5,
    "start_time": "2025-04-02T00:56:34.176Z"
   },
   {
    "duration": 4,
    "start_time": "2025-04-02T01:02:09.091Z"
   },
   {
    "duration": 4,
    "start_time": "2025-04-02T01:06:55.922Z"
   },
   {
    "duration": 2,
    "start_time": "2025-04-02T01:12:32.458Z"
   },
   {
    "duration": 4,
    "start_time": "2025-04-02T01:13:12.389Z"
   },
   {
    "duration": 756,
    "start_time": "2025-04-02T01:18:55.195Z"
   },
   {
    "duration": 681,
    "start_time": "2025-04-02T01:37:10.845Z"
   },
   {
    "duration": 6,
    "start_time": "2025-04-02T02:12:28.112Z"
   },
   {
    "duration": 11,
    "start_time": "2025-04-02T02:15:15.873Z"
   },
   {
    "duration": 42,
    "start_time": "2025-04-02T02:16:39.573Z"
   },
   {
    "duration": 13,
    "start_time": "2025-04-02T02:16:48.701Z"
   },
   {
    "duration": 73,
    "start_time": "2025-04-02T02:23:32.460Z"
   },
   {
    "duration": 5,
    "start_time": "2025-04-02T02:23:39.898Z"
   },
   {
    "duration": 4,
    "start_time": "2025-04-02T02:23:42.899Z"
   },
   {
    "duration": 13,
    "start_time": "2025-04-02T02:24:03.020Z"
   },
   {
    "duration": 5,
    "start_time": "2025-04-02T02:24:11.840Z"
   },
   {
    "duration": 6,
    "start_time": "2025-04-02T02:24:43.860Z"
   },
   {
    "duration": 4,
    "start_time": "2025-04-02T02:42:23.798Z"
   },
   {
    "duration": 3,
    "start_time": "2025-04-02T02:42:29.921Z"
   },
   {
    "duration": 10,
    "start_time": "2025-04-02T02:42:36.745Z"
   },
   {
    "duration": 4,
    "start_time": "2025-04-02T02:45:06.435Z"
   },
   {
    "duration": 3,
    "start_time": "2025-04-02T02:45:30.852Z"
   },
   {
    "duration": 3,
    "start_time": "2025-04-02T02:55:42.808Z"
   },
   {
    "duration": 6,
    "start_time": "2025-04-02T03:04:03.062Z"
   },
   {
    "duration": 5,
    "start_time": "2025-04-02T03:04:27.657Z"
   },
   {
    "duration": 4,
    "start_time": "2025-04-02T03:09:20.933Z"
   },
   {
    "duration": 13,
    "start_time": "2025-04-02T03:31:27.964Z"
   },
   {
    "duration": 47,
    "start_time": "2025-04-02T03:46:57.662Z"
   },
   {
    "duration": 3,
    "start_time": "2025-04-02T03:49:45.403Z"
   },
   {
    "duration": 7,
    "start_time": "2025-04-02T04:01:05.622Z"
   },
   {
    "duration": 7,
    "start_time": "2025-04-02T04:02:06.501Z"
   },
   {
    "duration": 6,
    "start_time": "2025-04-02T04:03:28.825Z"
   },
   {
    "duration": 2,
    "start_time": "2025-04-02T04:05:19.845Z"
   },
   {
    "duration": 154,
    "start_time": "2025-04-02T13:02:27.816Z"
   },
   {
    "duration": 11,
    "start_time": "2025-04-02T13:15:13.925Z"
   },
   {
    "duration": 324,
    "start_time": "2025-04-02T13:15:58.114Z"
   },
   {
    "duration": 1152,
    "start_time": "2025-04-02T13:15:58.440Z"
   },
   {
    "duration": 16,
    "start_time": "2025-04-02T13:15:59.594Z"
   },
   {
    "duration": 10,
    "start_time": "2025-04-02T13:15:59.612Z"
   },
   {
    "duration": 7,
    "start_time": "2025-04-02T13:15:59.623Z"
   },
   {
    "duration": 8,
    "start_time": "2025-04-02T13:15:59.631Z"
   },
   {
    "duration": 24,
    "start_time": "2025-04-02T13:15:59.640Z"
   },
   {
    "duration": 10,
    "start_time": "2025-04-02T13:15:59.665Z"
   },
   {
    "duration": 132,
    "start_time": "2025-04-02T13:15:59.677Z"
   },
   {
    "duration": 88,
    "start_time": "2025-04-02T13:15:59.813Z"
   },
   {
    "duration": 12,
    "start_time": "2025-04-02T13:15:59.908Z"
   },
   {
    "duration": 97,
    "start_time": "2025-04-02T13:15:59.922Z"
   },
   {
    "duration": 100,
    "start_time": "2025-04-02T13:16:00.021Z"
   },
   {
    "duration": 98,
    "start_time": "2025-04-02T13:16:00.123Z"
   },
   {
    "duration": 94,
    "start_time": "2025-04-02T13:16:00.223Z"
   },
   {
    "duration": 29,
    "start_time": "2025-04-02T13:16:00.319Z"
   },
   {
    "duration": 12,
    "start_time": "2025-04-02T13:16:00.350Z"
   },
   {
    "duration": 4,
    "start_time": "2025-04-02T13:16:00.363Z"
   },
   {
    "duration": 43,
    "start_time": "2025-04-02T13:16:00.369Z"
   },
   {
    "duration": 10,
    "start_time": "2025-04-02T13:16:00.415Z"
   },
   {
    "duration": 4,
    "start_time": "2025-04-02T13:16:00.426Z"
   },
   {
    "duration": 5,
    "start_time": "2025-04-02T13:16:00.432Z"
   },
   {
    "duration": 4,
    "start_time": "2025-04-02T13:16:00.438Z"
   },
   {
    "duration": 4,
    "start_time": "2025-04-02T13:16:00.443Z"
   },
   {
    "duration": 781,
    "start_time": "2025-04-02T13:16:00.450Z"
   },
   {
    "duration": 678,
    "start_time": "2025-04-02T13:16:01.233Z"
   },
   {
    "duration": 12,
    "start_time": "2025-04-02T13:16:01.913Z"
   },
   {
    "duration": 4,
    "start_time": "2025-04-02T13:16:01.930Z"
   },
   {
    "duration": 3,
    "start_time": "2025-04-02T13:16:01.936Z"
   },
   {
    "duration": 3,
    "start_time": "2025-04-02T13:16:01.941Z"
   },
   {
    "duration": 3,
    "start_time": "2025-04-02T13:16:01.946Z"
   },
   {
    "duration": 5,
    "start_time": "2025-04-02T13:16:01.951Z"
   },
   {
    "duration": 3,
    "start_time": "2025-04-02T13:16:09.341Z"
   },
   {
    "duration": 826,
    "start_time": "2025-04-02T13:16:14.445Z"
   },
   {
    "duration": 11,
    "start_time": "2025-04-02T13:16:18.787Z"
   },
   {
    "duration": 10,
    "start_time": "2025-04-02T13:16:25.853Z"
   },
   {
    "duration": 8,
    "start_time": "2025-04-02T13:16:31.263Z"
   },
   {
    "duration": 16,
    "start_time": "2025-04-02T13:17:02.662Z"
   },
   {
    "duration": 49,
    "start_time": "2025-04-02T13:22:19.555Z"
   },
   {
    "duration": 13,
    "start_time": "2025-04-02T13:22:49.068Z"
   },
   {
    "duration": 31,
    "start_time": "2025-04-02T13:23:45.474Z"
   },
   {
    "duration": 6,
    "start_time": "2025-04-02T13:25:24.565Z"
   },
   {
    "duration": 20,
    "start_time": "2025-04-02T13:25:58.696Z"
   },
   {
    "duration": 12,
    "start_time": "2025-04-02T13:28:54.420Z"
   },
   {
    "duration": 9,
    "start_time": "2025-04-02T13:29:41.890Z"
   },
   {
    "duration": 24,
    "start_time": "2025-04-02T13:30:43.671Z"
   },
   {
    "duration": 7,
    "start_time": "2025-04-02T13:31:20.768Z"
   },
   {
    "duration": 6,
    "start_time": "2025-04-02T13:31:28.331Z"
   },
   {
    "duration": 10,
    "start_time": "2025-04-02T13:31:47.979Z"
   },
   {
    "duration": 8,
    "start_time": "2025-04-02T13:37:26.662Z"
   },
   {
    "duration": 6,
    "start_time": "2025-04-02T13:45:03.760Z"
   },
   {
    "duration": 6,
    "start_time": "2025-04-02T13:51:45.734Z"
   },
   {
    "duration": 13,
    "start_time": "2025-04-02T13:52:48.288Z"
   },
   {
    "duration": 6,
    "start_time": "2025-04-02T13:52:55.995Z"
   },
   {
    "duration": 6,
    "start_time": "2025-04-02T13:54:30.341Z"
   },
   {
    "duration": 6,
    "start_time": "2025-04-02T13:54:50.267Z"
   },
   {
    "duration": 11,
    "start_time": "2025-04-02T14:04:07.023Z"
   },
   {
    "duration": 5,
    "start_time": "2025-04-02T14:04:15.675Z"
   },
   {
    "duration": 4,
    "start_time": "2025-04-02T14:04:18.489Z"
   },
   {
    "duration": 6,
    "start_time": "2025-04-02T14:23:24.906Z"
   },
   {
    "duration": 10,
    "start_time": "2025-04-02T14:24:28.393Z"
   },
   {
    "duration": 7,
    "start_time": "2025-04-02T14:24:46.963Z"
   },
   {
    "duration": 17,
    "start_time": "2025-04-02T14:27:14.918Z"
   },
   {
    "duration": 12,
    "start_time": "2025-04-02T14:27:34.095Z"
   },
   {
    "duration": 4,
    "start_time": "2025-04-02T14:28:41.047Z"
   },
   {
    "duration": 6,
    "start_time": "2025-04-02T14:39:26.282Z"
   },
   {
    "duration": 10,
    "start_time": "2025-04-02T14:39:53.249Z"
   },
   {
    "duration": 8,
    "start_time": "2025-04-02T14:42:01.202Z"
   },
   {
    "duration": 11,
    "start_time": "2025-04-02T14:43:09.916Z"
   },
   {
    "duration": 11,
    "start_time": "2025-04-02T14:43:53.011Z"
   },
   {
    "duration": 11,
    "start_time": "2025-04-02T14:44:09.306Z"
   },
   {
    "duration": 18,
    "start_time": "2025-04-02T15:09:18.145Z"
   },
   {
    "duration": 8,
    "start_time": "2025-04-02T15:12:16.662Z"
   },
   {
    "duration": 400,
    "start_time": "2025-04-02T15:12:36.228Z"
   },
   {
    "duration": 12,
    "start_time": "2025-04-02T15:12:53.767Z"
   },
   {
    "duration": 4,
    "start_time": "2025-04-02T15:12:57.701Z"
   },
   {
    "duration": 11,
    "start_time": "2025-04-02T15:13:25.185Z"
   },
   {
    "duration": 5,
    "start_time": "2025-04-02T15:15:35.194Z"
   },
   {
    "duration": 2,
    "start_time": "2025-04-02T15:16:42.336Z"
   },
   {
    "duration": 8,
    "start_time": "2025-04-02T15:17:25.451Z"
   },
   {
    "duration": 16,
    "start_time": "2025-04-02T15:19:52.297Z"
   },
   {
    "duration": 39,
    "start_time": "2025-04-02T15:20:51.547Z"
   },
   {
    "duration": 36,
    "start_time": "2025-04-02T15:21:06.664Z"
   },
   {
    "duration": 12,
    "start_time": "2025-04-02T15:21:15.541Z"
   },
   {
    "duration": 18,
    "start_time": "2025-04-02T15:23:15.798Z"
   },
   {
    "duration": 17,
    "start_time": "2025-04-02T15:23:31.894Z"
   },
   {
    "duration": 155,
    "start_time": "2025-04-03T00:03:08.637Z"
   },
   {
    "duration": 2,
    "start_time": "2025-04-03T00:03:42.047Z"
   },
   {
    "duration": 2,
    "start_time": "2025-04-03T00:03:42.053Z"
   },
   {
    "duration": 12,
    "start_time": "2025-04-03T00:05:17.689Z"
   },
   {
    "duration": 11,
    "start_time": "2025-04-03T00:05:45.494Z"
   },
   {
    "duration": 11,
    "start_time": "2025-04-03T00:07:27.343Z"
   },
   {
    "duration": 16,
    "start_time": "2025-04-03T00:08:44.337Z"
   },
   {
    "duration": 13,
    "start_time": "2025-04-03T00:22:58.311Z"
   },
   {
    "duration": 307,
    "start_time": "2025-04-03T00:23:22.724Z"
   },
   {
    "duration": 965,
    "start_time": "2025-04-03T00:23:29.324Z"
   },
   {
    "duration": 11,
    "start_time": "2025-04-03T00:23:37.975Z"
   },
   {
    "duration": 10,
    "start_time": "2025-04-03T00:23:48.882Z"
   },
   {
    "duration": 9,
    "start_time": "2025-04-03T00:23:58.268Z"
   },
   {
    "duration": 8,
    "start_time": "2025-04-03T00:24:04.374Z"
   },
   {
    "duration": 23,
    "start_time": "2025-04-03T00:24:08.142Z"
   },
   {
    "duration": 10,
    "start_time": "2025-04-03T00:24:31.502Z"
   },
   {
    "duration": 87,
    "start_time": "2025-04-03T00:25:39.335Z"
   },
   {
    "duration": 87,
    "start_time": "2025-04-03T00:25:47.627Z"
   },
   {
    "duration": 20,
    "start_time": "2025-04-03T00:26:31.417Z"
   },
   {
    "duration": 96,
    "start_time": "2025-04-03T00:26:44.918Z"
   },
   {
    "duration": 92,
    "start_time": "2025-04-03T00:27:37.802Z"
   },
   {
    "duration": 99,
    "start_time": "2025-04-03T00:27:47.001Z"
   },
   {
    "duration": 85,
    "start_time": "2025-04-03T00:27:49.862Z"
   },
   {
    "duration": 28,
    "start_time": "2025-04-03T00:27:52.837Z"
   },
   {
    "duration": 12,
    "start_time": "2025-04-03T00:28:31.880Z"
   },
   {
    "duration": 5,
    "start_time": "2025-04-03T00:28:36.690Z"
   },
   {
    "duration": 19,
    "start_time": "2025-04-03T00:28:40.080Z"
   },
   {
    "duration": 17,
    "start_time": "2025-04-03T00:28:55.860Z"
   },
   {
    "duration": 10,
    "start_time": "2025-04-03T00:28:59.040Z"
   },
   {
    "duration": 4,
    "start_time": "2025-04-03T00:29:35.424Z"
   },
   {
    "duration": 3,
    "start_time": "2025-04-03T00:29:37.798Z"
   },
   {
    "duration": 4,
    "start_time": "2025-04-03T00:29:49.482Z"
   },
   {
    "duration": 4,
    "start_time": "2025-04-03T00:29:52.262Z"
   },
   {
    "duration": 732,
    "start_time": "2025-04-03T00:30:00.894Z"
   },
   {
    "duration": 690,
    "start_time": "2025-04-03T00:30:09.121Z"
   },
   {
    "duration": 14,
    "start_time": "2025-04-03T00:30:24.064Z"
   },
   {
    "duration": 5,
    "start_time": "2025-04-03T00:30:49.542Z"
   },
   {
    "duration": 4,
    "start_time": "2025-04-03T00:30:52.686Z"
   },
   {
    "duration": 4,
    "start_time": "2025-04-03T00:31:41.801Z"
   },
   {
    "duration": 9,
    "start_time": "2025-04-03T00:31:56.001Z"
   },
   {
    "duration": 9,
    "start_time": "2025-04-03T00:32:04.549Z"
   },
   {
    "duration": 12,
    "start_time": "2025-04-03T00:32:25.824Z"
   },
   {
    "duration": 7,
    "start_time": "2025-04-03T00:32:33.711Z"
   },
   {
    "duration": 3,
    "start_time": "2025-04-03T00:32:40.018Z"
   },
   {
    "duration": 9,
    "start_time": "2025-04-03T00:33:12.444Z"
   },
   {
    "duration": 7,
    "start_time": "2025-04-03T00:33:27.817Z"
   },
   {
    "duration": 7,
    "start_time": "2025-04-03T00:33:32.227Z"
   },
   {
    "duration": 20,
    "start_time": "2025-04-03T00:34:01.962Z"
   },
   {
    "duration": 17,
    "start_time": "2025-04-03T00:34:10.347Z"
   },
   {
    "duration": 29,
    "start_time": "2025-04-03T00:34:16.327Z"
   },
   {
    "duration": 18,
    "start_time": "2025-04-03T00:34:20.864Z"
   },
   {
    "duration": 393,
    "start_time": "2025-04-03T00:34:28.287Z"
   },
   {
    "duration": 7,
    "start_time": "2025-04-03T00:36:24.928Z"
   },
   {
    "duration": 7,
    "start_time": "2025-04-03T00:36:30.897Z"
   },
   {
    "duration": 7,
    "start_time": "2025-04-03T00:36:50.308Z"
   },
   {
    "duration": 8,
    "start_time": "2025-04-03T02:55:23.197Z"
   },
   {
    "duration": 219,
    "start_time": "2025-04-03T03:13:32.101Z"
   },
   {
    "duration": 164,
    "start_time": "2025-04-03T13:02:03.230Z"
   },
   {
    "duration": 11,
    "start_time": "2025-04-03T13:06:03.716Z"
   },
   {
    "duration": 11,
    "start_time": "2025-04-03T13:06:21.389Z"
   },
   {
    "duration": 325,
    "start_time": "2025-04-03T13:08:55.257Z"
   },
   {
    "duration": 1032,
    "start_time": "2025-04-03T13:08:55.584Z"
   },
   {
    "duration": 20,
    "start_time": "2025-04-03T13:08:56.618Z"
   },
   {
    "duration": 10,
    "start_time": "2025-04-03T13:08:56.640Z"
   },
   {
    "duration": 8,
    "start_time": "2025-04-03T13:08:56.651Z"
   },
   {
    "duration": 8,
    "start_time": "2025-04-03T13:08:56.661Z"
   },
   {
    "duration": 29,
    "start_time": "2025-04-03T13:08:56.670Z"
   },
   {
    "duration": 36,
    "start_time": "2025-04-03T13:08:56.701Z"
   },
   {
    "duration": 106,
    "start_time": "2025-04-03T13:08:56.739Z"
   },
   {
    "duration": 92,
    "start_time": "2025-04-03T13:08:56.849Z"
   },
   {
    "duration": 13,
    "start_time": "2025-04-03T13:08:56.943Z"
   },
   {
    "duration": 102,
    "start_time": "2025-04-03T13:08:56.957Z"
   },
   {
    "duration": 101,
    "start_time": "2025-04-03T13:08:57.061Z"
   },
   {
    "duration": 90,
    "start_time": "2025-04-03T13:08:57.164Z"
   },
   {
    "duration": 92,
    "start_time": "2025-04-03T13:08:57.255Z"
   },
   {
    "duration": 28,
    "start_time": "2025-04-03T13:08:57.349Z"
   },
   {
    "duration": 14,
    "start_time": "2025-04-03T13:08:57.379Z"
   },
   {
    "duration": 3,
    "start_time": "2025-04-03T13:08:57.395Z"
   },
   {
    "duration": 39,
    "start_time": "2025-04-03T13:08:57.400Z"
   },
   {
    "duration": 8,
    "start_time": "2025-04-03T13:08:57.441Z"
   },
   {
    "duration": 4,
    "start_time": "2025-04-03T13:08:57.450Z"
   },
   {
    "duration": 4,
    "start_time": "2025-04-03T13:08:57.456Z"
   },
   {
    "duration": 4,
    "start_time": "2025-04-03T13:08:57.462Z"
   },
   {
    "duration": 4,
    "start_time": "2025-04-03T13:08:57.467Z"
   },
   {
    "duration": 765,
    "start_time": "2025-04-03T13:08:57.472Z"
   },
   {
    "duration": 654,
    "start_time": "2025-04-03T13:08:58.239Z"
   },
   {
    "duration": 13,
    "start_time": "2025-04-03T13:08:58.895Z"
   },
   {
    "duration": 5,
    "start_time": "2025-04-03T13:08:58.912Z"
   },
   {
    "duration": 15,
    "start_time": "2025-04-03T13:08:58.918Z"
   },
   {
    "duration": 4,
    "start_time": "2025-04-03T13:08:58.934Z"
   },
   {
    "duration": 9,
    "start_time": "2025-04-03T13:08:58.939Z"
   },
   {
    "duration": 9,
    "start_time": "2025-04-03T13:08:58.949Z"
   },
   {
    "duration": 6,
    "start_time": "2025-04-03T13:08:58.959Z"
   },
   {
    "duration": 4,
    "start_time": "2025-04-03T13:08:58.966Z"
   },
   {
    "duration": 8,
    "start_time": "2025-04-03T13:08:58.971Z"
   },
   {
    "duration": 51,
    "start_time": "2025-04-03T13:08:58.981Z"
   },
   {
    "duration": 7,
    "start_time": "2025-04-03T13:08:59.034Z"
   },
   {
    "duration": 16,
    "start_time": "2025-04-03T13:08:59.042Z"
   },
   {
    "duration": 16,
    "start_time": "2025-04-03T13:08:59.059Z"
   },
   {
    "duration": 19,
    "start_time": "2025-04-03T13:08:59.077Z"
   },
   {
    "duration": 48,
    "start_time": "2025-04-03T13:08:59.098Z"
   },
   {
    "duration": 6,
    "start_time": "2025-04-03T13:08:59.148Z"
   },
   {
    "duration": 2,
    "start_time": "2025-04-03T13:08:59.156Z"
   },
   {
    "duration": 8,
    "start_time": "2025-04-03T13:08:59.159Z"
   },
   {
    "duration": 248,
    "start_time": "2025-04-03T13:08:59.169Z"
   },
   {
    "duration": 30,
    "start_time": "2025-04-03T13:08:59.419Z"
   },
   {
    "duration": 16,
    "start_time": "2025-04-03T13:09:14.029Z"
   },
   {
    "duration": 6,
    "start_time": "2025-04-03T13:10:06.536Z"
   },
   {
    "duration": 5,
    "start_time": "2025-04-03T14:01:36.166Z"
   },
   {
    "duration": 2,
    "start_time": "2025-04-03T14:01:45.321Z"
   },
   {
    "duration": 5,
    "start_time": "2025-04-03T14:38:40.671Z"
   },
   {
    "duration": 4,
    "start_time": "2025-04-03T14:41:55.567Z"
   },
   {
    "duration": 4,
    "start_time": "2025-04-03T14:42:15.023Z"
   },
   {
    "duration": 1813,
    "start_time": "2025-04-03T14:45:32.502Z"
   },
   {
    "duration": 2,
    "start_time": "2025-04-03T14:45:38.297Z"
   },
   {
    "duration": 842,
    "start_time": "2025-04-03T14:45:38.303Z"
   },
   {
    "duration": 11,
    "start_time": "2025-04-03T14:45:39.148Z"
   },
   {
    "duration": 9,
    "start_time": "2025-04-03T14:45:39.161Z"
   },
   {
    "duration": 7,
    "start_time": "2025-04-03T14:45:39.172Z"
   },
   {
    "duration": 8,
    "start_time": "2025-04-03T14:45:39.182Z"
   },
   {
    "duration": 49,
    "start_time": "2025-04-03T14:45:39.191Z"
   },
   {
    "duration": 9,
    "start_time": "2025-04-03T14:45:39.242Z"
   },
   {
    "duration": 87,
    "start_time": "2025-04-03T14:45:39.253Z"
   },
   {
    "duration": 77,
    "start_time": "2025-04-03T14:45:39.342Z"
   },
   {
    "duration": 19,
    "start_time": "2025-04-03T14:45:39.421Z"
   },
   {
    "duration": 72,
    "start_time": "2025-04-03T14:45:39.441Z"
   },
   {
    "duration": 90,
    "start_time": "2025-04-03T14:45:39.514Z"
   },
   {
    "duration": 85,
    "start_time": "2025-04-03T14:45:39.606Z"
   },
   {
    "duration": 78,
    "start_time": "2025-04-03T14:45:39.695Z"
   },
   {
    "duration": 22,
    "start_time": "2025-04-03T14:45:39.775Z"
   },
   {
    "duration": 12,
    "start_time": "2025-04-03T14:45:39.799Z"
   },
   {
    "duration": 20,
    "start_time": "2025-04-03T14:45:39.812Z"
   },
   {
    "duration": 18,
    "start_time": "2025-04-03T14:45:39.833Z"
   },
   {
    "duration": 8,
    "start_time": "2025-04-03T14:45:39.853Z"
   },
   {
    "duration": 4,
    "start_time": "2025-04-03T14:45:39.862Z"
   },
   {
    "duration": 4,
    "start_time": "2025-04-03T14:45:39.867Z"
   },
   {
    "duration": 4,
    "start_time": "2025-04-03T14:45:39.873Z"
   },
   {
    "duration": 5,
    "start_time": "2025-04-03T14:45:39.878Z"
   },
   {
    "duration": 697,
    "start_time": "2025-04-03T14:45:39.884Z"
   },
   {
    "duration": 609,
    "start_time": "2025-04-03T14:45:40.582Z"
   },
   {
    "duration": 12,
    "start_time": "2025-04-03T14:45:41.193Z"
   },
   {
    "duration": 5,
    "start_time": "2025-04-03T14:45:41.206Z"
   },
   {
    "duration": 18,
    "start_time": "2025-04-03T14:45:41.213Z"
   },
   {
    "duration": 3,
    "start_time": "2025-04-03T14:45:41.232Z"
   },
   {
    "duration": 8,
    "start_time": "2025-04-03T14:45:41.237Z"
   },
   {
    "duration": 8,
    "start_time": "2025-04-03T14:45:41.247Z"
   },
   {
    "duration": 6,
    "start_time": "2025-04-03T14:45:41.256Z"
   },
   {
    "duration": 3,
    "start_time": "2025-04-03T14:45:41.264Z"
   },
   {
    "duration": 7,
    "start_time": "2025-04-03T14:45:41.269Z"
   },
   {
    "duration": 6,
    "start_time": "2025-04-03T14:45:41.277Z"
   },
   {
    "duration": 47,
    "start_time": "2025-04-03T14:45:41.285Z"
   },
   {
    "duration": 15,
    "start_time": "2025-04-03T14:45:41.334Z"
   },
   {
    "duration": 17,
    "start_time": "2025-04-03T14:45:41.351Z"
   },
   {
    "duration": 17,
    "start_time": "2025-04-03T14:45:41.369Z"
   },
   {
    "duration": 45,
    "start_time": "2025-04-03T14:45:41.388Z"
   },
   {
    "duration": 7,
    "start_time": "2025-04-03T14:45:41.437Z"
   },
   {
    "duration": 2,
    "start_time": "2025-04-03T14:45:41.446Z"
   },
   {
    "duration": 8,
    "start_time": "2025-04-03T14:45:41.449Z"
   },
   {
    "duration": 240,
    "start_time": "2025-04-03T14:45:41.458Z"
   },
   {
    "duration": 23,
    "start_time": "2025-04-03T14:45:41.700Z"
   },
   {
    "duration": 8,
    "start_time": "2025-04-03T14:45:41.732Z"
   },
   {
    "duration": 4,
    "start_time": "2025-04-03T14:45:41.743Z"
   },
   {
    "duration": 4,
    "start_time": "2025-04-03T14:45:41.749Z"
   },
   {
    "duration": 800,
    "start_time": "2025-04-03T14:45:52.517Z"
   },
   {
    "duration": 279,
    "start_time": "2025-04-03T15:07:37.275Z"
   },
   {
    "duration": 292,
    "start_time": "2025-04-03T15:15:36.655Z"
   },
   {
    "duration": 294,
    "start_time": "2025-04-03T15:25:55.374Z"
   },
   {
    "duration": 293,
    "start_time": "2025-04-03T15:26:49.896Z"
   },
   {
    "duration": 8,
    "start_time": "2025-04-03T15:29:41.846Z"
   },
   {
    "duration": 5,
    "start_time": "2025-04-03T15:30:00.633Z"
   },
   {
    "duration": 4,
    "start_time": "2025-04-03T15:30:25.713Z"
   },
   {
    "duration": 8,
    "start_time": "2025-04-03T15:39:23.689Z"
   },
   {
    "duration": 5,
    "start_time": "2025-04-03T15:39:35.825Z"
   },
   {
    "duration": 64,
    "start_time": "2025-04-03T15:51:42.494Z"
   },
   {
    "duration": 4,
    "start_time": "2025-04-03T15:51:55.936Z"
   },
   {
    "duration": 162,
    "start_time": "2025-04-03T20:16:43.169Z"
   },
   {
    "duration": 2168,
    "start_time": "2025-04-03T20:16:53.726Z"
   },
   {
    "duration": 985,
    "start_time": "2025-04-03T20:16:55.896Z"
   },
   {
    "duration": 12,
    "start_time": "2025-04-03T20:16:56.882Z"
   },
   {
    "duration": 11,
    "start_time": "2025-04-03T20:16:56.896Z"
   },
   {
    "duration": 8,
    "start_time": "2025-04-03T20:16:56.925Z"
   },
   {
    "duration": 10,
    "start_time": "2025-04-03T20:16:56.934Z"
   },
   {
    "duration": 28,
    "start_time": "2025-04-03T20:16:56.946Z"
   },
   {
    "duration": 11,
    "start_time": "2025-04-03T20:16:56.977Z"
   },
   {
    "duration": 111,
    "start_time": "2025-04-03T20:16:56.989Z"
   },
   {
    "duration": 91,
    "start_time": "2025-04-03T20:16:57.102Z"
   },
   {
    "duration": 13,
    "start_time": "2025-04-03T20:16:57.195Z"
   },
   {
    "duration": 92,
    "start_time": "2025-04-03T20:16:57.223Z"
   },
   {
    "duration": 100,
    "start_time": "2025-04-03T20:16:57.324Z"
   },
   {
    "duration": 99,
    "start_time": "2025-04-03T20:16:57.428Z"
   },
   {
    "duration": 98,
    "start_time": "2025-04-03T20:16:57.529Z"
   },
   {
    "duration": 30,
    "start_time": "2025-04-03T20:16:57.629Z"
   },
   {
    "duration": 13,
    "start_time": "2025-04-03T20:16:57.661Z"
   },
   {
    "duration": 4,
    "start_time": "2025-04-03T20:16:57.675Z"
   },
   {
    "duration": 18,
    "start_time": "2025-04-03T20:16:57.682Z"
   },
   {
    "duration": 30,
    "start_time": "2025-04-03T20:16:57.701Z"
   },
   {
    "duration": 5,
    "start_time": "2025-04-03T20:16:57.732Z"
   },
   {
    "duration": 4,
    "start_time": "2025-04-03T20:16:57.738Z"
   },
   {
    "duration": 4,
    "start_time": "2025-04-03T20:16:57.744Z"
   },
   {
    "duration": 4,
    "start_time": "2025-04-03T20:16:57.750Z"
   },
   {
    "duration": 800,
    "start_time": "2025-04-03T20:16:57.756Z"
   },
   {
    "duration": 696,
    "start_time": "2025-04-03T20:16:58.558Z"
   },
   {
    "duration": 11,
    "start_time": "2025-04-03T20:16:59.256Z"
   },
   {
    "duration": 5,
    "start_time": "2025-04-03T20:16:59.268Z"
   },
   {
    "duration": 3,
    "start_time": "2025-04-03T20:16:59.275Z"
   },
   {
    "duration": 4,
    "start_time": "2025-04-03T20:16:59.279Z"
   },
   {
    "duration": 8,
    "start_time": "2025-04-03T20:16:59.285Z"
   },
   {
    "duration": 9,
    "start_time": "2025-04-03T20:16:59.325Z"
   },
   {
    "duration": 6,
    "start_time": "2025-04-03T20:16:59.336Z"
   },
   {
    "duration": 3,
    "start_time": "2025-04-03T20:16:59.345Z"
   },
   {
    "duration": 9,
    "start_time": "2025-04-03T20:16:59.350Z"
   },
   {
    "duration": 7,
    "start_time": "2025-04-03T20:16:59.360Z"
   },
   {
    "duration": 6,
    "start_time": "2025-04-03T20:16:59.369Z"
   },
   {
    "duration": 52,
    "start_time": "2025-04-03T20:16:59.377Z"
   },
   {
    "duration": 16,
    "start_time": "2025-04-03T20:16:59.431Z"
   },
   {
    "duration": 17,
    "start_time": "2025-04-03T20:16:59.449Z"
   },
   {
    "duration": 16,
    "start_time": "2025-04-03T20:16:59.471Z"
   },
   {
    "duration": 35,
    "start_time": "2025-04-03T20:16:59.489Z"
   },
   {
    "duration": 3,
    "start_time": "2025-04-03T20:16:59.525Z"
   },
   {
    "duration": 7,
    "start_time": "2025-04-03T20:16:59.530Z"
   },
   {
    "duration": 312,
    "start_time": "2025-04-03T20:16:59.538Z"
   },
   {
    "duration": 22,
    "start_time": "2025-04-03T20:16:59.852Z"
   },
   {
    "duration": 8,
    "start_time": "2025-04-03T20:16:59.876Z"
   },
   {
    "duration": 4,
    "start_time": "2025-04-03T20:16:59.885Z"
   },
   {
    "duration": 4,
    "start_time": "2025-04-03T20:16:59.890Z"
   },
   {
    "duration": 401,
    "start_time": "2025-04-03T20:16:59.896Z"
   },
   {
    "duration": 6,
    "start_time": "2025-04-03T20:17:00.299Z"
   },
   {
    "duration": 4,
    "start_time": "2025-04-03T20:17:00.308Z"
   },
   {
    "duration": 70,
    "start_time": "2025-04-03T20:17:00.325Z"
   },
   {
    "duration": 4,
    "start_time": "2025-04-03T20:17:00.397Z"
   },
   {
    "duration": 134,
    "start_time": "2025-04-03T20:17:00.403Z"
   },
   {
    "duration": 122,
    "start_time": "2025-04-03T20:25:00.006Z"
   },
   {
    "duration": 69,
    "start_time": "2025-04-03T20:26:59.409Z"
   },
   {
    "duration": 5,
    "start_time": "2025-04-03T20:27:13.296Z"
   },
   {
    "duration": 4,
    "start_time": "2025-04-03T20:27:25.573Z"
   },
   {
    "duration": 4,
    "start_time": "2025-04-03T20:27:57.611Z"
   },
   {
    "duration": 9,
    "start_time": "2025-04-03T20:38:35.084Z"
   },
   {
    "duration": 4,
    "start_time": "2025-04-03T20:38:43.484Z"
   },
   {
    "duration": 5,
    "start_time": "2025-04-03T20:38:53.270Z"
   },
   {
    "duration": 7,
    "start_time": "2025-04-03T20:39:17.410Z"
   },
   {
    "duration": 5,
    "start_time": "2025-04-03T20:39:20.705Z"
   },
   {
    "duration": 4,
    "start_time": "2025-04-03T20:40:42.918Z"
   },
   {
    "duration": 154,
    "start_time": "2025-04-03T20:53:38.589Z"
   },
   {
    "duration": 169,
    "start_time": "2025-04-03T20:55:29.720Z"
   },
   {
    "duration": 161,
    "start_time": "2025-04-03T21:21:28.180Z"
   },
   {
    "duration": 4,
    "start_time": "2025-04-03T21:24:25.259Z"
   },
   {
    "duration": 3,
    "start_time": "2025-04-03T21:26:44.299Z"
   },
   {
    "duration": 3,
    "start_time": "2025-04-03T21:26:58.716Z"
   },
   {
    "duration": 4,
    "start_time": "2025-04-03T21:27:12.536Z"
   },
   {
    "duration": 4,
    "start_time": "2025-04-03T21:27:15.038Z"
   },
   {
    "duration": 9,
    "start_time": "2025-04-03T22:11:23.993Z"
   },
   {
    "duration": 7,
    "start_time": "2025-04-03T22:12:06.270Z"
   },
   {
    "duration": 241,
    "start_time": "2025-04-03T22:16:33.680Z"
   },
   {
    "duration": 43,
    "start_time": "2025-04-03T23:02:34.237Z"
   },
   {
    "duration": 180,
    "start_time": "2025-04-03T23:07:09.204Z"
   },
   {
    "duration": 122,
    "start_time": "2025-04-03T23:07:39.683Z"
   },
   {
    "duration": 193,
    "start_time": "2025-04-03T23:08:59.441Z"
   },
   {
    "duration": 117,
    "start_time": "2025-04-03T23:09:18.550Z"
   },
   {
    "duration": 147,
    "start_time": "2025-04-03T23:56:27.604Z"
   },
   {
    "duration": 4,
    "start_time": "2025-04-04T00:02:53.020Z"
   },
   {
    "duration": 12,
    "start_time": "2025-04-04T00:03:36.069Z"
   },
   {
    "duration": 253,
    "start_time": "2025-04-04T00:41:54.113Z"
   },
   {
    "duration": 158,
    "start_time": "2025-04-04T00:46:40.682Z"
   },
   {
    "duration": 5,
    "start_time": "2025-04-04T00:47:30.003Z"
   },
   {
    "duration": 108,
    "start_time": "2025-04-04T00:57:51.549Z"
   },
   {
    "duration": 7,
    "start_time": "2025-04-04T00:58:08.062Z"
   },
   {
    "duration": 13,
    "start_time": "2025-04-04T00:58:38.492Z"
   },
   {
    "duration": 234,
    "start_time": "2025-04-04T01:00:15.139Z"
   },
   {
    "duration": 142,
    "start_time": "2025-04-04T01:06:02.972Z"
   },
   {
    "duration": 6,
    "start_time": "2025-04-04T01:07:58.354Z"
   },
   {
    "duration": 16,
    "start_time": "2025-04-04T01:08:39.152Z"
   },
   {
    "duration": 722,
    "start_time": "2025-04-04T01:11:08.139Z"
   },
   {
    "duration": 9,
    "start_time": "2025-04-04T01:11:42.497Z"
   },
   {
    "duration": 336,
    "start_time": "2025-04-04T01:13:20.526Z"
   },
   {
    "duration": 74,
    "start_time": "2025-04-04T01:14:32.897Z"
   },
   {
    "duration": 15,
    "start_time": "2025-04-04T01:14:56.864Z"
   },
   {
    "duration": 15,
    "start_time": "2025-04-04T01:16:13.895Z"
   },
   {
    "duration": 10,
    "start_time": "2025-04-04T18:50:07.720Z"
   },
   {
    "duration": 161,
    "start_time": "2025-04-04T18:50:20.629Z"
   },
   {
    "duration": 2163,
    "start_time": "2025-04-04T18:50:27.796Z"
   },
   {
    "duration": 1050,
    "start_time": "2025-04-04T18:50:29.961Z"
   },
   {
    "duration": 14,
    "start_time": "2025-04-04T18:50:31.012Z"
   },
   {
    "duration": 21,
    "start_time": "2025-04-04T18:50:31.030Z"
   },
   {
    "duration": 8,
    "start_time": "2025-04-04T18:50:31.053Z"
   },
   {
    "duration": 8,
    "start_time": "2025-04-04T18:50:31.063Z"
   },
   {
    "duration": 22,
    "start_time": "2025-04-04T18:50:31.073Z"
   },
   {
    "duration": 46,
    "start_time": "2025-04-04T18:50:31.097Z"
   },
   {
    "duration": 85,
    "start_time": "2025-04-04T18:50:31.145Z"
   },
   {
    "duration": 86,
    "start_time": "2025-04-04T18:50:31.242Z"
   },
   {
    "duration": 23,
    "start_time": "2025-04-04T18:50:31.330Z"
   },
   {
    "duration": 95,
    "start_time": "2025-04-04T18:50:31.355Z"
   },
   {
    "duration": 110,
    "start_time": "2025-04-04T18:50:31.452Z"
   },
   {
    "duration": 112,
    "start_time": "2025-04-04T18:50:31.564Z"
   },
   {
    "duration": 95,
    "start_time": "2025-04-04T18:50:31.678Z"
   },
   {
    "duration": 36,
    "start_time": "2025-04-04T18:50:31.775Z"
   },
   {
    "duration": 31,
    "start_time": "2025-04-04T18:50:31.813Z"
   },
   {
    "duration": 4,
    "start_time": "2025-04-04T18:50:31.845Z"
   },
   {
    "duration": 20,
    "start_time": "2025-04-04T18:50:31.851Z"
   },
   {
    "duration": 7,
    "start_time": "2025-04-04T18:50:31.872Z"
   },
   {
    "duration": 8,
    "start_time": "2025-04-04T18:50:31.881Z"
   },
   {
    "duration": 4,
    "start_time": "2025-04-04T18:50:31.890Z"
   },
   {
    "duration": 5,
    "start_time": "2025-04-04T18:50:31.896Z"
   },
   {
    "duration": 42,
    "start_time": "2025-04-04T18:50:31.902Z"
   },
   {
    "duration": 4,
    "start_time": "2025-04-04T18:50:31.946Z"
   },
   {
    "duration": 775,
    "start_time": "2025-04-04T18:50:31.951Z"
   },
   {
    "duration": 681,
    "start_time": "2025-04-04T18:50:32.728Z"
   },
   {
    "duration": 11,
    "start_time": "2025-04-04T18:50:33.415Z"
   },
   {
    "duration": 17,
    "start_time": "2025-04-04T18:50:33.428Z"
   },
   {
    "duration": 3,
    "start_time": "2025-04-04T18:50:33.447Z"
   },
   {
    "duration": 3,
    "start_time": "2025-04-04T18:50:33.452Z"
   },
   {
    "duration": 8,
    "start_time": "2025-04-04T18:50:33.458Z"
   },
   {
    "duration": 9,
    "start_time": "2025-04-04T18:50:33.467Z"
   },
   {
    "duration": 6,
    "start_time": "2025-04-04T18:50:33.477Z"
   },
   {
    "duration": 3,
    "start_time": "2025-04-04T18:50:33.484Z"
   },
   {
    "duration": 8,
    "start_time": "2025-04-04T18:50:33.489Z"
   },
   {
    "duration": 49,
    "start_time": "2025-04-04T18:50:33.498Z"
   },
   {
    "duration": 7,
    "start_time": "2025-04-04T18:50:33.548Z"
   },
   {
    "duration": 16,
    "start_time": "2025-04-04T18:50:33.556Z"
   },
   {
    "duration": 16,
    "start_time": "2025-04-04T18:50:33.574Z"
   },
   {
    "duration": 18,
    "start_time": "2025-04-04T18:50:33.591Z"
   },
   {
    "duration": 18,
    "start_time": "2025-04-04T18:50:33.642Z"
   },
   {
    "duration": 7,
    "start_time": "2025-04-04T18:50:33.662Z"
   },
   {
    "duration": 2,
    "start_time": "2025-04-04T18:50:33.670Z"
   },
   {
    "duration": 7,
    "start_time": "2025-04-04T18:50:33.674Z"
   },
   {
    "duration": 275,
    "start_time": "2025-04-04T18:50:33.682Z"
   },
   {
    "duration": 25,
    "start_time": "2025-04-04T18:50:33.959Z"
   },
   {
    "duration": 8,
    "start_time": "2025-04-04T18:50:33.986Z"
   },
   {
    "duration": 4,
    "start_time": "2025-04-04T18:50:33.995Z"
   },
   {
    "duration": 4,
    "start_time": "2025-04-04T18:50:34.000Z"
   },
   {
    "duration": 339,
    "start_time": "2025-04-04T18:50:34.007Z"
   },
   {
    "duration": 7,
    "start_time": "2025-04-04T18:50:34.347Z"
   },
   {
    "duration": 4,
    "start_time": "2025-04-04T18:50:34.356Z"
   },
   {
    "duration": 86,
    "start_time": "2025-04-04T18:50:34.362Z"
   },
   {
    "duration": 4,
    "start_time": "2025-04-04T18:50:34.449Z"
   },
   {
    "duration": 126,
    "start_time": "2025-04-04T18:50:34.455Z"
   },
   {
    "duration": 6,
    "start_time": "2025-04-04T18:50:34.583Z"
   },
   {
    "duration": 4,
    "start_time": "2025-04-04T18:50:34.591Z"
   },
   {
    "duration": 167,
    "start_time": "2025-04-04T18:50:34.597Z"
   },
   {
    "duration": 9,
    "start_time": "2025-04-04T18:50:34.765Z"
   },
   {
    "duration": 5,
    "start_time": "2025-04-04T18:50:34.776Z"
   },
   {
    "duration": 268,
    "start_time": "2025-04-04T18:50:34.782Z"
   },
   {
    "duration": 40,
    "start_time": "2025-04-04T18:50:35.052Z"
   },
   {
    "duration": 134,
    "start_time": "2025-04-04T18:50:35.094Z"
   },
   {
    "duration": 112,
    "start_time": "2025-04-04T18:50:35.230Z"
   },
   {
    "duration": 4,
    "start_time": "2025-04-04T18:50:35.344Z"
   },
   {
    "duration": 12,
    "start_time": "2025-04-04T18:50:35.350Z"
   },
   {
    "duration": 260,
    "start_time": "2025-04-04T18:50:35.364Z"
   },
   {
    "duration": 160,
    "start_time": "2025-04-04T18:50:35.626Z"
   },
   {
    "duration": 5,
    "start_time": "2025-04-04T18:50:35.788Z"
   },
   {
    "duration": 120,
    "start_time": "2025-04-04T18:50:35.795Z"
   },
   {
    "duration": 6,
    "start_time": "2025-04-04T18:50:35.917Z"
   },
   {
    "duration": 20,
    "start_time": "2025-04-04T18:50:35.924Z"
   },
   {
    "duration": 226,
    "start_time": "2025-04-04T18:50:35.945Z"
   },
   {
    "duration": 133,
    "start_time": "2025-04-04T18:50:36.173Z"
   },
   {
    "duration": 5,
    "start_time": "2025-04-04T18:50:36.308Z"
   },
   {
    "duration": 14,
    "start_time": "2025-04-04T18:50:36.314Z"
   },
   {
    "duration": 723,
    "start_time": "2025-04-04T18:50:36.330Z"
   },
   {
    "duration": 356,
    "start_time": "2025-04-04T18:50:37.056Z"
   },
   {
    "duration": 80,
    "start_time": "2025-04-04T18:50:37.414Z"
   },
   {
    "duration": 13,
    "start_time": "2025-04-04T18:50:37.496Z"
   },
   {
    "duration": 14,
    "start_time": "2025-04-04T18:50:37.515Z"
   },
   {
    "duration": 10,
    "start_time": "2025-04-04T18:50:44.584Z"
   },
   {
    "duration": 4,
    "start_time": "2025-04-04T18:51:04.278Z"
   },
   {
    "duration": 10,
    "start_time": "2025-04-04T18:51:21.753Z"
   },
   {
    "duration": 11,
    "start_time": "2025-04-04T18:56:03.636Z"
   },
   {
    "duration": 3,
    "start_time": "2025-04-04T19:01:54.292Z"
   },
   {
    "duration": 46,
    "start_time": "2025-04-04T19:02:25.157Z"
   },
   {
    "duration": 15,
    "start_time": "2025-04-04T19:03:31.623Z"
   },
   {
    "duration": 21,
    "start_time": "2025-04-04T19:03:39.648Z"
   }
  ],
  "colab": {
   "provenance": []
  },
  "kernelspec": {
   "display_name": "Python 3 (ipykernel)",
   "language": "python",
   "name": "python3"
  },
  "language_info": {
   "codemirror_mode": {
    "name": "ipython",
    "version": 3
   },
   "file_extension": ".py",
   "mimetype": "text/x-python",
   "name": "python",
   "nbconvert_exporter": "python",
   "pygments_lexer": "ipython3",
   "version": "3.9.19"
  },
  "toc": {
   "base_numbering": 1,
   "nav_menu": {},
   "number_sections": true,
   "sideBar": true,
   "skip_h1_title": true,
   "title_cell": "Table of Contents",
   "title_sidebar": "Contents",
   "toc_cell": false,
   "toc_position": {},
   "toc_section_display": true,
   "toc_window_display": false
  },
  "vscode": {
   "interpreter": {
    "hash": "01a7be9ec63e704a62cefc5fe7a4756944464ee731be31632bdf42a4cb4688cf"
   }
  }
 },
 "nbformat": 4,
 "nbformat_minor": 5
}
